{
 "cells": [
  {
   "cell_type": "code",
   "execution_count": 534,
   "id": "84a388a1-927e-481f-b6d8-c2516a08a664",
   "metadata": {},
   "outputs": [],
   "source": [
    "import numpy as np\n",
    "import pandas as pd\n",
    "import matplotlib.pyplot as plt\n",
    "import seaborn as sns\n",
    "import os"
   ]
  },
  {
   "cell_type": "code",
   "execution_count": 536,
   "id": "ebc35886-a224-4ab7-bf9f-9f5e15bb8a93",
   "metadata": {},
   "outputs": [
    {
     "data": {
      "text/html": [
       "<div>\n",
       "<style scoped>\n",
       "    .dataframe tbody tr th:only-of-type {\n",
       "        vertical-align: middle;\n",
       "    }\n",
       "\n",
       "    .dataframe tbody tr th {\n",
       "        vertical-align: top;\n",
       "    }\n",
       "\n",
       "    .dataframe thead th {\n",
       "        text-align: right;\n",
       "    }\n",
       "</style>\n",
       "<table border=\"1\" class=\"dataframe\">\n",
       "  <thead>\n",
       "    <tr style=\"text-align: right;\">\n",
       "      <th></th>\n",
       "      <th>price</th>\n",
       "      <th>area</th>\n",
       "      <th>bedrooms</th>\n",
       "      <th>bathrooms</th>\n",
       "      <th>stories</th>\n",
       "      <th>mainroad</th>\n",
       "      <th>guestroom</th>\n",
       "      <th>basement</th>\n",
       "      <th>hotwaterheating</th>\n",
       "      <th>airconditioning</th>\n",
       "      <th>parking</th>\n",
       "      <th>prefarea</th>\n",
       "      <th>furnishingstatus</th>\n",
       "    </tr>\n",
       "  </thead>\n",
       "  <tbody>\n",
       "    <tr>\n",
       "      <th>0</th>\n",
       "      <td>13300000</td>\n",
       "      <td>7420</td>\n",
       "      <td>4</td>\n",
       "      <td>2</td>\n",
       "      <td>3</td>\n",
       "      <td>yes</td>\n",
       "      <td>no</td>\n",
       "      <td>no</td>\n",
       "      <td>no</td>\n",
       "      <td>yes</td>\n",
       "      <td>2</td>\n",
       "      <td>yes</td>\n",
       "      <td>furnished</td>\n",
       "    </tr>\n",
       "    <tr>\n",
       "      <th>1</th>\n",
       "      <td>12250000</td>\n",
       "      <td>8960</td>\n",
       "      <td>4</td>\n",
       "      <td>4</td>\n",
       "      <td>4</td>\n",
       "      <td>yes</td>\n",
       "      <td>no</td>\n",
       "      <td>no</td>\n",
       "      <td>no</td>\n",
       "      <td>yes</td>\n",
       "      <td>3</td>\n",
       "      <td>no</td>\n",
       "      <td>furnished</td>\n",
       "    </tr>\n",
       "    <tr>\n",
       "      <th>2</th>\n",
       "      <td>12250000</td>\n",
       "      <td>9960</td>\n",
       "      <td>3</td>\n",
       "      <td>2</td>\n",
       "      <td>2</td>\n",
       "      <td>yes</td>\n",
       "      <td>no</td>\n",
       "      <td>yes</td>\n",
       "      <td>no</td>\n",
       "      <td>no</td>\n",
       "      <td>2</td>\n",
       "      <td>yes</td>\n",
       "      <td>semi-furnished</td>\n",
       "    </tr>\n",
       "    <tr>\n",
       "      <th>3</th>\n",
       "      <td>12215000</td>\n",
       "      <td>7500</td>\n",
       "      <td>4</td>\n",
       "      <td>2</td>\n",
       "      <td>2</td>\n",
       "      <td>yes</td>\n",
       "      <td>no</td>\n",
       "      <td>yes</td>\n",
       "      <td>no</td>\n",
       "      <td>yes</td>\n",
       "      <td>3</td>\n",
       "      <td>yes</td>\n",
       "      <td>furnished</td>\n",
       "    </tr>\n",
       "    <tr>\n",
       "      <th>4</th>\n",
       "      <td>11410000</td>\n",
       "      <td>7420</td>\n",
       "      <td>4</td>\n",
       "      <td>1</td>\n",
       "      <td>2</td>\n",
       "      <td>yes</td>\n",
       "      <td>yes</td>\n",
       "      <td>yes</td>\n",
       "      <td>no</td>\n",
       "      <td>yes</td>\n",
       "      <td>2</td>\n",
       "      <td>no</td>\n",
       "      <td>furnished</td>\n",
       "    </tr>\n",
       "  </tbody>\n",
       "</table>\n",
       "</div>"
      ],
      "text/plain": [
       "      price  area  bedrooms  bathrooms  stories mainroad guestroom basement  \\\n",
       "0  13300000  7420         4          2        3      yes        no       no   \n",
       "1  12250000  8960         4          4        4      yes        no       no   \n",
       "2  12250000  9960         3          2        2      yes        no      yes   \n",
       "3  12215000  7500         4          2        2      yes        no      yes   \n",
       "4  11410000  7420         4          1        2      yes       yes      yes   \n",
       "\n",
       "  hotwaterheating airconditioning  parking prefarea furnishingstatus  \n",
       "0              no             yes        2      yes        furnished  \n",
       "1              no             yes        3       no        furnished  \n",
       "2              no              no        2      yes   semi-furnished  \n",
       "3              no             yes        3      yes        furnished  \n",
       "4              no             yes        2       no        furnished  "
      ]
     },
     "execution_count": 536,
     "metadata": {},
     "output_type": "execute_result"
    }
   ],
   "source": [
    "housing = pd.DataFrame(pd.read_csv(\"Housing.csv\"))\n",
    "housing.head()"
   ]
  },
  {
   "cell_type": "code",
   "execution_count": 537,
   "id": "4b181390-e494-42de-b644-4c2aeab896f0",
   "metadata": {},
   "outputs": [
    {
     "data": {
      "text/plain": [
       "545"
      ]
     },
     "execution_count": 537,
     "metadata": {},
     "output_type": "execute_result"
    }
   ],
   "source": [
    "m = len(housing)\n",
    "m"
   ]
  },
  {
   "cell_type": "code",
   "execution_count": 538,
   "id": "68756f79-ce85-40e3-a8bb-f7286e3691d9",
   "metadata": {},
   "outputs": [
    {
     "data": {
      "text/plain": [
       "(545, 13)"
      ]
     },
     "execution_count": 538,
     "metadata": {},
     "output_type": "execute_result"
    }
   ],
   "source": [
    "housing.shape"
   ]
  },
  {
   "cell_type": "code",
   "execution_count": 539,
   "id": "d76d894a-d10e-48b9-b336-0918094cb6c1",
   "metadata": {},
   "outputs": [
    {
     "name": "stdout",
     "output_type": "stream",
     "text": [
      "       price  area  bedrooms  bathrooms  stories mainroad guestroom basement  \\\n",
      "454  3143000  4500         3          1        2      yes        no       no   \n",
      "392  3500000  3990         3          1        2      yes        no       no   \n",
      "231  4690000  4320         3          1        1      yes        no       no   \n",
      "271  4340000  1905         5          1        2       no        no      yes   \n",
      "250  4515000  3510         3          1        3      yes        no       no   \n",
      "\n",
      "    hotwaterheating airconditioning  parking prefarea furnishingstatus  \n",
      "454              no             yes        0       no      unfurnished  \n",
      "392              no              no        0       no   semi-furnished  \n",
      "231              no              no        0      yes   semi-furnished  \n",
      "271              no              no        0       no   semi-furnished  \n",
      "250              no              no        0       no   semi-furnished  \n"
     ]
    },
    {
     "data": {
      "text/plain": [
       "(381, 13)"
      ]
     },
     "execution_count": 539,
     "metadata": {},
     "output_type": "execute_result"
    }
   ],
   "source": [
    "# Split data into training and validation sets before proceeding\n",
    "from sklearn.model_selection import train_test_split\n",
    "np.random.seed(0)\n",
    "trainSet, validSet = train_test_split(housing, train_size = 0.7, test_size = 0.3)\n",
    "print(trainSet[:5])\n",
    "trainSet.shape"
   ]
  },
  {
   "cell_type": "code",
   "execution_count": 540,
   "id": "ddfd5efa-702b-4848-ac71-36c007555bd7",
   "metadata": {},
   "outputs": [
    {
     "name": "stdout",
     "output_type": "stream",
     "text": [
      "trainX1a =  [[4500 3 1 2]\n",
      " [3990 3 1 2]\n",
      " [4320 3 1 1]\n",
      " [1905 5 1 2]\n",
      " [3510 3 1 3]]\n",
      "Length of trainX1a  = 381\n"
     ]
    }
   ],
   "source": [
    "# \n",
    "#\n",
    "# Problem 1a: Training and Validation set loss\n",
    "#\n",
    "#\n",
    "area = trainSet.values[:,1]        #First plot loss w/ training set\n",
    "areaTrans = area.reshape(len(trainSet), 1)\n",
    "\n",
    "bed = trainSet.values[:,2]\n",
    "bedTrans = bed.reshape(len(trainSet), 1)\n",
    "\n",
    "bath = trainSet.values[:,3]\n",
    "bathTrans = bath.reshape(len(trainSet) , 1)\n",
    "\n",
    "stories = trainSet.values[:,4]\n",
    "storiesTrans = stories.reshape(len(trainSet) , 1)\n",
    "\n",
    "trainX1a = np.hstack((areaTrans,bedTrans,bathTrans,storiesTrans))\n",
    "print('trainX1a = ', trainX1a[: 5])\n",
    "print('Length of trainX1a  =', len(trainX1a))"
   ]
  },
  {
   "cell_type": "code",
   "execution_count": 541,
   "id": "c1a3ab41-c4a8-4982-8065-eef55e517420",
   "metadata": {},
   "outputs": [
    {
     "data": {
      "text/plain": [
       "array([[1.],\n",
       "       [1.],\n",
       "       [1.],\n",
       "       [1.],\n",
       "       [1.]])"
      ]
     },
     "execution_count": 541,
     "metadata": {},
     "output_type": "execute_result"
    }
   ],
   "source": [
    "X0 = np.ones((len(trainX1a) , 1))\n",
    "X0[:5]"
   ]
  },
  {
   "cell_type": "code",
   "execution_count": 542,
   "id": "3391efbe-4d62-4119-ad91-671bc91734cc",
   "metadata": {},
   "outputs": [
    {
     "name": "stdout",
     "output_type": "stream",
     "text": [
      "Training variables:\n"
     ]
    },
    {
     "data": {
      "text/plain": [
       "array([[1.0, 4500, 3, 1, 2],\n",
       "       [1.0, 3990, 3, 1, 2],\n",
       "       [1.0, 4320, 3, 1, 1],\n",
       "       [1.0, 1905, 5, 1, 2],\n",
       "       [1.0, 3510, 3, 1, 3]], dtype=object)"
      ]
     },
     "execution_count": 542,
     "metadata": {},
     "output_type": "execute_result"
    }
   ],
   "source": [
    "trainVarsX1a = np.hstack((X0,trainX1a))\n",
    "print('Training variables:')\n",
    "trainVarsX1a[:5]"
   ]
  },
  {
   "cell_type": "code",
   "execution_count": 543,
   "id": "f9584492-de89-48f8-9585-b6095eabbfc9",
   "metadata": {},
   "outputs": [
    {
     "name": "stdout",
     "output_type": "stream",
     "text": [
      "trainY =  [3143000 3500000 4690000 4340000 4515000]\n",
      "thetas1a = [0.0, 0.0, 0.0, 0.0, 0.0]\n"
     ]
    }
   ],
   "source": [
    "trainY = trainSet.values[:,0]\n",
    "thetas1a = [0.0, 0.0, 0.0, 0.0, 0.0]\n",
    "print('trainY = ', trainY[:5])\n",
    "print('thetas1a =', thetas1a)"
   ]
  },
  {
   "cell_type": "code",
   "execution_count": 544,
   "id": "b15c8785-d782-4839-bb3f-8b781d05aeb8",
   "metadata": {},
   "outputs": [
    {
     "name": "stdout",
     "output_type": "stream",
     "text": [
      "validX1a =  [[4000 3 1 2]\n",
      " [9620 3 1 1]\n",
      " [3460 4 1 2]\n",
      " [13200 2 1 1]\n",
      " [3660 4 1 2]]\n",
      "Length of validX1a  = 164\n"
     ]
    }
   ],
   "source": [
    "# Repeat with Validation set\n",
    "area = validSet.values[:,1]        \n",
    "areaTrans = area.reshape(len(validSet), 1)\n",
    "\n",
    "bed = validSet.values[:,2]\n",
    "bedTrans = bed.reshape(len(validSet), 1)\n",
    "\n",
    "bath = validSet.values[:,3]\n",
    "bathTrans = bath.reshape(len(validSet) , 1)\n",
    "\n",
    "stories = validSet.values[:,4]\n",
    "storiesTrans = stories.reshape(len(validSet) , 1)\n",
    "\n",
    "validX1a = np.hstack((areaTrans,bedTrans,bathTrans,storiesTrans))\n",
    "print('validX1a = ', validX1a[: 5])\n",
    "print('Length of validX1a  =', len(validX1a))"
   ]
  },
  {
   "cell_type": "code",
   "execution_count": 545,
   "id": "87692e67-c666-44f3-99c5-753018814bf2",
   "metadata": {},
   "outputs": [
    {
     "data": {
      "text/plain": [
       "array([[1.],\n",
       "       [1.],\n",
       "       [1.],\n",
       "       [1.],\n",
       "       [1.]])"
      ]
     },
     "execution_count": 545,
     "metadata": {},
     "output_type": "execute_result"
    }
   ],
   "source": [
    "X0 = np.ones((len(validX1a) , 1))\n",
    "X0[:5]"
   ]
  },
  {
   "cell_type": "code",
   "execution_count": 546,
   "id": "70ab22dc-3de2-47b6-bb17-bb7b5a43830c",
   "metadata": {},
   "outputs": [
    {
     "name": "stdout",
     "output_type": "stream",
     "text": [
      "Validation variables:\n"
     ]
    },
    {
     "data": {
      "text/plain": [
       "array([[1.0, 4000, 3, 1, 2],\n",
       "       [1.0, 9620, 3, 1, 1],\n",
       "       [1.0, 3460, 4, 1, 2],\n",
       "       [1.0, 13200, 2, 1, 1],\n",
       "       [1.0, 3660, 4, 1, 2]], dtype=object)"
      ]
     },
     "execution_count": 546,
     "metadata": {},
     "output_type": "execute_result"
    }
   ],
   "source": [
    "validVarsX1a = np.hstack((X0,validX1a))\n",
    "print('Validation variables:')\n",
    "validVarsX1a[:5]"
   ]
  },
  {
   "cell_type": "code",
   "execution_count": 547,
   "id": "3588dc60-7193-4267-8527-321b52ececd7",
   "metadata": {},
   "outputs": [
    {
     "name": "stdout",
     "output_type": "stream",
     "text": [
      "validY =  [4585000 6083000 4007500 6930000 2940000]\n"
     ]
    }
   ],
   "source": [
    "validY = validSet.values[:,0]\n",
    "print('validY = ', validY[:5])"
   ]
  },
  {
   "cell_type": "code",
   "execution_count": 548,
   "id": "c57e546e-4733-43ac-acde-a611329c597b",
   "metadata": {},
   "outputs": [],
   "source": [
    "# loss function\n",
    "def loss(X, Y, theta):\n",
    "    \n",
    "    predictions = X.dot(theta)                # h(x) = theta * X\n",
    "    errors = np.subtract(predictions, Y)      # h(x) - Y\n",
    "    sqrErrors = np.square(errors)             # (h(x) - Y)^2\n",
    "    J = 1 / (2*m) * np.sum(sqrErrors)         # J = 1/2m * sigma( (h(x) - Y)^2 )\n",
    "    return J\n"
   ]
  },
  {
   "cell_type": "code",
   "execution_count": 549,
   "id": "6b74b782-2cba-4a70-a71b-4899514ec2cd",
   "metadata": {},
   "outputs": [
    {
     "name": "stdout",
     "output_type": "stream",
     "text": [
      "The cost for the 1a thetas is: 9170960481173.027\n"
     ]
    }
   ],
   "source": [
    "cost = loss(trainVarsX1a, trainY, thetas1a)\n",
    "print('The cost for the 1a thetas is:',cost)"
   ]
  },
  {
   "cell_type": "code",
   "execution_count": 550,
   "id": "01e6a6b5-3221-41bb-baa2-1290c1015d10",
   "metadata": {},
   "outputs": [],
   "source": [
    "# gradient descent function\n",
    "def gradient(X, Y, theta, alpha, iterations, vX, vY):\n",
    "    \n",
    "    lossHistory = np.zeros(iterations)\n",
    "    lossHistoryV = np.zeros(iterations)\n",
    "    \n",
    "    for i in range(iterations):\n",
    "        predictions = X.dot(theta)\n",
    "        errors = np.subtract(predictions, Y)\n",
    "        derivative = alpha * (1/m) * X.transpose().dot(errors)\n",
    "        theta = theta - derivative\n",
    "        lossHistory[i] = loss(X, Y, theta)\n",
    "        lossHistoryV[i] = loss(vX, vY, theta)\n",
    "    \n",
    "    return theta, lossHistory, lossHistoryV\n"
   ]
  },
  {
   "cell_type": "code",
   "execution_count": 551,
   "id": "ceb1e6cd-2743-46ed-865f-6fdf61c17290",
   "metadata": {},
   "outputs": [
    {
     "name": "stdout",
     "output_type": "stream",
     "text": [
      "Final thetas: [0.7926904300997124 880.9382506869564 3.0855339492315714\n",
      " 1.7130217121339268 2.5393783258658424]\n",
      "Training set loss history [8.84315901e+12 8.52876187e+12 8.22722092e+12 ... 1.15460022e+12\n",
      " 1.15460022e+12 1.15460022e+12]\n",
      "Validation set loss history [3.78258453e+12 3.63577492e+12 3.49525272e+12 ... 5.28713334e+11\n",
      " 5.28713333e+11 5.28713332e+11]\n"
     ]
    }
   ],
   "source": [
    "iterations = 3000      \n",
    "alpha = 0.000000001           \n",
    "finalThetas1a, lossHistory1a, lossHistoryV1a = gradient(trainVarsX1a, trainY, thetas1a, alpha, iterations, validVarsX1a, validY)\n",
    "print('Final thetas:', finalThetas1a)\n",
    "print('Training set loss history', lossHistory1a)\n",
    "print('Validation set loss history', lossHistoryV1a)"
   ]
  },
  {
   "cell_type": "code",
   "execution_count": 552,
   "id": "05d6457c-873e-45d3-a416-dea6ad14e453",
   "metadata": {},
   "outputs": [
    {
     "data": {
      "text/plain": [
       "<matplotlib.legend.Legend at 0x7fb7b1d7ba60>"
      ]
     },
     "execution_count": 552,
     "metadata": {},
     "output_type": "execute_result"
    },
    {
     "data": {
      "image/png": "[encoded data removed]",
      "text/plain": [
       "<Figure size 720x432 with 1 Axes>"
      ]
     },
     "metadata": {
      "needs_background": "light"
     },
     "output_type": "display_data"
    }
   ],
   "source": [
    "plt.plot(range(1, iterations + 1), lossHistory1a, color = 'blue', label = 'Training Set')\n",
    "plt.plot(range(1, iterations + 1), lossHistoryV1a, color = 'red', label = 'Validation Set')\n",
    "plt.rcParams[\"figure.figsize\"] = (10,6) \n",
    "plt.grid() \n",
    "plt.xlabel('Number of iterations') \n",
    "plt.ylabel('Loss (J)') \n",
    "plt.title('1a: Convergence of Gradient Descent for Training and Validation') \n",
    "plt.legend()"
   ]
  },
  {
   "cell_type": "code",
   "execution_count": 553,
   "id": "0b7d792c-00e7-4db0-bf0d-8ea7f852947c",
   "metadata": {},
   "outputs": [
    {
     "data": {
      "text/html": [
       "<div>\n",
       "<style scoped>\n",
       "    .dataframe tbody tr th:only-of-type {\n",
       "        vertical-align: middle;\n",
       "    }\n",
       "\n",
       "    .dataframe tbody tr th {\n",
       "        vertical-align: top;\n",
       "    }\n",
       "\n",
       "    .dataframe thead th {\n",
       "        text-align: right;\n",
       "    }\n",
       "</style>\n",
       "<table border=\"1\" class=\"dataframe\">\n",
       "  <thead>\n",
       "    <tr style=\"text-align: right;\">\n",
       "      <th></th>\n",
       "      <th>price</th>\n",
       "      <th>area</th>\n",
       "      <th>bedrooms</th>\n",
       "      <th>bathrooms</th>\n",
       "      <th>stories</th>\n",
       "      <th>mainroad</th>\n",
       "      <th>guestroom</th>\n",
       "      <th>basement</th>\n",
       "      <th>hotwaterheating</th>\n",
       "      <th>airconditioning</th>\n",
       "      <th>parking</th>\n",
       "      <th>prefarea</th>\n",
       "      <th>furnishingstatus</th>\n",
       "    </tr>\n",
       "  </thead>\n",
       "  <tbody>\n",
       "    <tr>\n",
       "      <th>0</th>\n",
       "      <td>13300000</td>\n",
       "      <td>7420</td>\n",
       "      <td>4</td>\n",
       "      <td>2</td>\n",
       "      <td>3</td>\n",
       "      <td>yes</td>\n",
       "      <td>no</td>\n",
       "      <td>no</td>\n",
       "      <td>no</td>\n",
       "      <td>yes</td>\n",
       "      <td>2</td>\n",
       "      <td>yes</td>\n",
       "      <td>furnished</td>\n",
       "    </tr>\n",
       "    <tr>\n",
       "      <th>1</th>\n",
       "      <td>12250000</td>\n",
       "      <td>8960</td>\n",
       "      <td>4</td>\n",
       "      <td>4</td>\n",
       "      <td>4</td>\n",
       "      <td>yes</td>\n",
       "      <td>no</td>\n",
       "      <td>no</td>\n",
       "      <td>no</td>\n",
       "      <td>yes</td>\n",
       "      <td>3</td>\n",
       "      <td>no</td>\n",
       "      <td>furnished</td>\n",
       "    </tr>\n",
       "    <tr>\n",
       "      <th>2</th>\n",
       "      <td>12250000</td>\n",
       "      <td>9960</td>\n",
       "      <td>3</td>\n",
       "      <td>2</td>\n",
       "      <td>2</td>\n",
       "      <td>yes</td>\n",
       "      <td>no</td>\n",
       "      <td>yes</td>\n",
       "      <td>no</td>\n",
       "      <td>no</td>\n",
       "      <td>2</td>\n",
       "      <td>yes</td>\n",
       "      <td>semi-furnished</td>\n",
       "    </tr>\n",
       "    <tr>\n",
       "      <th>3</th>\n",
       "      <td>12215000</td>\n",
       "      <td>7500</td>\n",
       "      <td>4</td>\n",
       "      <td>2</td>\n",
       "      <td>2</td>\n",
       "      <td>yes</td>\n",
       "      <td>no</td>\n",
       "      <td>yes</td>\n",
       "      <td>no</td>\n",
       "      <td>yes</td>\n",
       "      <td>3</td>\n",
       "      <td>yes</td>\n",
       "      <td>furnished</td>\n",
       "    </tr>\n",
       "    <tr>\n",
       "      <th>4</th>\n",
       "      <td>11410000</td>\n",
       "      <td>7420</td>\n",
       "      <td>4</td>\n",
       "      <td>1</td>\n",
       "      <td>2</td>\n",
       "      <td>yes</td>\n",
       "      <td>yes</td>\n",
       "      <td>yes</td>\n",
       "      <td>no</td>\n",
       "      <td>yes</td>\n",
       "      <td>2</td>\n",
       "      <td>no</td>\n",
       "      <td>furnished</td>\n",
       "    </tr>\n",
       "  </tbody>\n",
       "</table>\n",
       "</div>"
      ],
      "text/plain": [
       "      price  area  bedrooms  bathrooms  stories mainroad guestroom basement  \\\n",
       "0  13300000  7420         4          2        3      yes        no       no   \n",
       "1  12250000  8960         4          4        4      yes        no       no   \n",
       "2  12250000  9960         3          2        2      yes        no      yes   \n",
       "3  12215000  7500         4          2        2      yes        no      yes   \n",
       "4  11410000  7420         4          1        2      yes       yes      yes   \n",
       "\n",
       "  hotwaterheating airconditioning  parking prefarea furnishingstatus  \n",
       "0              no             yes        2      yes        furnished  \n",
       "1              no             yes        3       no        furnished  \n",
       "2              no              no        2      yes   semi-furnished  \n",
       "3              no             yes        3      yes        furnished  \n",
       "4              no             yes        2       no        furnished  "
      ]
     },
     "execution_count": 553,
     "metadata": {},
     "output_type": "execute_result"
    }
   ],
   "source": [
    "# \n",
    "#\n",
    "# Problem 1b: Training and Validation set loss with binary variables\n",
    "#\n",
    "#\n",
    "housing.head()"
   ]
  },
  {
   "cell_type": "code",
   "execution_count": 554,
   "id": "3a9a1795-7209-4094-b5fc-50313f07a983",
   "metadata": {},
   "outputs": [
    {
     "data": {
      "text/html": [
       "<div>\n",
       "<style scoped>\n",
       "    .dataframe tbody tr th:only-of-type {\n",
       "        vertical-align: middle;\n",
       "    }\n",
       "\n",
       "    .dataframe tbody tr th {\n",
       "        vertical-align: top;\n",
       "    }\n",
       "\n",
       "    .dataframe thead th {\n",
       "        text-align: right;\n",
       "    }\n",
       "</style>\n",
       "<table border=\"1\" class=\"dataframe\">\n",
       "  <thead>\n",
       "    <tr style=\"text-align: right;\">\n",
       "      <th></th>\n",
       "      <th>price</th>\n",
       "      <th>area</th>\n",
       "      <th>bedrooms</th>\n",
       "      <th>bathrooms</th>\n",
       "      <th>stories</th>\n",
       "      <th>mainroad</th>\n",
       "      <th>guestroom</th>\n",
       "      <th>basement</th>\n",
       "      <th>hotwaterheating</th>\n",
       "      <th>airconditioning</th>\n",
       "      <th>parking</th>\n",
       "      <th>prefarea</th>\n",
       "      <th>furnishingstatus</th>\n",
       "    </tr>\n",
       "  </thead>\n",
       "  <tbody>\n",
       "    <tr>\n",
       "      <th>0</th>\n",
       "      <td>13300000</td>\n",
       "      <td>7420</td>\n",
       "      <td>4</td>\n",
       "      <td>2</td>\n",
       "      <td>3</td>\n",
       "      <td>1</td>\n",
       "      <td>0</td>\n",
       "      <td>0</td>\n",
       "      <td>0</td>\n",
       "      <td>1</td>\n",
       "      <td>2</td>\n",
       "      <td>1</td>\n",
       "      <td>furnished</td>\n",
       "    </tr>\n",
       "    <tr>\n",
       "      <th>1</th>\n",
       "      <td>12250000</td>\n",
       "      <td>8960</td>\n",
       "      <td>4</td>\n",
       "      <td>4</td>\n",
       "      <td>4</td>\n",
       "      <td>1</td>\n",
       "      <td>0</td>\n",
       "      <td>0</td>\n",
       "      <td>0</td>\n",
       "      <td>1</td>\n",
       "      <td>3</td>\n",
       "      <td>0</td>\n",
       "      <td>furnished</td>\n",
       "    </tr>\n",
       "    <tr>\n",
       "      <th>2</th>\n",
       "      <td>12250000</td>\n",
       "      <td>9960</td>\n",
       "      <td>3</td>\n",
       "      <td>2</td>\n",
       "      <td>2</td>\n",
       "      <td>1</td>\n",
       "      <td>0</td>\n",
       "      <td>1</td>\n",
       "      <td>0</td>\n",
       "      <td>0</td>\n",
       "      <td>2</td>\n",
       "      <td>1</td>\n",
       "      <td>semi-furnished</td>\n",
       "    </tr>\n",
       "    <tr>\n",
       "      <th>3</th>\n",
       "      <td>12215000</td>\n",
       "      <td>7500</td>\n",
       "      <td>4</td>\n",
       "      <td>2</td>\n",
       "      <td>2</td>\n",
       "      <td>1</td>\n",
       "      <td>0</td>\n",
       "      <td>1</td>\n",
       "      <td>0</td>\n",
       "      <td>1</td>\n",
       "      <td>3</td>\n",
       "      <td>1</td>\n",
       "      <td>furnished</td>\n",
       "    </tr>\n",
       "    <tr>\n",
       "      <th>4</th>\n",
       "      <td>11410000</td>\n",
       "      <td>7420</td>\n",
       "      <td>4</td>\n",
       "      <td>1</td>\n",
       "      <td>2</td>\n",
       "      <td>1</td>\n",
       "      <td>1</td>\n",
       "      <td>1</td>\n",
       "      <td>0</td>\n",
       "      <td>1</td>\n",
       "      <td>2</td>\n",
       "      <td>0</td>\n",
       "      <td>furnished</td>\n",
       "    </tr>\n",
       "  </tbody>\n",
       "</table>\n",
       "</div>"
      ],
      "text/plain": [
       "      price  area  bedrooms  bathrooms  stories  mainroad  guestroom  \\\n",
       "0  13300000  7420         4          2        3         1          0   \n",
       "1  12250000  8960         4          4        4         1          0   \n",
       "2  12250000  9960         3          2        2         1          0   \n",
       "3  12215000  7500         4          2        2         1          0   \n",
       "4  11410000  7420         4          1        2         1          1   \n",
       "\n",
       "   basement  hotwaterheating  airconditioning  parking  prefarea  \\\n",
       "0         0                0                1        2         1   \n",
       "1         0                0                1        3         0   \n",
       "2         1                0                0        2         1   \n",
       "3         1                0                1        3         1   \n",
       "4         1                0                1        2         0   \n",
       "\n",
       "  furnishingstatus  \n",
       "0        furnished  \n",
       "1        furnished  \n",
       "2   semi-furnished  \n",
       "3        furnished  \n",
       "4        furnished  "
      ]
     },
     "execution_count": 554,
     "metadata": {},
     "output_type": "execute_result"
    }
   ],
   "source": [
    "# Map yes and no variables to binary values\n",
    "varsList = ['mainroad', 'guestroom', 'basement', 'hotwaterheating', 'airconditioning', 'prefarea']\n",
    "\n",
    "def binary_map(x):\n",
    "    return x.map({'yes':1, 'no':0})\n",
    "\n",
    "housing[varsList] = housing[varsList].apply(binary_map)\n",
    "housing.head()"
   ]
  },
  {
   "cell_type": "code",
   "execution_count": 555,
   "id": "7d1e746f-9005-4368-8470-87187b10165d",
   "metadata": {},
   "outputs": [
    {
     "name": "stdout",
     "output_type": "stream",
     "text": [
      "       price  area  bedrooms  bathrooms  stories  mainroad  guestroom  \\\n",
      "454  3143000  4500         3          1        2         1          0   \n",
      "392  3500000  3990         3          1        2         1          0   \n",
      "231  4690000  4320         3          1        1         1          0   \n",
      "271  4340000  1905         5          1        2         0          0   \n",
      "250  4515000  3510         3          1        3         1          0   \n",
      "\n",
      "     basement  hotwaterheating  airconditioning  parking  prefarea  \\\n",
      "454         0                0                1        0         0   \n",
      "392         0                0                0        0         0   \n",
      "231         0                0                0        0         1   \n",
      "271         1                0                0        0         0   \n",
      "250         0                0                0        0         0   \n",
      "\n",
      "    furnishingstatus  \n",
      "454      unfurnished  \n",
      "392   semi-furnished  \n",
      "231   semi-furnished  \n",
      "271   semi-furnished  \n",
      "250   semi-furnished  \n"
     ]
    },
    {
     "data": {
      "text/plain": [
       "(381, 13)"
      ]
     },
     "execution_count": 555,
     "metadata": {},
     "output_type": "execute_result"
    }
   ],
   "source": [
    "from sklearn.model_selection import train_test_split\n",
    "np.random.seed(0)\n",
    "trainSet, validSet = train_test_split(housing, train_size = 0.7, test_size = 0.3)\n",
    "print(trainSet[:5])\n",
    "trainSet.shape"
   ]
  },
  {
   "cell_type": "code",
   "execution_count": 556,
   "id": "ea14d87d-1e7d-467e-92fc-dfd149fc5151",
   "metadata": {},
   "outputs": [
    {
     "name": "stdout",
     "output_type": "stream",
     "text": [
      "trainX1b =  [[4500 3 1 2 1 0 0 0 1 0 0]\n",
      " [3990 3 1 2 1 0 0 0 0 0 0]\n",
      " [4320 3 1 1 1 0 0 0 0 0 1]\n",
      " [1905 5 1 2 0 0 1 0 0 0 0]\n",
      " [3510 3 1 3 1 0 0 0 0 0 0]]\n",
      "Length of trainX1b  = 381\n"
     ]
    }
   ],
   "source": [
    "area = trainSet.values[:,1]        #First plot loss w/ training set\n",
    "areaT = area.reshape(len(trainSet), 1)\n",
    "\n",
    "bed = trainSet.values[:,2]\n",
    "bedT = bed.reshape(len(trainSet), 1)\n",
    "\n",
    "bath = trainSet.values[:,3]\n",
    "bathT = bath.reshape(len(trainSet) , 1)\n",
    "\n",
    "stories = trainSet.values[:,4]\n",
    "storiesT = stories.reshape(len(trainSet) , 1)\n",
    "\n",
    "mainroad = trainSet.values[:,5]\n",
    "mainroadT = mainroad.reshape(len(trainSet) , 1)\n",
    "\n",
    "guest = trainSet.values[:,6]\n",
    "guestT = guest.reshape(len(trainSet) , 1)\n",
    "\n",
    "base = trainSet.values[:,7]\n",
    "baseT = base.reshape(len(trainSet) , 1)\n",
    "\n",
    "hotwater = trainSet.values[:,8]\n",
    "hotwaterT = hotwater.reshape(len(trainSet) , 1)\n",
    "\n",
    "aircon = trainSet.values[:,9]\n",
    "airconT = aircon.reshape(len(trainSet) , 1)\n",
    "\n",
    "parking = trainSet.values[:,10]\n",
    "parkingT = parking.reshape(len(trainSet) , 1)\n",
    "\n",
    "prefarea = trainSet.values[:,11]\n",
    "prefareaT = prefarea.reshape(len(trainSet) , 1)\n",
    "\n",
    "trainX1b = np.hstack((areaT,bedT,bathT,storiesT,mainroadT,guestT,baseT,hotwaterT,airconT,parkingT,prefareaT))\n",
    "print('trainX1b = ', trainX1b[: 5])\n",
    "print('Length of trainX1b  =', len(trainX1b))"
   ]
  },
  {
   "cell_type": "code",
   "execution_count": 557,
   "id": "3c54c7d9-c700-4618-afaf-30c4127e2ac6",
   "metadata": {},
   "outputs": [
    {
     "name": "stdout",
     "output_type": "stream",
     "text": [
      "Training non-binary and binary variables:\n"
     ]
    },
    {
     "data": {
      "text/plain": [
       "array([[1.0, 4500, 3, 1, 2, 1, 0, 0, 0, 1, 0, 0],\n",
       "       [1.0, 3990, 3, 1, 2, 1, 0, 0, 0, 0, 0, 0],\n",
       "       [1.0, 4320, 3, 1, 1, 1, 0, 0, 0, 0, 0, 1],\n",
       "       [1.0, 1905, 5, 1, 2, 0, 0, 1, 0, 0, 0, 0],\n",
       "       [1.0, 3510, 3, 1, 3, 1, 0, 0, 0, 0, 0, 0]], dtype=object)"
      ]
     },
     "execution_count": 557,
     "metadata": {},
     "output_type": "execute_result"
    }
   ],
   "source": [
    "X0 = np.ones((len(trainX1b) , 1))\n",
    "trainVarsX1b = np.hstack((X0,trainX1b))\n",
    "print('Training non-binary and binary variables:')\n",
    "trainVarsX1b[:5]"
   ]
  },
  {
   "cell_type": "code",
   "execution_count": 558,
   "id": "2a69be6e-f2dc-4b1b-80ff-5ecd0ce6e231",
   "metadata": {},
   "outputs": [
    {
     "name": "stdout",
     "output_type": "stream",
     "text": [
      "trainYb =  [3143000 3500000 4690000 4340000 4515000]\n",
      "thetas1b = [0. 0. 0. 0. 0. 0. 0. 0. 0. 0. 0. 0.]\n"
     ]
    }
   ],
   "source": [
    "trainYb = trainSet.values[:,0]\n",
    "thetas1b = np.zeros(12)\n",
    "print('trainYb = ', trainYb[:5])\n",
    "print('thetas1b =', thetas1b)"
   ]
  },
  {
   "cell_type": "code",
   "execution_count": 559,
   "id": "a535ecae-b1ef-4182-aac2-ccfe63120387",
   "metadata": {},
   "outputs": [
    {
     "name": "stdout",
     "output_type": "stream",
     "text": [
      "       price   area  bedrooms  bathrooms  stories  mainroad  guestroom  \\\n",
      "239  4585000   4000         3          1        2         1          0   \n",
      "113  6083000   9620         3          1        1         1          0   \n",
      "325  4007500   3460         4          1        2         1          0   \n",
      "66   6930000  13200         2          1        1         1          0   \n",
      "479  2940000   3660         4          1        2         0          0   \n",
      "\n",
      "     basement  hotwaterheating  airconditioning  parking  prefarea  \\\n",
      "239         0                0                0        1         0   \n",
      "113         1                0                0        2         1   \n",
      "325         0                0                1        0         0   \n",
      "66          1                1                0        1         0   \n",
      "479         0                0                0        0         0   \n",
      "\n",
      "    furnishingstatus  \n",
      "239        furnished  \n",
      "113        furnished  \n",
      "325   semi-furnished  \n",
      "66         furnished  \n",
      "479      unfurnished  \n"
     ]
    }
   ],
   "source": [
    "print(validSet[:5])"
   ]
  },
  {
   "cell_type": "code",
   "execution_count": 560,
   "id": "d0d6e50c-2afa-4ae2-8785-33df36678a18",
   "metadata": {},
   "outputs": [
    {
     "name": "stdout",
     "output_type": "stream",
     "text": [
      "validX1b =  [[4000 3 1 2 1 0 0 0 0 1 0]\n",
      " [9620 3 1 1 1 0 1 0 0 2 1]\n",
      " [3460 4 1 2 1 0 0 0 1 0 0]\n",
      " [13200 2 1 1 1 0 1 1 0 1 0]\n",
      " [3660 4 1 2 0 0 0 0 0 0 0]]\n",
      "Length of validX1b  = 164\n"
     ]
    }
   ],
   "source": [
    "area = validSet.values[:,1]        #Loss w/ validation set\n",
    "areaT = area.reshape(len(validSet), 1)\n",
    "\n",
    "bed = validSet.values[:,2]\n",
    "bedT = bed.reshape(len(validSet), 1)\n",
    "\n",
    "bath = validSet.values[:,3]\n",
    "bathT = bath.reshape(len(validSet) , 1)\n",
    "\n",
    "stories = validSet.values[:,4]\n",
    "storiesT = stories.reshape(len(validSet) , 1)\n",
    "\n",
    "mainroad = validSet.values[:,5]\n",
    "mainroadT = mainroad.reshape(len(validSet) , 1)\n",
    "\n",
    "guest = validSet.values[:,6]\n",
    "guestT = guest.reshape(len(validSet) , 1)\n",
    "\n",
    "base = validSet.values[:,7]\n",
    "baseT = base.reshape(len(validSet) , 1)\n",
    "\n",
    "hotwater = validSet.values[:,8]\n",
    "hotwaterT = hotwater.reshape(len(validSet) , 1)\n",
    "\n",
    "aircon = validSet.values[:,9]\n",
    "airconT = aircon.reshape(len(validSet) , 1)\n",
    "\n",
    "parking = validSet.values[:,10]\n",
    "parkingT = parking.reshape(len(validSet) , 1)\n",
    "\n",
    "prefarea = validSet.values[:,11]\n",
    "prefareaT = prefarea.reshape(len(validSet) , 1)\n",
    "\n",
    "validX1b = np.hstack((areaT,bedT,bathT,storiesT,mainroadT,guestT,baseT,hotwaterT,airconT,parkingT,prefareaT))\n",
    "print('validX1b = ', validX1b[: 5])\n",
    "print('Length of validX1b  =', len(validX1b))"
   ]
  },
  {
   "cell_type": "code",
   "execution_count": 561,
   "id": "db833b60-982f-4283-8995-9903aabb84f9",
   "metadata": {},
   "outputs": [
    {
     "name": "stdout",
     "output_type": "stream",
     "text": [
      "Validation non-binary and binary variables:\n"
     ]
    },
    {
     "data": {
      "text/plain": [
       "array([[1.0, 4000, 3, 1, 2, 1, 0, 0, 0, 0, 1, 0],\n",
       "       [1.0, 9620, 3, 1, 1, 1, 0, 1, 0, 0, 2, 1],\n",
       "       [1.0, 3460, 4, 1, 2, 1, 0, 0, 0, 1, 0, 0],\n",
       "       [1.0, 13200, 2, 1, 1, 1, 0, 1, 1, 0, 1, 0],\n",
       "       [1.0, 3660, 4, 1, 2, 0, 0, 0, 0, 0, 0, 0]], dtype=object)"
      ]
     },
     "execution_count": 561,
     "metadata": {},
     "output_type": "execute_result"
    }
   ],
   "source": [
    "X0 = np.ones((len(validX1b) , 1))\n",
    "validVarsX1b = np.hstack((X0,validX1b))\n",
    "print('Validation non-binary and binary variables:')\n",
    "validVarsX1b[:5]"
   ]
  },
  {
   "cell_type": "code",
   "execution_count": 562,
   "id": "923b2c5d-e693-4635-b5ea-f4ebb26e6122",
   "metadata": {},
   "outputs": [
    {
     "name": "stdout",
     "output_type": "stream",
     "text": [
      "validYb =  [4585000 6083000 4007500 6930000 2940000]\n"
     ]
    }
   ],
   "source": [
    "validYb = validSet.values[:,0]\n",
    "print('validYb = ', validYb[:5])"
   ]
  },
  {
   "cell_type": "code",
   "execution_count": 563,
   "id": "6eb078f5-9359-4053-a2b6-53d6c00751a7",
   "metadata": {},
   "outputs": [
    {
     "name": "stdout",
     "output_type": "stream",
     "text": [
      "The cost for the 1b thetas is: 9170960481173.027\n"
     ]
    }
   ],
   "source": [
    "cost = loss(trainVarsX1b, trainYb, thetas1b)\n",
    "print('The cost for the 1b thetas is:',cost)"
   ]
  },
  {
   "cell_type": "code",
   "execution_count": 564,
   "id": "61b3ebc3-5f24-47c7-be27-03f99319530d",
   "metadata": {},
   "outputs": [
    {
     "name": "stdout",
     "output_type": "stream",
     "text": [
      "Final thetas: [0.7926902857786174 880.937939893957 3.085533414620161 1.7130214285594407\n",
      " 2.5393780380562063 0.7022547802994992 0.3380710711556625\n",
      " 0.5881271704669561 0.16603563866531265 0.6672128435122959\n",
      " 0.6851441809148401 0.35667326793558424]\n",
      "Training set loss history [8.84315899e+12 8.52876183e+12 8.22722086e+12 ... 1.15459964e+12\n",
      " 1.15459964e+12 1.15459964e+12]\n",
      "Validation set loss history [3.78258452e+12 3.63577490e+12 3.49525269e+12 ... 5.28713004e+11\n",
      " 5.28713003e+11 5.28713002e+11]\n"
     ]
    }
   ],
   "source": [
    "iterations = 3000      \n",
    "alpha = 0.000000001           \n",
    "finalThetas1b, lossHistory1b, lossHistoryV1b = gradient(trainVarsX1b, trainYb, thetas1b, alpha, iterations, validVarsX1b, validYb)\n",
    "print('Final thetas:', finalThetas1b)\n",
    "print('Training set loss history', lossHistory1b)\n",
    "print('Validation set loss history', lossHistoryV1b)"
   ]
  },
  {
   "cell_type": "code",
   "execution_count": 565,
   "id": "3dd51f4d-1068-40bb-881f-a7ee92d0b5bd",
   "metadata": {},
   "outputs": [
    {
     "data": {
      "text/plain": [
       "<matplotlib.legend.Legend at 0x7fb7b20ccfa0>"
      ]
     },
     "execution_count": 565,
     "metadata": {},
     "output_type": "execute_result"
    },
    {
     "data": {
      "image/png": "[encoded data removed]",
      "text/plain": [
       "<Figure size 720x432 with 1 Axes>"
      ]
     },
     "metadata": {
      "needs_background": "light"
     },
     "output_type": "display_data"
    }
   ],
   "source": [
    "plt.plot(range(1, iterations + 1), lossHistory1b, color = 'blue', label = 'Training Set')\n",
    "plt.plot(range(1, iterations + 1), lossHistoryV1b, color = 'red', label = 'Validation Set')\n",
    "plt.rcParams[\"figure.figsize\"] = (10,6) \n",
    "plt.grid() \n",
    "plt.xlabel('Number of iterations') \n",
    "plt.ylabel('Loss (J)') \n",
    "plt.title('1b: Convergence of Gradient Descent for Training and Validation with Binaries') \n",
    "plt.legend()"
   ]
  },
  {
   "cell_type": "code",
   "execution_count": 566,
   "id": "70eaffc2-0164-493b-8237-cfd82bb2fcc3",
   "metadata": {},
   "outputs": [
    {
     "data": {
      "text/html": [
       "<div>\n",
       "<style scoped>\n",
       "    .dataframe tbody tr th:only-of-type {\n",
       "        vertical-align: middle;\n",
       "    }\n",
       "\n",
       "    .dataframe tbody tr th {\n",
       "        vertical-align: top;\n",
       "    }\n",
       "\n",
       "    .dataframe thead th {\n",
       "        text-align: right;\n",
       "    }\n",
       "</style>\n",
       "<table border=\"1\" class=\"dataframe\">\n",
       "  <thead>\n",
       "    <tr style=\"text-align: right;\">\n",
       "      <th></th>\n",
       "      <th>area</th>\n",
       "      <th>bedrooms</th>\n",
       "      <th>bathrooms</th>\n",
       "      <th>stories</th>\n",
       "      <th>parking</th>\n",
       "      <th>price</th>\n",
       "    </tr>\n",
       "  </thead>\n",
       "  <tbody>\n",
       "    <tr>\n",
       "      <th>454</th>\n",
       "      <td>4500</td>\n",
       "      <td>3</td>\n",
       "      <td>1</td>\n",
       "      <td>2</td>\n",
       "      <td>0</td>\n",
       "      <td>3143000</td>\n",
       "    </tr>\n",
       "    <tr>\n",
       "      <th>392</th>\n",
       "      <td>3990</td>\n",
       "      <td>3</td>\n",
       "      <td>1</td>\n",
       "      <td>2</td>\n",
       "      <td>0</td>\n",
       "      <td>3500000</td>\n",
       "    </tr>\n",
       "    <tr>\n",
       "      <th>231</th>\n",
       "      <td>4320</td>\n",
       "      <td>3</td>\n",
       "      <td>1</td>\n",
       "      <td>1</td>\n",
       "      <td>0</td>\n",
       "      <td>4690000</td>\n",
       "    </tr>\n",
       "    <tr>\n",
       "      <th>271</th>\n",
       "      <td>1905</td>\n",
       "      <td>5</td>\n",
       "      <td>1</td>\n",
       "      <td>2</td>\n",
       "      <td>0</td>\n",
       "      <td>4340000</td>\n",
       "    </tr>\n",
       "    <tr>\n",
       "      <th>250</th>\n",
       "      <td>3510</td>\n",
       "      <td>3</td>\n",
       "      <td>1</td>\n",
       "      <td>3</td>\n",
       "      <td>0</td>\n",
       "      <td>4515000</td>\n",
       "    </tr>\n",
       "  </tbody>\n",
       "</table>\n",
       "</div>"
      ],
      "text/plain": [
       "     area  bedrooms  bathrooms  stories  parking    price\n",
       "454  4500         3          1        2        0  3143000\n",
       "392  3990         3          1        2        0  3500000\n",
       "231  4320         3          1        1        0  4690000\n",
       "271  1905         5          1        2        0  4340000\n",
       "250  3510         3          1        3        0  4515000"
      ]
     },
     "execution_count": 566,
     "metadata": {},
     "output_type": "execute_result"
    }
   ],
   "source": [
    "#\n",
    "#\n",
    "# Problem 2a: Training and Validation Loss w/ Standardization and Normalization\n",
    "#\n",
    "#\n",
    "data2a = ['area', 'bedrooms', 'bathrooms', 'stories', 'parking', 'price']\n",
    "trainTable2a = trainSet[data2a]\n",
    "validTable2a = validSet[data2a]\n",
    "trainTable2a.head()"
   ]
  },
  {
   "cell_type": "code",
   "execution_count": 567,
   "id": "a29282ac-e2ab-4a19-a5f9-83349233789d",
   "metadata": {},
   "outputs": [
    {
     "name": "stdout",
     "output_type": "stream",
     "text": [
      "Standardized training table:\n"
     ]
    },
    {
     "data": {
      "text/html": [
       "<div>\n",
       "<style scoped>\n",
       "    .dataframe tbody tr th:only-of-type {\n",
       "        vertical-align: middle;\n",
       "    }\n",
       "\n",
       "    .dataframe tbody tr th {\n",
       "        vertical-align: top;\n",
       "    }\n",
       "\n",
       "    .dataframe thead th {\n",
       "        text-align: right;\n",
       "    }\n",
       "</style>\n",
       "<table border=\"1\" class=\"dataframe\">\n",
       "  <thead>\n",
       "    <tr style=\"text-align: right;\">\n",
       "      <th></th>\n",
       "      <th>area</th>\n",
       "      <th>bedrooms</th>\n",
       "      <th>bathrooms</th>\n",
       "      <th>stories</th>\n",
       "      <th>parking</th>\n",
       "      <th>price</th>\n",
       "    </tr>\n",
       "  </thead>\n",
       "  <tbody>\n",
       "    <tr>\n",
       "      <th>454</th>\n",
       "      <td>-0.286366</td>\n",
       "      <td>0.073764</td>\n",
       "      <td>-0.58123</td>\n",
       "      <td>0.207401</td>\n",
       "      <td>-0.82296</td>\n",
       "      <td>-0.868394</td>\n",
       "    </tr>\n",
       "    <tr>\n",
       "      <th>392</th>\n",
       "      <td>-0.544762</td>\n",
       "      <td>0.073764</td>\n",
       "      <td>-0.58123</td>\n",
       "      <td>0.207401</td>\n",
       "      <td>-0.82296</td>\n",
       "      <td>-0.677628</td>\n",
       "    </tr>\n",
       "    <tr>\n",
       "      <th>231</th>\n",
       "      <td>-0.377564</td>\n",
       "      <td>0.073764</td>\n",
       "      <td>-0.58123</td>\n",
       "      <td>-0.937813</td>\n",
       "      <td>-0.82296</td>\n",
       "      <td>-0.041744</td>\n",
       "    </tr>\n",
       "    <tr>\n",
       "      <th>271</th>\n",
       "      <td>-1.601145</td>\n",
       "      <td>2.884176</td>\n",
       "      <td>-0.58123</td>\n",
       "      <td>0.207401</td>\n",
       "      <td>-0.82296</td>\n",
       "      <td>-0.228768</td>\n",
       "    </tr>\n",
       "    <tr>\n",
       "      <th>250</th>\n",
       "      <td>-0.787958</td>\n",
       "      <td>0.073764</td>\n",
       "      <td>-0.58123</td>\n",
       "      <td>1.352614</td>\n",
       "      <td>-0.82296</td>\n",
       "      <td>-0.135256</td>\n",
       "    </tr>\n",
       "  </tbody>\n",
       "</table>\n",
       "</div>"
      ],
      "text/plain": [
       "         area  bedrooms  bathrooms   stories  parking     price\n",
       "454 -0.286366  0.073764   -0.58123  0.207401 -0.82296 -0.868394\n",
       "392 -0.544762  0.073764   -0.58123  0.207401 -0.82296 -0.677628\n",
       "231 -0.377564  0.073764   -0.58123 -0.937813 -0.82296 -0.041744\n",
       "271 -1.601145  2.884176   -0.58123  0.207401 -0.82296 -0.228768\n",
       "250 -0.787958  0.073764   -0.58123  1.352614 -0.82296 -0.135256"
      ]
     },
     "execution_count": 567,
     "metadata": {},
     "output_type": "execute_result"
    }
   ],
   "source": [
    "# Standardization first\n",
    "from sklearn.preprocessing import MinMaxScaler, StandardScaler\n",
    "import warnings\n",
    "warnings.filterwarnings('ignore')\n",
    "standard = StandardScaler()\n",
    "trainTable2a[data2a] = standard.fit_transform(trainTable2a[data2a])  #standardize all training data\n",
    "print('Standardized training table:')\n",
    "trainTable2a.head(5)"
   ]
  },
  {
   "cell_type": "code",
   "execution_count": 568,
   "id": "63d5602e-e0e4-4a2c-af5c-adf861448eb5",
   "metadata": {},
   "outputs": [
    {
     "name": "stdout",
     "output_type": "stream",
     "text": [
      "Standardized validation table:\n"
     ]
    },
    {
     "data": {
      "text/html": [
       "<div>\n",
       "<style scoped>\n",
       "    .dataframe tbody tr th:only-of-type {\n",
       "        vertical-align: middle;\n",
       "    }\n",
       "\n",
       "    .dataframe tbody tr th {\n",
       "        vertical-align: top;\n",
       "    }\n",
       "\n",
       "    .dataframe thead th {\n",
       "        text-align: right;\n",
       "    }\n",
       "</style>\n",
       "<table border=\"1\" class=\"dataframe\">\n",
       "  <thead>\n",
       "    <tr style=\"text-align: right;\">\n",
       "      <th></th>\n",
       "      <th>area</th>\n",
       "      <th>bedrooms</th>\n",
       "      <th>bathrooms</th>\n",
       "      <th>stories</th>\n",
       "      <th>parking</th>\n",
       "      <th>price</th>\n",
       "    </tr>\n",
       "  </thead>\n",
       "  <tbody>\n",
       "    <tr>\n",
       "      <th>239</th>\n",
       "      <td>-0.528409</td>\n",
       "      <td>-0.007694</td>\n",
       "      <td>-0.550215</td>\n",
       "      <td>0.265241</td>\n",
       "      <td>0.442615</td>\n",
       "      <td>-0.095841</td>\n",
       "    </tr>\n",
       "    <tr>\n",
       "      <th>113</th>\n",
       "      <td>1.673306</td>\n",
       "      <td>-0.007694</td>\n",
       "      <td>-0.550215</td>\n",
       "      <td>-0.910424</td>\n",
       "      <td>1.652428</td>\n",
       "      <td>0.708470</td>\n",
       "    </tr>\n",
       "    <tr>\n",
       "      <th>325</th>\n",
       "      <td>-0.739961</td>\n",
       "      <td>1.254180</td>\n",
       "      <td>-0.550215</td>\n",
       "      <td>0.265241</td>\n",
       "      <td>-0.767199</td>\n",
       "      <td>-0.405914</td>\n",
       "    </tr>\n",
       "    <tr>\n",
       "      <th>66</th>\n",
       "      <td>3.075822</td>\n",
       "      <td>-1.269569</td>\n",
       "      <td>-0.550215</td>\n",
       "      <td>-0.910424</td>\n",
       "      <td>0.442615</td>\n",
       "      <td>1.163244</td>\n",
       "    </tr>\n",
       "    <tr>\n",
       "      <th>479</th>\n",
       "      <td>-0.661608</td>\n",
       "      <td>1.254180</td>\n",
       "      <td>-0.550215</td>\n",
       "      <td>0.265241</td>\n",
       "      <td>-0.767199</td>\n",
       "      <td>-0.979079</td>\n",
       "    </tr>\n",
       "  </tbody>\n",
       "</table>\n",
       "</div>"
      ],
      "text/plain": [
       "         area  bedrooms  bathrooms   stories   parking     price\n",
       "239 -0.528409 -0.007694  -0.550215  0.265241  0.442615 -0.095841\n",
       "113  1.673306 -0.007694  -0.550215 -0.910424  1.652428  0.708470\n",
       "325 -0.739961  1.254180  -0.550215  0.265241 -0.767199 -0.405914\n",
       "66   3.075822 -1.269569  -0.550215 -0.910424  0.442615  1.163244\n",
       "479 -0.661608  1.254180  -0.550215  0.265241 -0.767199 -0.979079"
      ]
     },
     "execution_count": 568,
     "metadata": {},
     "output_type": "execute_result"
    }
   ],
   "source": [
    "validTable2a[data2a] = standard.fit_transform(validTable2a[data2a])\n",
    "print('Standardized validation table:')\n",
    "validTable2a.head(5)"
   ]
  },
  {
   "cell_type": "code",
   "execution_count": 569,
   "id": "f4406950-fa86-4293-bb42-f8bb344b565c",
   "metadata": {},
   "outputs": [
    {
     "name": "stdout",
     "output_type": "stream",
     "text": [
      "Standardized training Y:\n"
     ]
    },
    {
     "data": {
      "text/plain": [
       "array([-0.86839366, -0.67762826, -0.04174357, -0.22876848, -0.13525602])"
      ]
     },
     "execution_count": 569,
     "metadata": {},
     "output_type": "execute_result"
    }
   ],
   "source": [
    "Y = trainTable2a.pop('price')\n",
    "Y2aStdTrain = Y.values\n",
    "print('Standardized training Y:')\n",
    "Y2aStdTrain[:5]"
   ]
  },
  {
   "cell_type": "code",
   "execution_count": 570,
   "id": "30d8f9a2-c218-4b6b-ad4e-7406f5aaf45d",
   "metadata": {},
   "outputs": [
    {
     "name": "stdout",
     "output_type": "stream",
     "text": [
      "Standardized validation Y:\n"
     ]
    },
    {
     "data": {
      "text/plain": [
       "array([-0.09584075,  0.70846983, -0.40591375,  1.16324356, -0.97907899])"
      ]
     },
     "execution_count": 570,
     "metadata": {},
     "output_type": "execute_result"
    }
   ],
   "source": [
    "Y = validTable2a.pop('price')\n",
    "Y2aStdValid = Y.values\n",
    "print('Standardized validation Y:')\n",
    "Y2aStdValid[:5]"
   ]
  },
  {
   "cell_type": "code",
   "execution_count": 571,
   "id": "db26a069-3ff7-4604-ba44-3476b6764a0d",
   "metadata": {},
   "outputs": [
    {
     "name": "stdout",
     "output_type": "stream",
     "text": [
      "Standardized training X variables:\n"
     ]
    },
    {
     "data": {
      "text/plain": [
       "array([[ 1.        , -0.28636589,  0.07376409, -0.58122996,  0.20740088,\n",
       "        -0.82296013],\n",
       "       [ 1.        , -0.54476182,  0.07376409, -0.58122996,  0.20740088,\n",
       "        -0.82296013],\n",
       "       [ 1.        , -0.37756445,  0.07376409, -0.58122996, -0.93781267,\n",
       "        -0.82296013],\n",
       "       [ 1.        , -1.60114518,  2.88417578, -0.58122996,  0.20740088,\n",
       "        -0.82296013],\n",
       "       [ 1.        , -0.78795799,  0.07376409, -0.58122996,  1.35261443,\n",
       "        -0.82296013]])"
      ]
     },
     "execution_count": 571,
     "metadata": {},
     "output_type": "execute_result"
    }
   ],
   "source": [
    "areaStdTrain = trainTable2a.values[:,0]\n",
    "areaT = areaStdTrain.reshape(len(trainTable2a),1)\n",
    "\n",
    "bedStdTrain = trainTable2a.values[:,1]\n",
    "bedT = bedStdTrain.reshape(len(trainTable2a),1)\n",
    "\n",
    "bathStdTrain = trainTable2a.values[:,2]\n",
    "bathT = bathStdTrain.reshape(len(trainTable2a),1)\n",
    "\n",
    "storStdTrain = trainTable2a.values[:,3]\n",
    "storT = storStdTrain.reshape(len(trainTable2a),1)\n",
    "\n",
    "parkStdTrain = trainTable2a.values[:,4]\n",
    "parkT = parkStdTrain.reshape(len(trainTable2a),1)\n",
    "\n",
    "X0 = np.ones((len(trainTable2a) , 1))\n",
    "varsStdTrain = np.hstack((X0,areaT,bedT,bathT,storT,parkT))\n",
    "print('Standardized training X variables:')\n",
    "varsStdTrain[:5]"
   ]
  },
  {
   "cell_type": "code",
   "execution_count": 572,
   "id": "51737aad-f531-4b19-a9cb-f5fc755bba15",
   "metadata": {},
   "outputs": [
    {
     "name": "stdout",
     "output_type": "stream",
     "text": [
      "Standardized validation X variables:\n"
     ]
    },
    {
     "data": {
      "text/plain": [
       "array([[ 1.        , -0.52840866, -0.00769436, -0.55021459,  0.26524149,\n",
       "         0.44261462],\n",
       "       [ 1.        ,  1.67330604, -0.00769436, -0.55021459, -0.91042351,\n",
       "         1.65242793],\n",
       "       [ 1.        , -0.73996132,  1.25418015, -0.55021459,  0.26524149,\n",
       "        -0.76719868],\n",
       "       [ 1.        ,  3.07582182, -1.26956887, -0.55021459, -0.91042351,\n",
       "         0.44261462],\n",
       "       [ 1.        , -0.66160849,  1.25418015, -0.55021459,  0.26524149,\n",
       "        -0.76719868]])"
      ]
     },
     "execution_count": 572,
     "metadata": {},
     "output_type": "execute_result"
    }
   ],
   "source": [
    "areaStdValid = validTable2a.values[:,0]\n",
    "areaT = areaStdValid.reshape(len(validTable2a),1)\n",
    "\n",
    "bedStdValid = validTable2a.values[:,1]\n",
    "bedT = bedStdValid.reshape(len(validTable2a),1)\n",
    "\n",
    "bathStdValid = validTable2a.values[:,2]\n",
    "bathT = bathStdValid.reshape(len(validTable2a),1)\n",
    "\n",
    "storStdValid = validTable2a.values[:,3]\n",
    "storT = storStdValid.reshape(len(validTable2a),1)\n",
    "\n",
    "parkStdValid = validTable2a.values[:,4]\n",
    "parkT = parkStdValid.reshape(len(validTable2a),1)\n",
    "\n",
    "X0 = np.ones((len(validTable2a) , 1))\n",
    "varsStdValid = np.hstack((X0,areaT,bedT,bathT,storT,parkT))\n",
    "print('Standardized validation X variables:')\n",
    "varsStdValid[:5]"
   ]
  },
  {
   "cell_type": "code",
   "execution_count": 573,
   "id": "7ff9e9f6-36c4-49b4-91c0-89e7117ffeed",
   "metadata": {},
   "outputs": [
    {
     "name": "stdout",
     "output_type": "stream",
     "text": [
      "Final thetas: [1.85295204e-16 3.83653304e-01 1.04343457e-01 2.98541735e-01\n",
      " 2.34542828e-01 1.49757135e-01]\n",
      "Training set loss history [0.30701817 0.27459435 0.24983778 ... 0.16481492 0.16481492 0.16481492]\n",
      "Validation set loss history [0.12934893 0.11314751 0.10068501 ... 0.05391235 0.05391235 0.05391235]\n"
     ]
    }
   ],
   "source": [
    "thetas2a = [0.0, 0.0, 0.0, 0.0, 0.0, 0.0]\n",
    "iterations = 2000      \n",
    "alpha = 0.1           \n",
    "finalThetas2a, lossHistory2a, lossHistoryV2a = gradient(varsStdTrain, Y2aStdTrain, thetas2a, alpha, iterations, varsStdValid, Y2aStdValid)\n",
    "print('Final thetas:', finalThetas2a)\n",
    "print('Training set loss history', lossHistory2a)\n",
    "print('Validation set loss history', lossHistoryV2a)"
   ]
  },
  {
   "cell_type": "code",
   "execution_count": 574,
   "id": "0c6d991d-22ae-404b-b55b-4f444cf0b200",
   "metadata": {},
   "outputs": [
    {
     "data": {
      "text/plain": [
       "<matplotlib.legend.Legend at 0x7fb7acf08a00>"
      ]
     },
     "execution_count": 574,
     "metadata": {},
     "output_type": "execute_result"
    },
    {
     "data": {
      "image/png": "[encoded data removed]",
      "text/plain": [
       "<Figure size 720x432 with 1 Axes>"
      ]
     },
     "metadata": {
      "needs_background": "light"
     },
     "output_type": "display_data"
    }
   ],
   "source": [
    "plt.plot(range(1, iterations + 1), lossHistory2a, color = 'blue', label = 'Training Set')\n",
    "plt.plot(range(1, iterations + 1), lossHistoryV2a, color = 'red', label = 'Validation Set')\n",
    "plt.rcParams[\"figure.figsize\"] = (10,6) \n",
    "plt.grid() \n",
    "plt.xlabel('Number of iterations') \n",
    "plt.ylabel('Loss (J)') \n",
    "plt.title('2a: Convergence of Gradient Descent for Standardized Training and Validation') \n",
    "plt.legend()"
   ]
  },
  {
   "cell_type": "code",
   "execution_count": 575,
   "id": "8cd27bcb-4a35-4e23-a427-1709e65b42a4",
   "metadata": {},
   "outputs": [
    {
     "data": {
      "text/html": [
       "<div>\n",
       "<style scoped>\n",
       "    .dataframe tbody tr th:only-of-type {\n",
       "        vertical-align: middle;\n",
       "    }\n",
       "\n",
       "    .dataframe tbody tr th {\n",
       "        vertical-align: top;\n",
       "    }\n",
       "\n",
       "    .dataframe thead th {\n",
       "        text-align: right;\n",
       "    }\n",
       "</style>\n",
       "<table border=\"1\" class=\"dataframe\">\n",
       "  <thead>\n",
       "    <tr style=\"text-align: right;\">\n",
       "      <th></th>\n",
       "      <th>area</th>\n",
       "      <th>bedrooms</th>\n",
       "      <th>bathrooms</th>\n",
       "      <th>stories</th>\n",
       "      <th>parking</th>\n",
       "      <th>price</th>\n",
       "    </tr>\n",
       "  </thead>\n",
       "  <tbody>\n",
       "    <tr>\n",
       "      <th>454</th>\n",
       "      <td>4500</td>\n",
       "      <td>3</td>\n",
       "      <td>1</td>\n",
       "      <td>2</td>\n",
       "      <td>0</td>\n",
       "      <td>3143000</td>\n",
       "    </tr>\n",
       "    <tr>\n",
       "      <th>392</th>\n",
       "      <td>3990</td>\n",
       "      <td>3</td>\n",
       "      <td>1</td>\n",
       "      <td>2</td>\n",
       "      <td>0</td>\n",
       "      <td>3500000</td>\n",
       "    </tr>\n",
       "    <tr>\n",
       "      <th>231</th>\n",
       "      <td>4320</td>\n",
       "      <td>3</td>\n",
       "      <td>1</td>\n",
       "      <td>1</td>\n",
       "      <td>0</td>\n",
       "      <td>4690000</td>\n",
       "    </tr>\n",
       "    <tr>\n",
       "      <th>271</th>\n",
       "      <td>1905</td>\n",
       "      <td>5</td>\n",
       "      <td>1</td>\n",
       "      <td>2</td>\n",
       "      <td>0</td>\n",
       "      <td>4340000</td>\n",
       "    </tr>\n",
       "    <tr>\n",
       "      <th>250</th>\n",
       "      <td>3510</td>\n",
       "      <td>3</td>\n",
       "      <td>1</td>\n",
       "      <td>3</td>\n",
       "      <td>0</td>\n",
       "      <td>4515000</td>\n",
       "    </tr>\n",
       "  </tbody>\n",
       "</table>\n",
       "</div>"
      ],
      "text/plain": [
       "     area  bedrooms  bathrooms  stories  parking    price\n",
       "454  4500         3          1        2        0  3143000\n",
       "392  3990         3          1        2        0  3500000\n",
       "231  4320         3          1        1        0  4690000\n",
       "271  1905         5          1        2        0  4340000\n",
       "250  3510         3          1        3        0  4515000"
      ]
     },
     "execution_count": 575,
     "metadata": {},
     "output_type": "execute_result"
    }
   ],
   "source": [
    "# Reset tables due to popping earlier\n",
    "trainTable2a = trainSet[data2a]\n",
    "validTable2a = validSet[data2a]\n",
    "trainTable2a.head()"
   ]
  },
  {
   "cell_type": "code",
   "execution_count": 576,
   "id": "b0179eb7-a4db-436e-9246-df1c61598b0c",
   "metadata": {},
   "outputs": [
    {
     "name": "stdout",
     "output_type": "stream",
     "text": [
      "Normalized training table:\n"
     ]
    },
    {
     "data": {
      "text/html": [
       "<div>\n",
       "<style scoped>\n",
       "    .dataframe tbody tr th:only-of-type {\n",
       "        vertical-align: middle;\n",
       "    }\n",
       "\n",
       "    .dataframe tbody tr th {\n",
       "        vertical-align: top;\n",
       "    }\n",
       "\n",
       "    .dataframe thead th {\n",
       "        text-align: right;\n",
       "    }\n",
       "</style>\n",
       "<table border=\"1\" class=\"dataframe\">\n",
       "  <thead>\n",
       "    <tr style=\"text-align: right;\">\n",
       "      <th></th>\n",
       "      <th>area</th>\n",
       "      <th>bedrooms</th>\n",
       "      <th>bathrooms</th>\n",
       "      <th>stories</th>\n",
       "      <th>parking</th>\n",
       "      <th>price</th>\n",
       "    </tr>\n",
       "  </thead>\n",
       "  <tbody>\n",
       "    <tr>\n",
       "      <th>454</th>\n",
       "      <td>0.193548</td>\n",
       "      <td>0.5</td>\n",
       "      <td>0.0</td>\n",
       "      <td>0.333333</td>\n",
       "      <td>0.0</td>\n",
       "      <td>0.120606</td>\n",
       "    </tr>\n",
       "    <tr>\n",
       "      <th>392</th>\n",
       "      <td>0.156495</td>\n",
       "      <td>0.5</td>\n",
       "      <td>0.0</td>\n",
       "      <td>0.333333</td>\n",
       "      <td>0.0</td>\n",
       "      <td>0.151515</td>\n",
       "    </tr>\n",
       "    <tr>\n",
       "      <th>231</th>\n",
       "      <td>0.180471</td>\n",
       "      <td>0.5</td>\n",
       "      <td>0.0</td>\n",
       "      <td>0.000000</td>\n",
       "      <td>0.0</td>\n",
       "      <td>0.254545</td>\n",
       "    </tr>\n",
       "    <tr>\n",
       "      <th>271</th>\n",
       "      <td>0.005013</td>\n",
       "      <td>1.0</td>\n",
       "      <td>0.0</td>\n",
       "      <td>0.333333</td>\n",
       "      <td>0.0</td>\n",
       "      <td>0.224242</td>\n",
       "    </tr>\n",
       "    <tr>\n",
       "      <th>250</th>\n",
       "      <td>0.121622</td>\n",
       "      <td>0.5</td>\n",
       "      <td>0.0</td>\n",
       "      <td>0.666667</td>\n",
       "      <td>0.0</td>\n",
       "      <td>0.239394</td>\n",
       "    </tr>\n",
       "  </tbody>\n",
       "</table>\n",
       "</div>"
      ],
      "text/plain": [
       "         area  bedrooms  bathrooms   stories  parking     price\n",
       "454  0.193548       0.5        0.0  0.333333      0.0  0.120606\n",
       "392  0.156495       0.5        0.0  0.333333      0.0  0.151515\n",
       "231  0.180471       0.5        0.0  0.000000      0.0  0.254545\n",
       "271  0.005013       1.0        0.0  0.333333      0.0  0.224242\n",
       "250  0.121622       0.5        0.0  0.666667      0.0  0.239394"
      ]
     },
     "execution_count": 576,
     "metadata": {},
     "output_type": "execute_result"
    }
   ],
   "source": [
    "# Now MinMax Normalization\n",
    "minMax = MinMaxScaler()\n",
    "trainTable2a[data2a] = minMax.fit_transform(trainTable2a[data2a])  #normalize all training data\n",
    "print('Normalized training table:')\n",
    "trainTable2a.head(5)"
   ]
  },
  {
   "cell_type": "code",
   "execution_count": 577,
   "id": "64d73c64-4954-4f04-ac4f-a7719f5aadf2",
   "metadata": {},
   "outputs": [
    {
     "name": "stdout",
     "output_type": "stream",
     "text": [
      "Normalized validation table:\n"
     ]
    },
    {
     "data": {
      "text/html": [
       "<div>\n",
       "<style scoped>\n",
       "    .dataframe tbody tr th:only-of-type {\n",
       "        vertical-align: middle;\n",
       "    }\n",
       "\n",
       "    .dataframe tbody tr th {\n",
       "        vertical-align: top;\n",
       "    }\n",
       "\n",
       "    .dataframe thead th {\n",
       "        text-align: right;\n",
       "    }\n",
       "</style>\n",
       "<table border=\"1\" class=\"dataframe\">\n",
       "  <thead>\n",
       "    <tr style=\"text-align: right;\">\n",
       "      <th></th>\n",
       "      <th>area</th>\n",
       "      <th>bedrooms</th>\n",
       "      <th>bathrooms</th>\n",
       "      <th>stories</th>\n",
       "      <th>parking</th>\n",
       "      <th>price</th>\n",
       "    </tr>\n",
       "  </thead>\n",
       "  <tbody>\n",
       "    <tr>\n",
       "      <th>239</th>\n",
       "      <td>0.161512</td>\n",
       "      <td>0.4</td>\n",
       "      <td>0.0</td>\n",
       "      <td>0.333333</td>\n",
       "      <td>0.333333</td>\n",
       "      <td>0.270000</td>\n",
       "    </tr>\n",
       "    <tr>\n",
       "      <th>113</th>\n",
       "      <td>0.547766</td>\n",
       "      <td>0.4</td>\n",
       "      <td>0.0</td>\n",
       "      <td>0.000000</td>\n",
       "      <td>0.666667</td>\n",
       "      <td>0.412667</td>\n",
       "    </tr>\n",
       "    <tr>\n",
       "      <th>325</th>\n",
       "      <td>0.124399</td>\n",
       "      <td>0.6</td>\n",
       "      <td>0.0</td>\n",
       "      <td>0.333333</td>\n",
       "      <td>0.000000</td>\n",
       "      <td>0.215000</td>\n",
       "    </tr>\n",
       "    <tr>\n",
       "      <th>66</th>\n",
       "      <td>0.793814</td>\n",
       "      <td>0.2</td>\n",
       "      <td>0.0</td>\n",
       "      <td>0.000000</td>\n",
       "      <td>0.333333</td>\n",
       "      <td>0.493333</td>\n",
       "    </tr>\n",
       "    <tr>\n",
       "      <th>479</th>\n",
       "      <td>0.138144</td>\n",
       "      <td>0.6</td>\n",
       "      <td>0.0</td>\n",
       "      <td>0.333333</td>\n",
       "      <td>0.000000</td>\n",
       "      <td>0.113333</td>\n",
       "    </tr>\n",
       "  </tbody>\n",
       "</table>\n",
       "</div>"
      ],
      "text/plain": [
       "         area  bedrooms  bathrooms   stories   parking     price\n",
       "239  0.161512       0.4        0.0  0.333333  0.333333  0.270000\n",
       "113  0.547766       0.4        0.0  0.000000  0.666667  0.412667\n",
       "325  0.124399       0.6        0.0  0.333333  0.000000  0.215000\n",
       "66   0.793814       0.2        0.0  0.000000  0.333333  0.493333\n",
       "479  0.138144       0.6        0.0  0.333333  0.000000  0.113333"
      ]
     },
     "execution_count": 577,
     "metadata": {},
     "output_type": "execute_result"
    }
   ],
   "source": [
    "validTable2a[data2a] = minMax.fit_transform(validTable2a[data2a])\n",
    "print('Normalized validation table:')\n",
    "validTable2a.head(5)"
   ]
  },
  {
   "cell_type": "code",
   "execution_count": 578,
   "id": "cacaff1c-26eb-4195-b519-5e2a1e06b806",
   "metadata": {},
   "outputs": [
    {
     "name": "stdout",
     "output_type": "stream",
     "text": [
      "Normalized training Y:\n"
     ]
    },
    {
     "data": {
      "text/plain": [
       "array([0.12060606, 0.15151515, 0.25454545, 0.22424242, 0.23939394])"
      ]
     },
     "execution_count": 578,
     "metadata": {},
     "output_type": "execute_result"
    }
   ],
   "source": [
    "Y = trainTable2a.pop('price')\n",
    "Y2aMinTrain = Y.values\n",
    "print('Normalized training Y:')\n",
    "Y2aMinTrain[:5]"
   ]
  },
  {
   "cell_type": "code",
   "execution_count": 579,
   "id": "99a45931-1cfb-49ee-9295-56b674f1a2fb",
   "metadata": {},
   "outputs": [
    {
     "name": "stdout",
     "output_type": "stream",
     "text": [
      "Normalized validation Y:\n"
     ]
    },
    {
     "data": {
      "text/plain": [
       "array([0.27      , 0.41266667, 0.215     , 0.49333333, 0.11333333])"
      ]
     },
     "execution_count": 579,
     "metadata": {},
     "output_type": "execute_result"
    }
   ],
   "source": [
    "Y = validTable2a.pop('price')\n",
    "Y2aMinValid = Y.values\n",
    "print('Normalized validation Y:')\n",
    "Y2aMinValid[:5]"
   ]
  },
  {
   "cell_type": "code",
   "execution_count": 580,
   "id": "946f5668-c740-4ed9-b285-40cd4bff0af6",
   "metadata": {},
   "outputs": [
    {
     "name": "stdout",
     "output_type": "stream",
     "text": [
      "Normalized training X variables:\n"
     ]
    },
    {
     "data": {
      "text/plain": [
       "array([[1.        , 0.19354839, 0.5       , 0.        , 0.33333333,\n",
       "        0.        ],\n",
       "       [1.        , 0.1564952 , 0.5       , 0.        , 0.33333333,\n",
       "        0.        ],\n",
       "       [1.        , 0.18047079, 0.5       , 0.        , 0.        ,\n",
       "        0.        ],\n",
       "       [1.        , 0.00501308, 1.        , 0.        , 0.33333333,\n",
       "        0.        ],\n",
       "       [1.        , 0.12162162, 0.5       , 0.        , 0.66666667,\n",
       "        0.        ]])"
      ]
     },
     "execution_count": 580,
     "metadata": {},
     "output_type": "execute_result"
    }
   ],
   "source": [
    "areaMinTrain = trainTable2a.values[:,0]\n",
    "areaT = areaMinTrain.reshape(len(trainTable2a),1)\n",
    "\n",
    "bedMinTrain = trainTable2a.values[:,1]\n",
    "bedT = bedMinTrain.reshape(len(trainTable2a),1)\n",
    "\n",
    "bathMinTrain = trainTable2a.values[:,2]\n",
    "bathT = bathMinTrain.reshape(len(trainTable2a),1)\n",
    "\n",
    "storMinTrain = trainTable2a.values[:,3]\n",
    "storT = storMinTrain.reshape(len(trainTable2a),1)\n",
    "\n",
    "parkMinTrain = trainTable2a.values[:,4]\n",
    "parkT = parkMinTrain.reshape(len(trainTable2a),1)\n",
    "\n",
    "X0 = np.ones((len(trainTable2a) , 1))\n",
    "varsMinTrain = np.hstack((X0,areaT,bedT,bathT,storT,parkT))\n",
    "print('Normalized training X variables:')\n",
    "varsMinTrain[:5]"
   ]
  },
  {
   "cell_type": "code",
   "execution_count": 581,
   "id": "4e3dd8ab-ee94-465a-a128-7aa3d1001c6b",
   "metadata": {},
   "outputs": [
    {
     "name": "stdout",
     "output_type": "stream",
     "text": [
      "Normalized validation X variables:\n"
     ]
    },
    {
     "data": {
      "text/plain": [
       "array([[1.        , 0.16151203, 0.4       , 0.        , 0.33333333,\n",
       "        0.33333333],\n",
       "       [1.        , 0.54776632, 0.4       , 0.        , 0.        ,\n",
       "        0.66666667],\n",
       "       [1.        , 0.12439863, 0.6       , 0.        , 0.33333333,\n",
       "        0.        ],\n",
       "       [1.        , 0.79381443, 0.2       , 0.        , 0.        ,\n",
       "        0.33333333],\n",
       "       [1.        , 0.13814433, 0.6       , 0.        , 0.33333333,\n",
       "        0.        ]])"
      ]
     },
     "execution_count": 581,
     "metadata": {},
     "output_type": "execute_result"
    }
   ],
   "source": [
    "areaMinValid = validTable2a.values[:,0]\n",
    "areaT = areaMinValid.reshape(len(validTable2a),1)\n",
    "\n",
    "bedMinValid = validTable2a.values[:,1]\n",
    "bedT = bedMinValid.reshape(len(validTable2a),1)\n",
    "\n",
    "bathMinValid = validTable2a.values[:,2]\n",
    "bathT = bathMinValid.reshape(len(validTable2a),1)\n",
    "\n",
    "storMinValid = validTable2a.values[:,3]\n",
    "storT = storMinValid.reshape(len(validTable2a),1)\n",
    "\n",
    "parkMinValid = validTable2a.values[:,4]\n",
    "parkT = parkMinValid.reshape(len(validTable2a),1)\n",
    "\n",
    "X0 = np.ones((len(validTable2a) , 1))\n",
    "varsMinValid = np.hstack((X0,areaT,bedT,bathT,storT,parkT))\n",
    "print('Normalized validation X variables:')\n",
    "varsMinValid[:5]"
   ]
  },
  {
   "cell_type": "code",
   "execution_count": 582,
   "id": "8304d627-6232-4e51-b324-0c4c77fa519c",
   "metadata": {},
   "outputs": [
    {
     "name": "stdout",
     "output_type": "stream",
     "text": [
      "Final thetas: [0.03665816 0.39706852 0.09331946 0.20069866 0.13258648 0.09091089]\n",
      "Training set loss history [0.02793021 0.02380952 0.02048825 ... 0.00433523 0.00433521 0.00433519]\n",
      "Validation set loss history [0.0147756  0.01285125 0.01127367 ... 0.00199323 0.00199321 0.00199319]\n"
     ]
    }
   ],
   "source": [
    "thetas2a = [0.0, 0.0, 0.0, 0.0, 0.0, 0.0]\n",
    "iterations = 2000      \n",
    "alpha = 0.1           \n",
    "finalThetas2a, lossHistory2a, lossHistoryV2a = gradient(varsMinTrain, Y2aMinTrain, thetas2a, alpha, iterations, varsMinValid, Y2aMinValid)\n",
    "print('Final thetas:', finalThetas2a)\n",
    "print('Training set loss history', lossHistory2a)\n",
    "print('Validation set loss history', lossHistoryV2a)"
   ]
  },
  {
   "cell_type": "code",
   "execution_count": 583,
   "id": "48107b66-b488-4516-979d-516ec782c5e8",
   "metadata": {},
   "outputs": [
    {
     "data": {
      "text/plain": [
       "<matplotlib.legend.Legend at 0x7fb7b1c92a30>"
      ]
     },
     "execution_count": 583,
     "metadata": {},
     "output_type": "execute_result"
    },
    {
     "data": {
      "image/png": "[encoded data removed]",
      "text/plain": [
       "<Figure size 720x432 with 1 Axes>"
      ]
     },
     "metadata": {
      "needs_background": "light"
     },
     "output_type": "display_data"
    }
   ],
   "source": [
    "plt.plot(range(1, iterations + 1), lossHistory2a, color = 'blue', label = 'Training Set')\n",
    "plt.plot(range(1, iterations + 1), lossHistoryV2a, color = 'red', label = 'Validation Set')\n",
    "plt.rcParams[\"figure.figsize\"] = (10,6) \n",
    "plt.grid() \n",
    "plt.xlabel('Number of iterations') \n",
    "plt.ylabel('Loss (J)') \n",
    "plt.title('2a: Convergence of Gradient Descent for Normalized Training and Validation') \n",
    "plt.legend()"
   ]
  },
  {
   "cell_type": "code",
   "execution_count": 606,
   "id": "714b6d38-114d-479d-9440-ae31467492f3",
   "metadata": {},
   "outputs": [
    {
     "data": {
      "text/html": [
       "<div>\n",
       "<style scoped>\n",
       "    .dataframe tbody tr th:only-of-type {\n",
       "        vertical-align: middle;\n",
       "    }\n",
       "\n",
       "    .dataframe tbody tr th {\n",
       "        vertical-align: top;\n",
       "    }\n",
       "\n",
       "    .dataframe thead th {\n",
       "        text-align: right;\n",
       "    }\n",
       "</style>\n",
       "<table border=\"1\" class=\"dataframe\">\n",
       "  <thead>\n",
       "    <tr style=\"text-align: right;\">\n",
       "      <th></th>\n",
       "      <th>price</th>\n",
       "      <th>area</th>\n",
       "      <th>bedrooms</th>\n",
       "      <th>bathrooms</th>\n",
       "      <th>stories</th>\n",
       "      <th>mainroad</th>\n",
       "      <th>guestroom</th>\n",
       "      <th>basement</th>\n",
       "      <th>hotwaterheating</th>\n",
       "      <th>airconditioning</th>\n",
       "      <th>parking</th>\n",
       "      <th>prefarea</th>\n",
       "      <th>furnishingstatus</th>\n",
       "    </tr>\n",
       "  </thead>\n",
       "  <tbody>\n",
       "    <tr>\n",
       "      <th>454</th>\n",
       "      <td>3143000</td>\n",
       "      <td>4500</td>\n",
       "      <td>3</td>\n",
       "      <td>1</td>\n",
       "      <td>2</td>\n",
       "      <td>1</td>\n",
       "      <td>0</td>\n",
       "      <td>0</td>\n",
       "      <td>0</td>\n",
       "      <td>1</td>\n",
       "      <td>0</td>\n",
       "      <td>0</td>\n",
       "      <td>unfurnished</td>\n",
       "    </tr>\n",
       "    <tr>\n",
       "      <th>392</th>\n",
       "      <td>3500000</td>\n",
       "      <td>3990</td>\n",
       "      <td>3</td>\n",
       "      <td>1</td>\n",
       "      <td>2</td>\n",
       "      <td>1</td>\n",
       "      <td>0</td>\n",
       "      <td>0</td>\n",
       "      <td>0</td>\n",
       "      <td>0</td>\n",
       "      <td>0</td>\n",
       "      <td>0</td>\n",
       "      <td>semi-furnished</td>\n",
       "    </tr>\n",
       "    <tr>\n",
       "      <th>231</th>\n",
       "      <td>4690000</td>\n",
       "      <td>4320</td>\n",
       "      <td>3</td>\n",
       "      <td>1</td>\n",
       "      <td>1</td>\n",
       "      <td>1</td>\n",
       "      <td>0</td>\n",
       "      <td>0</td>\n",
       "      <td>0</td>\n",
       "      <td>0</td>\n",
       "      <td>0</td>\n",
       "      <td>1</td>\n",
       "      <td>semi-furnished</td>\n",
       "    </tr>\n",
       "    <tr>\n",
       "      <th>271</th>\n",
       "      <td>4340000</td>\n",
       "      <td>1905</td>\n",
       "      <td>5</td>\n",
       "      <td>1</td>\n",
       "      <td>2</td>\n",
       "      <td>0</td>\n",
       "      <td>0</td>\n",
       "      <td>1</td>\n",
       "      <td>0</td>\n",
       "      <td>0</td>\n",
       "      <td>0</td>\n",
       "      <td>0</td>\n",
       "      <td>semi-furnished</td>\n",
       "    </tr>\n",
       "    <tr>\n",
       "      <th>250</th>\n",
       "      <td>4515000</td>\n",
       "      <td>3510</td>\n",
       "      <td>3</td>\n",
       "      <td>1</td>\n",
       "      <td>3</td>\n",
       "      <td>1</td>\n",
       "      <td>0</td>\n",
       "      <td>0</td>\n",
       "      <td>0</td>\n",
       "      <td>0</td>\n",
       "      <td>0</td>\n",
       "      <td>0</td>\n",
       "      <td>semi-furnished</td>\n",
       "    </tr>\n",
       "  </tbody>\n",
       "</table>\n",
       "</div>"
      ],
      "text/plain": [
       "       price  area  bedrooms  bathrooms  stories  mainroad  guestroom  \\\n",
       "454  3143000  4500         3          1        2         1          0   \n",
       "392  3500000  3990         3          1        2         1          0   \n",
       "231  4690000  4320         3          1        1         1          0   \n",
       "271  4340000  1905         5          1        2         0          0   \n",
       "250  4515000  3510         3          1        3         1          0   \n",
       "\n",
       "     basement  hotwaterheating  airconditioning  parking  prefarea  \\\n",
       "454         0                0                1        0         0   \n",
       "392         0                0                0        0         0   \n",
       "231         0                0                0        0         1   \n",
       "271         1                0                0        0         0   \n",
       "250         0                0                0        0         0   \n",
       "\n",
       "    furnishingstatus  \n",
       "454      unfurnished  \n",
       "392   semi-furnished  \n",
       "231   semi-furnished  \n",
       "271   semi-furnished  \n",
       "250   semi-furnished  "
      ]
     },
     "execution_count": 606,
     "metadata": {},
     "output_type": "execute_result"
    }
   ],
   "source": [
    "#\n",
    "#\n",
    "# Problem 2b: Standardization and Normalization with binary variables included\n",
    "#\n",
    "#\n",
    "trainSet.head() # already converted binaries"
   ]
  },
  {
   "cell_type": "code",
   "execution_count": 607,
   "id": "fab3a7b9-7879-496c-a928-ab77f0788878",
   "metadata": {},
   "outputs": [
    {
     "data": {
      "text/html": [
       "<div>\n",
       "<style scoped>\n",
       "    .dataframe tbody tr th:only-of-type {\n",
       "        vertical-align: middle;\n",
       "    }\n",
       "\n",
       "    .dataframe tbody tr th {\n",
       "        vertical-align: top;\n",
       "    }\n",
       "\n",
       "    .dataframe thead th {\n",
       "        text-align: right;\n",
       "    }\n",
       "</style>\n",
       "<table border=\"1\" class=\"dataframe\">\n",
       "  <thead>\n",
       "    <tr style=\"text-align: right;\">\n",
       "      <th></th>\n",
       "      <th>area</th>\n",
       "      <th>bedrooms</th>\n",
       "      <th>bathrooms</th>\n",
       "      <th>stories</th>\n",
       "      <th>mainroad</th>\n",
       "      <th>guestroom</th>\n",
       "      <th>basement</th>\n",
       "      <th>hotwaterheating</th>\n",
       "      <th>airconditioning</th>\n",
       "      <th>parking</th>\n",
       "      <th>prefarea</th>\n",
       "      <th>price</th>\n",
       "    </tr>\n",
       "  </thead>\n",
       "  <tbody>\n",
       "    <tr>\n",
       "      <th>454</th>\n",
       "      <td>4500</td>\n",
       "      <td>3</td>\n",
       "      <td>1</td>\n",
       "      <td>2</td>\n",
       "      <td>1</td>\n",
       "      <td>0</td>\n",
       "      <td>0</td>\n",
       "      <td>0</td>\n",
       "      <td>1</td>\n",
       "      <td>0</td>\n",
       "      <td>0</td>\n",
       "      <td>3143000</td>\n",
       "    </tr>\n",
       "    <tr>\n",
       "      <th>392</th>\n",
       "      <td>3990</td>\n",
       "      <td>3</td>\n",
       "      <td>1</td>\n",
       "      <td>2</td>\n",
       "      <td>1</td>\n",
       "      <td>0</td>\n",
       "      <td>0</td>\n",
       "      <td>0</td>\n",
       "      <td>0</td>\n",
       "      <td>0</td>\n",
       "      <td>0</td>\n",
       "      <td>3500000</td>\n",
       "    </tr>\n",
       "    <tr>\n",
       "      <th>231</th>\n",
       "      <td>4320</td>\n",
       "      <td>3</td>\n",
       "      <td>1</td>\n",
       "      <td>1</td>\n",
       "      <td>1</td>\n",
       "      <td>0</td>\n",
       "      <td>0</td>\n",
       "      <td>0</td>\n",
       "      <td>0</td>\n",
       "      <td>0</td>\n",
       "      <td>1</td>\n",
       "      <td>4690000</td>\n",
       "    </tr>\n",
       "    <tr>\n",
       "      <th>271</th>\n",
       "      <td>1905</td>\n",
       "      <td>5</td>\n",
       "      <td>1</td>\n",
       "      <td>2</td>\n",
       "      <td>0</td>\n",
       "      <td>0</td>\n",
       "      <td>1</td>\n",
       "      <td>0</td>\n",
       "      <td>0</td>\n",
       "      <td>0</td>\n",
       "      <td>0</td>\n",
       "      <td>4340000</td>\n",
       "    </tr>\n",
       "    <tr>\n",
       "      <th>250</th>\n",
       "      <td>3510</td>\n",
       "      <td>3</td>\n",
       "      <td>1</td>\n",
       "      <td>3</td>\n",
       "      <td>1</td>\n",
       "      <td>0</td>\n",
       "      <td>0</td>\n",
       "      <td>0</td>\n",
       "      <td>0</td>\n",
       "      <td>0</td>\n",
       "      <td>0</td>\n",
       "      <td>4515000</td>\n",
       "    </tr>\n",
       "  </tbody>\n",
       "</table>\n",
       "</div>"
      ],
      "text/plain": [
       "     area  bedrooms  bathrooms  stories  mainroad  guestroom  basement  \\\n",
       "454  4500         3          1        2         1          0         0   \n",
       "392  3990         3          1        2         1          0         0   \n",
       "231  4320         3          1        1         1          0         0   \n",
       "271  1905         5          1        2         0          0         1   \n",
       "250  3510         3          1        3         1          0         0   \n",
       "\n",
       "     hotwaterheating  airconditioning  parking  prefarea    price  \n",
       "454                0                1        0         0  3143000  \n",
       "392                0                0        0         0  3500000  \n",
       "231                0                0        0         1  4690000  \n",
       "271                0                0        0         0  4340000  \n",
       "250                0                0        0         0  4515000  "
      ]
     },
     "execution_count": 607,
     "metadata": {},
     "output_type": "execute_result"
    }
   ],
   "source": [
    "# First get the total training and validation tables\n",
    "data2b = ['area', 'bedrooms', 'bathrooms', 'stories', 'mainroad', 'guestroom', 'basement', 'hotwaterheating', 'airconditioning', 'parking', 'prefarea', 'price']\n",
    "trainTable2b = trainSet[data2b]\n",
    "validTable2b = validSet[data2b]\n",
    "\n",
    "trainTable2b.head()"
   ]
  },
  {
   "cell_type": "code",
   "execution_count": 608,
   "id": "240a990f-a874-4305-b9c9-95acbc6f6d5f",
   "metadata": {},
   "outputs": [
    {
     "name": "stdout",
     "output_type": "stream",
     "text": [
      "Standardized training table:\n"
     ]
    },
    {
     "data": {
      "text/html": [
       "<div>\n",
       "<style scoped>\n",
       "    .dataframe tbody tr th:only-of-type {\n",
       "        vertical-align: middle;\n",
       "    }\n",
       "\n",
       "    .dataframe tbody tr th {\n",
       "        vertical-align: top;\n",
       "    }\n",
       "\n",
       "    .dataframe thead th {\n",
       "        text-align: right;\n",
       "    }\n",
       "</style>\n",
       "<table border=\"1\" class=\"dataframe\">\n",
       "  <thead>\n",
       "    <tr style=\"text-align: right;\">\n",
       "      <th></th>\n",
       "      <th>area</th>\n",
       "      <th>bedrooms</th>\n",
       "      <th>bathrooms</th>\n",
       "      <th>stories</th>\n",
       "      <th>mainroad</th>\n",
       "      <th>guestroom</th>\n",
       "      <th>basement</th>\n",
       "      <th>hotwaterheating</th>\n",
       "      <th>airconditioning</th>\n",
       "      <th>parking</th>\n",
       "      <th>prefarea</th>\n",
       "      <th>price</th>\n",
       "    </tr>\n",
       "  </thead>\n",
       "  <tbody>\n",
       "    <tr>\n",
       "      <th>454</th>\n",
       "      <td>-0.286366</td>\n",
       "      <td>0.073764</td>\n",
       "      <td>-0.58123</td>\n",
       "      <td>0.207401</td>\n",
       "      <td>0.393123</td>\n",
       "      <td>-0.457738</td>\n",
       "      <td>-0.711287</td>\n",
       "      <td>-0.216109</td>\n",
       "      <td>1.422607</td>\n",
       "      <td>-0.82296</td>\n",
       "      <td>-0.564215</td>\n",
       "      <td>-0.868394</td>\n",
       "    </tr>\n",
       "    <tr>\n",
       "      <th>392</th>\n",
       "      <td>-0.544762</td>\n",
       "      <td>0.073764</td>\n",
       "      <td>-0.58123</td>\n",
       "      <td>0.207401</td>\n",
       "      <td>0.393123</td>\n",
       "      <td>-0.457738</td>\n",
       "      <td>-0.711287</td>\n",
       "      <td>-0.216109</td>\n",
       "      <td>-0.702935</td>\n",
       "      <td>-0.82296</td>\n",
       "      <td>-0.564215</td>\n",
       "      <td>-0.677628</td>\n",
       "    </tr>\n",
       "    <tr>\n",
       "      <th>231</th>\n",
       "      <td>-0.377564</td>\n",
       "      <td>0.073764</td>\n",
       "      <td>-0.58123</td>\n",
       "      <td>-0.937813</td>\n",
       "      <td>0.393123</td>\n",
       "      <td>-0.457738</td>\n",
       "      <td>-0.711287</td>\n",
       "      <td>-0.216109</td>\n",
       "      <td>-0.702935</td>\n",
       "      <td>-0.82296</td>\n",
       "      <td>1.772373</td>\n",
       "      <td>-0.041744</td>\n",
       "    </tr>\n",
       "    <tr>\n",
       "      <th>271</th>\n",
       "      <td>-1.601145</td>\n",
       "      <td>2.884176</td>\n",
       "      <td>-0.58123</td>\n",
       "      <td>0.207401</td>\n",
       "      <td>-2.543735</td>\n",
       "      <td>-0.457738</td>\n",
       "      <td>1.405903</td>\n",
       "      <td>-0.216109</td>\n",
       "      <td>-0.702935</td>\n",
       "      <td>-0.82296</td>\n",
       "      <td>-0.564215</td>\n",
       "      <td>-0.228768</td>\n",
       "    </tr>\n",
       "    <tr>\n",
       "      <th>250</th>\n",
       "      <td>-0.787958</td>\n",
       "      <td>0.073764</td>\n",
       "      <td>-0.58123</td>\n",
       "      <td>1.352614</td>\n",
       "      <td>0.393123</td>\n",
       "      <td>-0.457738</td>\n",
       "      <td>-0.711287</td>\n",
       "      <td>-0.216109</td>\n",
       "      <td>-0.702935</td>\n",
       "      <td>-0.82296</td>\n",
       "      <td>-0.564215</td>\n",
       "      <td>-0.135256</td>\n",
       "    </tr>\n",
       "  </tbody>\n",
       "</table>\n",
       "</div>"
      ],
      "text/plain": [
       "         area  bedrooms  bathrooms   stories  mainroad  guestroom  basement  \\\n",
       "454 -0.286366  0.073764   -0.58123  0.207401  0.393123  -0.457738 -0.711287   \n",
       "392 -0.544762  0.073764   -0.58123  0.207401  0.393123  -0.457738 -0.711287   \n",
       "231 -0.377564  0.073764   -0.58123 -0.937813  0.393123  -0.457738 -0.711287   \n",
       "271 -1.601145  2.884176   -0.58123  0.207401 -2.543735  -0.457738  1.405903   \n",
       "250 -0.787958  0.073764   -0.58123  1.352614  0.393123  -0.457738 -0.711287   \n",
       "\n",
       "     hotwaterheating  airconditioning  parking  prefarea     price  \n",
       "454        -0.216109         1.422607 -0.82296 -0.564215 -0.868394  \n",
       "392        -0.216109        -0.702935 -0.82296 -0.564215 -0.677628  \n",
       "231        -0.216109        -0.702935 -0.82296  1.772373 -0.041744  \n",
       "271        -0.216109        -0.702935 -0.82296 -0.564215 -0.228768  \n",
       "250        -0.216109        -0.702935 -0.82296 -0.564215 -0.135256  "
      ]
     },
     "execution_count": 608,
     "metadata": {},
     "output_type": "execute_result"
    }
   ],
   "source": [
    "# Standardize all training data\n",
    "trainTable2b[data2b] = standard.fit_transform(trainTable2b[data2b])  \n",
    "print('Standardized training table:')\n",
    "trainTable2b.head(5)"
   ]
  },
  {
   "cell_type": "code",
   "execution_count": 609,
   "id": "54d6d68f-4518-4c5d-823c-9df3f7fdd29a",
   "metadata": {},
   "outputs": [
    {
     "name": "stdout",
     "output_type": "stream",
     "text": [
      "Standardized validation table:\n"
     ]
    },
    {
     "data": {
      "text/html": [
       "<div>\n",
       "<style scoped>\n",
       "    .dataframe tbody tr th:only-of-type {\n",
       "        vertical-align: middle;\n",
       "    }\n",
       "\n",
       "    .dataframe tbody tr th {\n",
       "        vertical-align: top;\n",
       "    }\n",
       "\n",
       "    .dataframe thead th {\n",
       "        text-align: right;\n",
       "    }\n",
       "</style>\n",
       "<table border=\"1\" class=\"dataframe\">\n",
       "  <thead>\n",
       "    <tr style=\"text-align: right;\">\n",
       "      <th></th>\n",
       "      <th>area</th>\n",
       "      <th>bedrooms</th>\n",
       "      <th>bathrooms</th>\n",
       "      <th>stories</th>\n",
       "      <th>mainroad</th>\n",
       "      <th>guestroom</th>\n",
       "      <th>basement</th>\n",
       "      <th>hotwaterheating</th>\n",
       "      <th>airconditioning</th>\n",
       "      <th>parking</th>\n",
       "      <th>prefarea</th>\n",
       "      <th>price</th>\n",
       "    </tr>\n",
       "  </thead>\n",
       "  <tbody>\n",
       "    <tr>\n",
       "      <th>239</th>\n",
       "      <td>-0.528409</td>\n",
       "      <td>-0.007694</td>\n",
       "      <td>-0.550215</td>\n",
       "      <td>0.265241</td>\n",
       "      <td>0.434057</td>\n",
       "      <td>-0.482786</td>\n",
       "      <td>-0.789786</td>\n",
       "      <td>-0.226455</td>\n",
       "      <td>-0.624364</td>\n",
       "      <td>0.442615</td>\n",
       "      <td>-0.530330</td>\n",
       "      <td>-0.095841</td>\n",
       "    </tr>\n",
       "    <tr>\n",
       "      <th>113</th>\n",
       "      <td>1.673306</td>\n",
       "      <td>-0.007694</td>\n",
       "      <td>-0.550215</td>\n",
       "      <td>-0.910424</td>\n",
       "      <td>0.434057</td>\n",
       "      <td>-0.482786</td>\n",
       "      <td>1.266165</td>\n",
       "      <td>-0.226455</td>\n",
       "      <td>-0.624364</td>\n",
       "      <td>1.652428</td>\n",
       "      <td>1.885618</td>\n",
       "      <td>0.708470</td>\n",
       "    </tr>\n",
       "    <tr>\n",
       "      <th>325</th>\n",
       "      <td>-0.739961</td>\n",
       "      <td>1.254180</td>\n",
       "      <td>-0.550215</td>\n",
       "      <td>0.265241</td>\n",
       "      <td>0.434057</td>\n",
       "      <td>-0.482786</td>\n",
       "      <td>-0.789786</td>\n",
       "      <td>-0.226455</td>\n",
       "      <td>1.601630</td>\n",
       "      <td>-0.767199</td>\n",
       "      <td>-0.530330</td>\n",
       "      <td>-0.405914</td>\n",
       "    </tr>\n",
       "    <tr>\n",
       "      <th>66</th>\n",
       "      <td>3.075822</td>\n",
       "      <td>-1.269569</td>\n",
       "      <td>-0.550215</td>\n",
       "      <td>-0.910424</td>\n",
       "      <td>0.434057</td>\n",
       "      <td>-0.482786</td>\n",
       "      <td>1.266165</td>\n",
       "      <td>4.415880</td>\n",
       "      <td>-0.624364</td>\n",
       "      <td>0.442615</td>\n",
       "      <td>-0.530330</td>\n",
       "      <td>1.163244</td>\n",
       "    </tr>\n",
       "    <tr>\n",
       "      <th>479</th>\n",
       "      <td>-0.661608</td>\n",
       "      <td>1.254180</td>\n",
       "      <td>-0.550215</td>\n",
       "      <td>0.265241</td>\n",
       "      <td>-2.303843</td>\n",
       "      <td>-0.482786</td>\n",
       "      <td>-0.789786</td>\n",
       "      <td>-0.226455</td>\n",
       "      <td>-0.624364</td>\n",
       "      <td>-0.767199</td>\n",
       "      <td>-0.530330</td>\n",
       "      <td>-0.979079</td>\n",
       "    </tr>\n",
       "  </tbody>\n",
       "</table>\n",
       "</div>"
      ],
      "text/plain": [
       "         area  bedrooms  bathrooms   stories  mainroad  guestroom  basement  \\\n",
       "239 -0.528409 -0.007694  -0.550215  0.265241  0.434057  -0.482786 -0.789786   \n",
       "113  1.673306 -0.007694  -0.550215 -0.910424  0.434057  -0.482786  1.266165   \n",
       "325 -0.739961  1.254180  -0.550215  0.265241  0.434057  -0.482786 -0.789786   \n",
       "66   3.075822 -1.269569  -0.550215 -0.910424  0.434057  -0.482786  1.266165   \n",
       "479 -0.661608  1.254180  -0.550215  0.265241 -2.303843  -0.482786 -0.789786   \n",
       "\n",
       "     hotwaterheating  airconditioning   parking  prefarea     price  \n",
       "239        -0.226455        -0.624364  0.442615 -0.530330 -0.095841  \n",
       "113        -0.226455        -0.624364  1.652428  1.885618  0.708470  \n",
       "325        -0.226455         1.601630 -0.767199 -0.530330 -0.405914  \n",
       "66          4.415880        -0.624364  0.442615 -0.530330  1.163244  \n",
       "479        -0.226455        -0.624364 -0.767199 -0.530330 -0.979079  "
      ]
     },
     "execution_count": 609,
     "metadata": {},
     "output_type": "execute_result"
    }
   ],
   "source": [
    "# Standardize all validation data\n",
    "validTable2b[data2b] = standard.fit_transform(validTable2b[data2b])\n",
    "print('Standardized validation table:')\n",
    "validTable2b.head(5)"
   ]
  },
  {
   "cell_type": "code",
   "execution_count": 610,
   "id": "94cc2e36-3a1a-4b1b-a06c-eb879f28bb1f",
   "metadata": {},
   "outputs": [
    {
     "name": "stdout",
     "output_type": "stream",
     "text": [
      "Standardized training Y:\n"
     ]
    },
    {
     "data": {
      "text/plain": [
       "array([-0.86839366, -0.67762826, -0.04174357, -0.22876848, -0.13525602])"
      ]
     },
     "execution_count": 610,
     "metadata": {},
     "output_type": "execute_result"
    }
   ],
   "source": [
    "# Extract Y values from the standardized training data\n",
    "Y = trainTable2b.pop('price')\n",
    "trainStdY = Y.values\n",
    "print('Standardized training Y:')\n",
    "trainStdY[:5]"
   ]
  },
  {
   "cell_type": "code",
   "execution_count": 611,
   "id": "b3f4bad9-1d4f-48f9-8b1b-b16acbcdb468",
   "metadata": {},
   "outputs": [
    {
     "name": "stdout",
     "output_type": "stream",
     "text": [
      "Standardized validation Y:\n"
     ]
    },
    {
     "data": {
      "text/plain": [
       "array([-0.09584075,  0.70846983, -0.40591375,  1.16324356, -0.97907899])"
      ]
     },
     "execution_count": 611,
     "metadata": {},
     "output_type": "execute_result"
    }
   ],
   "source": [
    "# Extract Y values from the standardized validation data\n",
    "Y = validTable2b.pop('price')\n",
    "validStdY = Y.values\n",
    "print('Standardized validation Y:')\n",
    "validStdY[:5]"
   ]
  },
  {
   "cell_type": "code",
   "execution_count": 612,
   "id": "5a1ad85c-6fa8-4d16-989a-62458e5fe869",
   "metadata": {},
   "outputs": [
    {
     "name": "stdout",
     "output_type": "stream",
     "text": [
      "Standardized training X variables (binary included):\n"
     ]
    },
    {
     "data": {
      "text/plain": [
       "array([[ 1.        , -0.28636589,  0.07376409, -0.58122996,  0.20740088,\n",
       "         0.3931227 , -0.45773771, -0.71128676, -0.21610946,  1.42260659,\n",
       "        -0.82296013, -0.56421547],\n",
       "       [ 1.        , -0.54476182,  0.07376409, -0.58122996,  0.20740088,\n",
       "         0.3931227 , -0.45773771, -0.71128676, -0.21610946, -0.70293502,\n",
       "        -0.82296013, -0.56421547],\n",
       "       [ 1.        , -0.37756445,  0.07376409, -0.58122996, -0.93781267,\n",
       "         0.3931227 , -0.45773771, -0.71128676, -0.21610946, -0.70293502,\n",
       "        -0.82296013,  1.77237252],\n",
       "       [ 1.        , -1.60114518,  2.88417578, -0.58122996,  0.20740088,\n",
       "        -2.5437351 , -0.45773771,  1.40590273, -0.21610946, -0.70293502,\n",
       "        -0.82296013, -0.56421547],\n",
       "       [ 1.        , -0.78795799,  0.07376409, -0.58122996,  1.35261443,\n",
       "         0.3931227 , -0.45773771, -0.71128676, -0.21610946, -0.70293502,\n",
       "        -0.82296013, -0.56421547]])"
      ]
     },
     "execution_count": 612,
     "metadata": {},
     "output_type": "execute_result"
    }
   ],
   "source": [
    "# Assemble X variables for training set \n",
    "area = trainTable2b.values[:,0]        \n",
    "areaT = area.reshape(len(trainTable2b), 1)\n",
    "\n",
    "bed = trainTable2b.values[:,1]        \n",
    "bedT = bed.reshape(len(trainTable2b), 1)\n",
    "\n",
    "bath = trainTable2b.values[:,2]        \n",
    "bathT = bath.reshape(len(trainTable2b), 1)\n",
    "\n",
    "stor = trainTable2b.values[:,3]        \n",
    "storT = stor.reshape(len(trainTable2b), 1)\n",
    "\n",
    "mainroad = trainTable2b.values[:,4]        \n",
    "mainroadT = mainroad.reshape(len(trainTable2b), 1)\n",
    "\n",
    "guest = trainTable2b.values[:,5]        \n",
    "guestT = guest.reshape(len(trainTable2b), 1)\n",
    "\n",
    "basement = trainTable2b.values[:,6]        \n",
    "basementT = basement.reshape(len(trainTable2b), 1)\n",
    "\n",
    "hotwater = trainTable2b.values[:,7]        \n",
    "hotwaterT = hotwater.reshape(len(trainTable2b), 1)\n",
    "\n",
    "aircon = trainTable2b.values[:,8]        \n",
    "airconT = aircon.reshape(len(trainTable2b), 1)\n",
    "\n",
    "park = trainTable2b.values[:,9]        \n",
    "parkT = park.reshape(len(trainTable2b), 1)\n",
    "\n",
    "prefarea = trainTable2b.values[:,10]        \n",
    "prefareaT = prefarea.reshape(len(trainTable2b), 1)\n",
    "\n",
    "X0 = np.ones((len(trainTable2b) , 1))\n",
    "varsStdTrain = np.hstack((X0,areaT,bedT,bathT,storT,mainroadT,guestT,basementT,hotwaterT,airconT,parkT,prefareaT))\n",
    "print('Standardized training X variables (binary included):')\n",
    "varsStdTrain[:5]"
   ]
  },
  {
   "cell_type": "code",
   "execution_count": 613,
   "id": "f4e8f2e4-20d7-4f66-ae54-fabd90d7e5c5",
   "metadata": {},
   "outputs": [
    {
     "name": "stdout",
     "output_type": "stream",
     "text": [
      "Standardized validation X variables (binary included):\n"
     ]
    },
    {
     "data": {
      "text/plain": [
       "array([[ 1.        , -0.52840866, -0.00769436, -0.55021459,  0.26524149,\n",
       "         0.43405737, -0.4827864 , -0.78978629, -0.22645541, -0.62436408,\n",
       "         0.44261462, -0.53033009],\n",
       "       [ 1.        ,  1.67330604, -0.00769436, -0.55021459, -0.91042351,\n",
       "         0.43405737, -0.4827864 ,  1.26616531, -0.22645541, -0.62436408,\n",
       "         1.65242793,  1.88561808],\n",
       "       [ 1.        , -0.73996132,  1.25418015, -0.55021459,  0.26524149,\n",
       "         0.43405737, -0.4827864 , -0.78978629, -0.22645541,  1.6016296 ,\n",
       "        -0.76719868, -0.53033009],\n",
       "       [ 1.        ,  3.07582182, -1.26956887, -0.55021459, -0.91042351,\n",
       "         0.43405737, -0.4827864 ,  1.26616531,  4.41588043, -0.62436408,\n",
       "         0.44261462, -0.53033009],\n",
       "       [ 1.        , -0.66160849,  1.25418015, -0.55021459,  0.26524149,\n",
       "        -2.30384294, -0.4827864 , -0.78978629, -0.22645541, -0.62436408,\n",
       "        -0.76719868, -0.53033009]])"
      ]
     },
     "execution_count": 613,
     "metadata": {},
     "output_type": "execute_result"
    }
   ],
   "source": [
    "# Assemble X variables for validation set \n",
    "area = validTable2b.values[:,0]        \n",
    "areaT = area.reshape(len(validTable2b), 1)\n",
    "\n",
    "bed = validTable2b.values[:,1]        \n",
    "bedT = bed.reshape(len(validTable2b), 1)\n",
    "\n",
    "bath = validTable2b.values[:,2]        \n",
    "bathT = bath.reshape(len(validTable2b), 1)\n",
    "\n",
    "stor = validTable2b.values[:,3]        \n",
    "storT = stor.reshape(len(validTable2b), 1)\n",
    "\n",
    "mainroad = validTable2b.values[:,4]        \n",
    "mainroadT = mainroad.reshape(len(validTable2b), 1)\n",
    "\n",
    "guest = validTable2b.values[:,5]        \n",
    "guestT = guest.reshape(len(validTable2b), 1)\n",
    "\n",
    "basement = validTable2b.values[:,6]        \n",
    "basementT = basement.reshape(len(validTable2b), 1)\n",
    "\n",
    "hotwater = validTable2b.values[:,7]        \n",
    "hotwaterT = hotwater.reshape(len(validTable2b), 1)\n",
    "\n",
    "aircon = validTable2b.values[:,8]        \n",
    "airconT = aircon.reshape(len(validTable2b), 1)\n",
    "\n",
    "park = validTable2b.values[:,9]        \n",
    "parkT = park.reshape(len(validTable2b), 1)\n",
    "\n",
    "prefarea = validTable2b.values[:,10]        \n",
    "prefareaT = prefarea.reshape(len(validTable2b), 1)\n",
    "\n",
    "X0 = np.ones((len(validTable2b) , 1))\n",
    "varsStdValid = np.hstack((X0,areaT,bedT,bathT,storT,mainroadT,guestT,basementT,hotwaterT,airconT,parkT,prefareaT))\n",
    "print('Standardized validation X variables (binary included):')\n",
    "varsStdValid[:5]"
   ]
  },
  {
   "cell_type": "code",
   "execution_count": 615,
   "id": "d03cffd1-b656-4393-96b6-ab5fad5f3880",
   "metadata": {},
   "outputs": [
    {
     "name": "stdout",
     "output_type": "stream",
     "text": [
      "Final thetas: [1.62479612e-16 2.69430270e-01 5.88474875e-02 2.48153203e-01\n",
      " 1.99265962e-01 9.20205597e-02 8.25960172e-02 9.41683856e-02\n",
      " 1.40206929e-01 2.32616682e-01 1.16157210e-01 1.62960286e-01]\n",
      "Training set loss history [0.28371136 0.23745809 0.2049124  ... 0.12241216 0.12241216 0.12241216]\n",
      "Validation set loss history [0.12026153 0.09882645 0.08356541 ... 0.04294572 0.04294572 0.04294572]\n"
     ]
    }
   ],
   "source": [
    "thetas2b = np.zeros(12)\n",
    "iterations = 3000      \n",
    "alpha = 0.1           \n",
    "finalThetas2b, lossHistory2b, lossHistoryV2b = gradient(varsStdTrain, trainStdY, thetas2b, alpha, iterations, varsStdValid, validStdY)\n",
    "print('Final thetas:', finalThetas2b)\n",
    "print('Training set loss history', lossHistory2b)\n",
    "print('Validation set loss history', lossHistoryV2b)"
   ]
  },
  {
   "cell_type": "code",
   "execution_count": 616,
   "id": "09ccae59-0091-4819-9aac-874ec6024deb",
   "metadata": {},
   "outputs": [
    {
     "data": {
      "text/plain": [
       "<matplotlib.legend.Legend at 0x7fb7b07192b0>"
      ]
     },
     "execution_count": 616,
     "metadata": {},
     "output_type": "execute_result"
    },
    {
     "data": {
      "image/png": "[encoded data removed]",
      "text/plain": [
       "<Figure size 720x432 with 1 Axes>"
      ]
     },
     "metadata": {
      "needs_background": "light"
     },
     "output_type": "display_data"
    }
   ],
   "source": [
    "plt.plot(range(1, iterations + 1), lossHistory2b, color = 'blue', label = 'Training Set')\n",
    "plt.plot(range(1, iterations + 1), lossHistoryV2b, color = 'red', label = 'Validation Set')\n",
    "plt.rcParams[\"figure.figsize\"] = (10,6) \n",
    "plt.grid() \n",
    "plt.xlabel('Number of iterations') \n",
    "plt.ylabel('Loss (J)') \n",
    "plt.title('2b: Convergence of Gradient Descent for Standardized Binary Training and Validation') \n",
    "plt.legend()"
   ]
  },
  {
   "cell_type": "code",
   "execution_count": 617,
   "id": "c5c31d90-b4ed-4f52-b6ec-edf169bbf825",
   "metadata": {},
   "outputs": [
    {
     "data": {
      "text/html": [
       "<div>\n",
       "<style scoped>\n",
       "    .dataframe tbody tr th:only-of-type {\n",
       "        vertical-align: middle;\n",
       "    }\n",
       "\n",
       "    .dataframe tbody tr th {\n",
       "        vertical-align: top;\n",
       "    }\n",
       "\n",
       "    .dataframe thead th {\n",
       "        text-align: right;\n",
       "    }\n",
       "</style>\n",
       "<table border=\"1\" class=\"dataframe\">\n",
       "  <thead>\n",
       "    <tr style=\"text-align: right;\">\n",
       "      <th></th>\n",
       "      <th>area</th>\n",
       "      <th>bedrooms</th>\n",
       "      <th>bathrooms</th>\n",
       "      <th>stories</th>\n",
       "      <th>mainroad</th>\n",
       "      <th>guestroom</th>\n",
       "      <th>basement</th>\n",
       "      <th>hotwaterheating</th>\n",
       "      <th>airconditioning</th>\n",
       "      <th>parking</th>\n",
       "      <th>prefarea</th>\n",
       "      <th>price</th>\n",
       "    </tr>\n",
       "  </thead>\n",
       "  <tbody>\n",
       "    <tr>\n",
       "      <th>454</th>\n",
       "      <td>4500</td>\n",
       "      <td>3</td>\n",
       "      <td>1</td>\n",
       "      <td>2</td>\n",
       "      <td>1</td>\n",
       "      <td>0</td>\n",
       "      <td>0</td>\n",
       "      <td>0</td>\n",
       "      <td>1</td>\n",
       "      <td>0</td>\n",
       "      <td>0</td>\n",
       "      <td>3143000</td>\n",
       "    </tr>\n",
       "    <tr>\n",
       "      <th>392</th>\n",
       "      <td>3990</td>\n",
       "      <td>3</td>\n",
       "      <td>1</td>\n",
       "      <td>2</td>\n",
       "      <td>1</td>\n",
       "      <td>0</td>\n",
       "      <td>0</td>\n",
       "      <td>0</td>\n",
       "      <td>0</td>\n",
       "      <td>0</td>\n",
       "      <td>0</td>\n",
       "      <td>3500000</td>\n",
       "    </tr>\n",
       "    <tr>\n",
       "      <th>231</th>\n",
       "      <td>4320</td>\n",
       "      <td>3</td>\n",
       "      <td>1</td>\n",
       "      <td>1</td>\n",
       "      <td>1</td>\n",
       "      <td>0</td>\n",
       "      <td>0</td>\n",
       "      <td>0</td>\n",
       "      <td>0</td>\n",
       "      <td>0</td>\n",
       "      <td>1</td>\n",
       "      <td>4690000</td>\n",
       "    </tr>\n",
       "    <tr>\n",
       "      <th>271</th>\n",
       "      <td>1905</td>\n",
       "      <td>5</td>\n",
       "      <td>1</td>\n",
       "      <td>2</td>\n",
       "      <td>0</td>\n",
       "      <td>0</td>\n",
       "      <td>1</td>\n",
       "      <td>0</td>\n",
       "      <td>0</td>\n",
       "      <td>0</td>\n",
       "      <td>0</td>\n",
       "      <td>4340000</td>\n",
       "    </tr>\n",
       "    <tr>\n",
       "      <th>250</th>\n",
       "      <td>3510</td>\n",
       "      <td>3</td>\n",
       "      <td>1</td>\n",
       "      <td>3</td>\n",
       "      <td>1</td>\n",
       "      <td>0</td>\n",
       "      <td>0</td>\n",
       "      <td>0</td>\n",
       "      <td>0</td>\n",
       "      <td>0</td>\n",
       "      <td>0</td>\n",
       "      <td>4515000</td>\n",
       "    </tr>\n",
       "  </tbody>\n",
       "</table>\n",
       "</div>"
      ],
      "text/plain": [
       "     area  bedrooms  bathrooms  stories  mainroad  guestroom  basement  \\\n",
       "454  4500         3          1        2         1          0         0   \n",
       "392  3990         3          1        2         1          0         0   \n",
       "231  4320         3          1        1         1          0         0   \n",
       "271  1905         5          1        2         0          0         1   \n",
       "250  3510         3          1        3         1          0         0   \n",
       "\n",
       "     hotwaterheating  airconditioning  parking  prefarea    price  \n",
       "454                0                1        0         0  3143000  \n",
       "392                0                0        0         0  3500000  \n",
       "231                0                0        0         1  4690000  \n",
       "271                0                0        0         0  4340000  \n",
       "250                0                0        0         0  4515000  "
      ]
     },
     "execution_count": 617,
     "metadata": {},
     "output_type": "execute_result"
    }
   ],
   "source": [
    "# Reset the tables due to popping\n",
    "trainTable2b = trainSet[data2b]\n",
    "validTable2b = validSet[data2b]\n",
    "\n",
    "trainTable2b.head()"
   ]
  },
  {
   "cell_type": "code",
   "execution_count": 618,
   "id": "d07d730f-ef94-44d7-9397-5997c4134ad1",
   "metadata": {},
   "outputs": [
    {
     "name": "stdout",
     "output_type": "stream",
     "text": [
      "Normalized training table:\n"
     ]
    },
    {
     "data": {
      "text/html": [
       "<div>\n",
       "<style scoped>\n",
       "    .dataframe tbody tr th:only-of-type {\n",
       "        vertical-align: middle;\n",
       "    }\n",
       "\n",
       "    .dataframe tbody tr th {\n",
       "        vertical-align: top;\n",
       "    }\n",
       "\n",
       "    .dataframe thead th {\n",
       "        text-align: right;\n",
       "    }\n",
       "</style>\n",
       "<table border=\"1\" class=\"dataframe\">\n",
       "  <thead>\n",
       "    <tr style=\"text-align: right;\">\n",
       "      <th></th>\n",
       "      <th>area</th>\n",
       "      <th>bedrooms</th>\n",
       "      <th>bathrooms</th>\n",
       "      <th>stories</th>\n",
       "      <th>mainroad</th>\n",
       "      <th>guestroom</th>\n",
       "      <th>basement</th>\n",
       "      <th>hotwaterheating</th>\n",
       "      <th>airconditioning</th>\n",
       "      <th>parking</th>\n",
       "      <th>prefarea</th>\n",
       "      <th>price</th>\n",
       "    </tr>\n",
       "  </thead>\n",
       "  <tbody>\n",
       "    <tr>\n",
       "      <th>454</th>\n",
       "      <td>0.193548</td>\n",
       "      <td>0.5</td>\n",
       "      <td>0.0</td>\n",
       "      <td>0.333333</td>\n",
       "      <td>1.0</td>\n",
       "      <td>0.0</td>\n",
       "      <td>0.0</td>\n",
       "      <td>0.0</td>\n",
       "      <td>1.0</td>\n",
       "      <td>0.0</td>\n",
       "      <td>0.0</td>\n",
       "      <td>0.120606</td>\n",
       "    </tr>\n",
       "    <tr>\n",
       "      <th>392</th>\n",
       "      <td>0.156495</td>\n",
       "      <td>0.5</td>\n",
       "      <td>0.0</td>\n",
       "      <td>0.333333</td>\n",
       "      <td>1.0</td>\n",
       "      <td>0.0</td>\n",
       "      <td>0.0</td>\n",
       "      <td>0.0</td>\n",
       "      <td>0.0</td>\n",
       "      <td>0.0</td>\n",
       "      <td>0.0</td>\n",
       "      <td>0.151515</td>\n",
       "    </tr>\n",
       "    <tr>\n",
       "      <th>231</th>\n",
       "      <td>0.180471</td>\n",
       "      <td>0.5</td>\n",
       "      <td>0.0</td>\n",
       "      <td>0.000000</td>\n",
       "      <td>1.0</td>\n",
       "      <td>0.0</td>\n",
       "      <td>0.0</td>\n",
       "      <td>0.0</td>\n",
       "      <td>0.0</td>\n",
       "      <td>0.0</td>\n",
       "      <td>1.0</td>\n",
       "      <td>0.254545</td>\n",
       "    </tr>\n",
       "    <tr>\n",
       "      <th>271</th>\n",
       "      <td>0.005013</td>\n",
       "      <td>1.0</td>\n",
       "      <td>0.0</td>\n",
       "      <td>0.333333</td>\n",
       "      <td>0.0</td>\n",
       "      <td>0.0</td>\n",
       "      <td>1.0</td>\n",
       "      <td>0.0</td>\n",
       "      <td>0.0</td>\n",
       "      <td>0.0</td>\n",
       "      <td>0.0</td>\n",
       "      <td>0.224242</td>\n",
       "    </tr>\n",
       "    <tr>\n",
       "      <th>250</th>\n",
       "      <td>0.121622</td>\n",
       "      <td>0.5</td>\n",
       "      <td>0.0</td>\n",
       "      <td>0.666667</td>\n",
       "      <td>1.0</td>\n",
       "      <td>0.0</td>\n",
       "      <td>0.0</td>\n",
       "      <td>0.0</td>\n",
       "      <td>0.0</td>\n",
       "      <td>0.0</td>\n",
       "      <td>0.0</td>\n",
       "      <td>0.239394</td>\n",
       "    </tr>\n",
       "  </tbody>\n",
       "</table>\n",
       "</div>"
      ],
      "text/plain": [
       "         area  bedrooms  bathrooms   stories  mainroad  guestroom  basement  \\\n",
       "454  0.193548       0.5        0.0  0.333333       1.0        0.0       0.0   \n",
       "392  0.156495       0.5        0.0  0.333333       1.0        0.0       0.0   \n",
       "231  0.180471       0.5        0.0  0.000000       1.0        0.0       0.0   \n",
       "271  0.005013       1.0        0.0  0.333333       0.0        0.0       1.0   \n",
       "250  0.121622       0.5        0.0  0.666667       1.0        0.0       0.0   \n",
       "\n",
       "     hotwaterheating  airconditioning  parking  prefarea     price  \n",
       "454              0.0              1.0      0.0       0.0  0.120606  \n",
       "392              0.0              0.0      0.0       0.0  0.151515  \n",
       "231              0.0              0.0      0.0       1.0  0.254545  \n",
       "271              0.0              0.0      0.0       0.0  0.224242  \n",
       "250              0.0              0.0      0.0       0.0  0.239394  "
      ]
     },
     "execution_count": 618,
     "metadata": {},
     "output_type": "execute_result"
    }
   ],
   "source": [
    "# Normalize all training data\n",
    "trainTable2b[data2b] = minMax.fit_transform(trainTable2b[data2b])  \n",
    "print('Normalized training table:')\n",
    "trainTable2b.head(5)"
   ]
  },
  {
   "cell_type": "code",
   "execution_count": 619,
   "id": "3beb843d-323d-4c44-874d-6fa01dc0e9d0",
   "metadata": {},
   "outputs": [
    {
     "name": "stdout",
     "output_type": "stream",
     "text": [
      "Normalized validation table:\n"
     ]
    },
    {
     "data": {
      "text/html": [
       "<div>\n",
       "<style scoped>\n",
       "    .dataframe tbody tr th:only-of-type {\n",
       "        vertical-align: middle;\n",
       "    }\n",
       "\n",
       "    .dataframe tbody tr th {\n",
       "        vertical-align: top;\n",
       "    }\n",
       "\n",
       "    .dataframe thead th {\n",
       "        text-align: right;\n",
       "    }\n",
       "</style>\n",
       "<table border=\"1\" class=\"dataframe\">\n",
       "  <thead>\n",
       "    <tr style=\"text-align: right;\">\n",
       "      <th></th>\n",
       "      <th>area</th>\n",
       "      <th>bedrooms</th>\n",
       "      <th>bathrooms</th>\n",
       "      <th>stories</th>\n",
       "      <th>mainroad</th>\n",
       "      <th>guestroom</th>\n",
       "      <th>basement</th>\n",
       "      <th>hotwaterheating</th>\n",
       "      <th>airconditioning</th>\n",
       "      <th>parking</th>\n",
       "      <th>prefarea</th>\n",
       "      <th>price</th>\n",
       "    </tr>\n",
       "  </thead>\n",
       "  <tbody>\n",
       "    <tr>\n",
       "      <th>239</th>\n",
       "      <td>0.161512</td>\n",
       "      <td>0.4</td>\n",
       "      <td>0.0</td>\n",
       "      <td>0.333333</td>\n",
       "      <td>1.0</td>\n",
       "      <td>0.0</td>\n",
       "      <td>0.0</td>\n",
       "      <td>0.0</td>\n",
       "      <td>0.0</td>\n",
       "      <td>0.333333</td>\n",
       "      <td>0.0</td>\n",
       "      <td>0.270000</td>\n",
       "    </tr>\n",
       "    <tr>\n",
       "      <th>113</th>\n",
       "      <td>0.547766</td>\n",
       "      <td>0.4</td>\n",
       "      <td>0.0</td>\n",
       "      <td>0.000000</td>\n",
       "      <td>1.0</td>\n",
       "      <td>0.0</td>\n",
       "      <td>1.0</td>\n",
       "      <td>0.0</td>\n",
       "      <td>0.0</td>\n",
       "      <td>0.666667</td>\n",
       "      <td>1.0</td>\n",
       "      <td>0.412667</td>\n",
       "    </tr>\n",
       "    <tr>\n",
       "      <th>325</th>\n",
       "      <td>0.124399</td>\n",
       "      <td>0.6</td>\n",
       "      <td>0.0</td>\n",
       "      <td>0.333333</td>\n",
       "      <td>1.0</td>\n",
       "      <td>0.0</td>\n",
       "      <td>0.0</td>\n",
       "      <td>0.0</td>\n",
       "      <td>1.0</td>\n",
       "      <td>0.000000</td>\n",
       "      <td>0.0</td>\n",
       "      <td>0.215000</td>\n",
       "    </tr>\n",
       "    <tr>\n",
       "      <th>66</th>\n",
       "      <td>0.793814</td>\n",
       "      <td>0.2</td>\n",
       "      <td>0.0</td>\n",
       "      <td>0.000000</td>\n",
       "      <td>1.0</td>\n",
       "      <td>0.0</td>\n",
       "      <td>1.0</td>\n",
       "      <td>1.0</td>\n",
       "      <td>0.0</td>\n",
       "      <td>0.333333</td>\n",
       "      <td>0.0</td>\n",
       "      <td>0.493333</td>\n",
       "    </tr>\n",
       "    <tr>\n",
       "      <th>479</th>\n",
       "      <td>0.138144</td>\n",
       "      <td>0.6</td>\n",
       "      <td>0.0</td>\n",
       "      <td>0.333333</td>\n",
       "      <td>0.0</td>\n",
       "      <td>0.0</td>\n",
       "      <td>0.0</td>\n",
       "      <td>0.0</td>\n",
       "      <td>0.0</td>\n",
       "      <td>0.000000</td>\n",
       "      <td>0.0</td>\n",
       "      <td>0.113333</td>\n",
       "    </tr>\n",
       "  </tbody>\n",
       "</table>\n",
       "</div>"
      ],
      "text/plain": [
       "         area  bedrooms  bathrooms   stories  mainroad  guestroom  basement  \\\n",
       "239  0.161512       0.4        0.0  0.333333       1.0        0.0       0.0   \n",
       "113  0.547766       0.4        0.0  0.000000       1.0        0.0       1.0   \n",
       "325  0.124399       0.6        0.0  0.333333       1.0        0.0       0.0   \n",
       "66   0.793814       0.2        0.0  0.000000       1.0        0.0       1.0   \n",
       "479  0.138144       0.6        0.0  0.333333       0.0        0.0       0.0   \n",
       "\n",
       "     hotwaterheating  airconditioning   parking  prefarea     price  \n",
       "239              0.0              0.0  0.333333       0.0  0.270000  \n",
       "113              0.0              0.0  0.666667       1.0  0.412667  \n",
       "325              0.0              1.0  0.000000       0.0  0.215000  \n",
       "66               1.0              0.0  0.333333       0.0  0.493333  \n",
       "479              0.0              0.0  0.000000       0.0  0.113333  "
      ]
     },
     "execution_count": 619,
     "metadata": {},
     "output_type": "execute_result"
    }
   ],
   "source": [
    "# Standardize all validation data\n",
    "validTable2b[data2b] = minMax.fit_transform(validTable2b[data2b])\n",
    "print('Normalized validation table:')\n",
    "validTable2b.head(5)"
   ]
  },
  {
   "cell_type": "code",
   "execution_count": 620,
   "id": "0e48a634-846a-4a72-9762-0ebb7a05c604",
   "metadata": {},
   "outputs": [
    {
     "name": "stdout",
     "output_type": "stream",
     "text": [
      "Normalized training Y:\n"
     ]
    },
    {
     "data": {
      "text/plain": [
       "array([0.12060606, 0.15151515, 0.25454545, 0.22424242, 0.23939394])"
      ]
     },
     "execution_count": 620,
     "metadata": {},
     "output_type": "execute_result"
    }
   ],
   "source": [
    "# Extract Y values from the normalized training data\n",
    "Y = trainTable2b.pop('price')\n",
    "trainMinY = Y.values\n",
    "print('Normalized training Y:')\n",
    "trainMinY[:5]"
   ]
  },
  {
   "cell_type": "code",
   "execution_count": 622,
   "id": "bbd2ebca-8ebe-4edb-ab8f-6f737a939b2e",
   "metadata": {},
   "outputs": [
    {
     "name": "stdout",
     "output_type": "stream",
     "text": [
      "Normalized training Y:\n"
     ]
    },
    {
     "data": {
      "text/plain": [
       "array([0.27      , 0.41266667, 0.215     , 0.49333333, 0.11333333])"
      ]
     },
     "execution_count": 622,
     "metadata": {},
     "output_type": "execute_result"
    }
   ],
   "source": [
    "# Extract Y values from the normalized validation data\n",
    "Y = validTable2b.pop('price')\n",
    "validMinY = Y.values\n",
    "print('Normalized training Y:')\n",
    "validMinY[:5]"
   ]
  },
  {
   "cell_type": "code",
   "execution_count": 623,
   "id": "794a1615-8a33-40a7-a498-40815a4814b3",
   "metadata": {},
   "outputs": [
    {
     "name": "stdout",
     "output_type": "stream",
     "text": [
      "Normalized training X variables (binary included):\n"
     ]
    },
    {
     "data": {
      "text/plain": [
       "array([[1.        , 0.19354839, 0.5       , 0.        , 0.33333333,\n",
       "        1.        , 0.        , 0.        , 0.        , 1.        ,\n",
       "        0.        , 0.        ],\n",
       "       [1.        , 0.1564952 , 0.5       , 0.        , 0.33333333,\n",
       "        1.        , 0.        , 0.        , 0.        , 0.        ,\n",
       "        0.        , 0.        ],\n",
       "       [1.        , 0.18047079, 0.5       , 0.        , 0.        ,\n",
       "        1.        , 0.        , 0.        , 0.        , 0.        ,\n",
       "        0.        , 1.        ],\n",
       "       [1.        , 0.00501308, 1.        , 0.        , 0.33333333,\n",
       "        0.        , 0.        , 1.        , 0.        , 0.        ,\n",
       "        0.        , 0.        ],\n",
       "       [1.        , 0.12162162, 0.5       , 0.        , 0.66666667,\n",
       "        1.        , 0.        , 0.        , 0.        , 0.        ,\n",
       "        0.        , 0.        ]])"
      ]
     },
     "execution_count": 623,
     "metadata": {},
     "output_type": "execute_result"
    }
   ],
   "source": [
    "# Assemble X variables for training set \n",
    "area = trainTable2b.values[:,0]        \n",
    "areaT = area.reshape(len(trainTable2b), 1)\n",
    "\n",
    "bed = trainTable2b.values[:,1]        \n",
    "bedT = bed.reshape(len(trainTable2b), 1)\n",
    "\n",
    "bath = trainTable2b.values[:,2]        \n",
    "bathT = bath.reshape(len(trainTable2b), 1)\n",
    "\n",
    "stor = trainTable2b.values[:,3]        \n",
    "storT = stor.reshape(len(trainTable2b), 1)\n",
    "\n",
    "mainroad = trainTable2b.values[:,4]        \n",
    "mainroadT = mainroad.reshape(len(trainTable2b), 1)\n",
    "\n",
    "guest = trainTable2b.values[:,5]        \n",
    "guestT = guest.reshape(len(trainTable2b), 1)\n",
    "\n",
    "basement = trainTable2b.values[:,6]        \n",
    "basementT = basement.reshape(len(trainTable2b), 1)\n",
    "\n",
    "hotwater = trainTable2b.values[:,7]        \n",
    "hotwaterT = hotwater.reshape(len(trainTable2b), 1)\n",
    "\n",
    "aircon = trainTable2b.values[:,8]        \n",
    "airconT = aircon.reshape(len(trainTable2b), 1)\n",
    "\n",
    "park = trainTable2b.values[:,9]        \n",
    "parkT = park.reshape(len(trainTable2b), 1)\n",
    "\n",
    "prefarea = trainTable2b.values[:,10]        \n",
    "prefareaT = prefarea.reshape(len(trainTable2b), 1)\n",
    "\n",
    "X0 = np.ones((len(trainTable2b) , 1))\n",
    "varsMinTrain = np.hstack((X0,areaT,bedT,bathT,storT,mainroadT,guestT,basementT,hotwaterT,airconT,parkT,prefareaT))\n",
    "print('Normalized training X variables (binary included):')\n",
    "varsMinTrain[:5]"
   ]
  },
  {
   "cell_type": "code",
   "execution_count": 624,
   "id": "971b1ecd-e0dd-45b4-92c8-252fa5f40d5e",
   "metadata": {},
   "outputs": [
    {
     "name": "stdout",
     "output_type": "stream",
     "text": [
      "Normalized validation X variables (binary included):\n"
     ]
    },
    {
     "data": {
      "text/plain": [
       "array([[1.        , 0.16151203, 0.4       , 0.        , 0.33333333,\n",
       "        1.        , 0.        , 0.        , 0.        , 0.        ,\n",
       "        0.33333333, 0.        ],\n",
       "       [1.        , 0.54776632, 0.4       , 0.        , 0.        ,\n",
       "        1.        , 0.        , 1.        , 0.        , 0.        ,\n",
       "        0.66666667, 1.        ],\n",
       "       [1.        , 0.12439863, 0.6       , 0.        , 0.33333333,\n",
       "        1.        , 0.        , 0.        , 0.        , 1.        ,\n",
       "        0.        , 0.        ],\n",
       "       [1.        , 0.79381443, 0.2       , 0.        , 0.        ,\n",
       "        1.        , 0.        , 1.        , 1.        , 0.        ,\n",
       "        0.33333333, 0.        ],\n",
       "       [1.        , 0.13814433, 0.6       , 0.        , 0.33333333,\n",
       "        0.        , 0.        , 0.        , 0.        , 0.        ,\n",
       "        0.        , 0.        ]])"
      ]
     },
     "execution_count": 624,
     "metadata": {},
     "output_type": "execute_result"
    }
   ],
   "source": [
    "# Assemble X variables for validation set \n",
    "area = validTable2b.values[:,0]        \n",
    "areaT = area.reshape(len(validTable2b), 1)\n",
    "\n",
    "bed = validTable2b.values[:,1]        \n",
    "bedT = bed.reshape(len(validTable2b), 1)\n",
    "\n",
    "bath = validTable2b.values[:,2]        \n",
    "bathT = bath.reshape(len(validTable2b), 1)\n",
    "\n",
    "stor = validTable2b.values[:,3]        \n",
    "storT = stor.reshape(len(validTable2b), 1)\n",
    "\n",
    "mainroad = validTable2b.values[:,4]        \n",
    "mainroadT = mainroad.reshape(len(validTable2b), 1)\n",
    "\n",
    "guest = validTable2b.values[:,5]        \n",
    "guestT = guest.reshape(len(validTable2b), 1)\n",
    "\n",
    "basement = validTable2b.values[:,6]        \n",
    "basementT = basement.reshape(len(validTable2b), 1)\n",
    "\n",
    "hotwater = validTable2b.values[:,7]        \n",
    "hotwaterT = hotwater.reshape(len(validTable2b), 1)\n",
    "\n",
    "aircon = validTable2b.values[:,8]        \n",
    "airconT = aircon.reshape(len(validTable2b), 1)\n",
    "\n",
    "park = validTable2b.values[:,9]        \n",
    "parkT = park.reshape(len(validTable2b), 1)\n",
    "\n",
    "prefarea = validTable2b.values[:,10]        \n",
    "prefareaT = prefarea.reshape(len(validTable2b), 1)\n",
    "\n",
    "X0 = np.ones((len(validTable2b) , 1))\n",
    "varsMinValid = np.hstack((X0,areaT,bedT,bathT,storT,mainroadT,guestT,basementT,hotwaterT,airconT,parkT,prefareaT))\n",
    "print('Normalized validation X variables (binary included):')\n",
    "varsMinValid[:5]"
   ]
  },
  {
   "cell_type": "code",
   "execution_count": 625,
   "id": "f950a07d-80f0-4239-ac07-1f08600199f1",
   "metadata": {},
   "outputs": [
    {
     "name": "stdout",
     "output_type": "stream",
     "text": [
      "Final thetas: [-0.00505863  0.29109213  0.05381787  0.16661429  0.11063579  0.04458446\n",
      "  0.03593897  0.03176273  0.10950843  0.08073162  0.06688713  0.06279777]\n",
      "Training set loss history [0.02391573 0.01782089 0.01374723 ... 0.00321459 0.00321459 0.00321459]\n",
      "Validation set loss history [0.01288272 0.00996809 0.00795416 ... 0.00167779 0.00167778 0.00167777]\n"
     ]
    }
   ],
   "source": [
    "thetas2b = np.zeros(12)\n",
    "iterations = 3000      \n",
    "alpha = 0.1           \n",
    "finalThetas2b, lossHistory2b, lossHistoryV2b = gradient(varsMinTrain, trainMinY, thetas2b, alpha, iterations, varsMinValid, validMinY)\n",
    "print('Final thetas:', finalThetas2b)\n",
    "print('Training set loss history', lossHistory2b)\n",
    "print('Validation set loss history', lossHistoryV2b)"
   ]
  },
  {
   "cell_type": "code",
   "execution_count": 626,
   "id": "46a63991-cf19-4239-96e6-418214d48d45",
   "metadata": {},
   "outputs": [
    {
     "data": {
      "text/plain": [
       "<matplotlib.legend.Legend at 0x7fb7b07877f0>"
      ]
     },
     "execution_count": 626,
     "metadata": {},
     "output_type": "execute_result"
    },
    {
     "data": {
      "image/png": "[encoded data removed]",
      "text/plain": [
       "<Figure size 720x432 with 1 Axes>"
      ]
     },
     "metadata": {
      "needs_background": "light"
     },
     "output_type": "display_data"
    }
   ],
   "source": [
    "plt.plot(range(1, iterations + 1), lossHistory2b, color = 'blue', label = 'Training Set')\n",
    "plt.plot(range(1, iterations + 1), lossHistoryV2b, color = 'red', label = 'Validation Set')\n",
    "plt.rcParams[\"figure.figsize\"] = (10,6) \n",
    "plt.grid() \n",
    "plt.xlabel('Number of iterations') \n",
    "plt.ylabel('Loss (J)') \n",
    "plt.title('2b: Convergence of Gradient Descent for Normalized Binary Training and Validation') \n",
    "plt.legend()"
   ]
  },
  {
   "cell_type": "code",
   "execution_count": null,
   "id": "289fab97-05d1-44fd-b910-6d9538153aaa",
   "metadata": {},
   "outputs": [],
   "source": []
  }
 ],
 "metadata": {
  "kernelspec": {
   "display_name": "Python 3 (ipykernel)",
   "language": "python",
   "name": "python3"
  },
  "language_info": {
   "codemirror_mode": {
    "name": "ipython",
    "version": 3
   },
   "file_extension": ".py",
   "mimetype": "text/x-python",
   "name": "python",
   "nbconvert_exporter": "python",
   "pygments_lexer": "ipython3",
   "version": "3.9.12"
  }
 },
 "nbformat": 4,
 "nbformat_minor": 5
}
