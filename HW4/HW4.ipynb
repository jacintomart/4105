{
 "cells": [
  {
   "cell_type": "code",
   "execution_count": 269,
   "id": "260a7953-e8bf-459f-a862-eb3e68b2a675",
   "metadata": {},
   "outputs": [
    {
     "data": {
      "text/html": [
       "<div>\n",
       "<style scoped>\n",
       "    .dataframe tbody tr th:only-of-type {\n",
       "        vertical-align: middle;\n",
       "    }\n",
       "\n",
       "    .dataframe tbody tr th {\n",
       "        vertical-align: top;\n",
       "    }\n",
       "\n",
       "    .dataframe thead th {\n",
       "        text-align: right;\n",
       "    }\n",
       "</style>\n",
       "<table border=\"1\" class=\"dataframe\">\n",
       "  <thead>\n",
       "    <tr style=\"text-align: right;\">\n",
       "      <th></th>\n",
       "      <th>0</th>\n",
       "      <th>1</th>\n",
       "      <th>2</th>\n",
       "      <th>3</th>\n",
       "      <th>4</th>\n",
       "      <th>5</th>\n",
       "      <th>6</th>\n",
       "      <th>7</th>\n",
       "      <th>8</th>\n",
       "      <th>9</th>\n",
       "      <th>...</th>\n",
       "      <th>20</th>\n",
       "      <th>21</th>\n",
       "      <th>22</th>\n",
       "      <th>23</th>\n",
       "      <th>24</th>\n",
       "      <th>25</th>\n",
       "      <th>26</th>\n",
       "      <th>27</th>\n",
       "      <th>28</th>\n",
       "      <th>29</th>\n",
       "    </tr>\n",
       "  </thead>\n",
       "  <tbody>\n",
       "    <tr>\n",
       "      <th>0</th>\n",
       "      <td>17.99</td>\n",
       "      <td>10.38</td>\n",
       "      <td>122.80</td>\n",
       "      <td>1001.0</td>\n",
       "      <td>0.11840</td>\n",
       "      <td>0.27760</td>\n",
       "      <td>0.3001</td>\n",
       "      <td>0.14710</td>\n",
       "      <td>0.2419</td>\n",
       "      <td>0.07871</td>\n",
       "      <td>...</td>\n",
       "      <td>25.38</td>\n",
       "      <td>17.33</td>\n",
       "      <td>184.60</td>\n",
       "      <td>2019.0</td>\n",
       "      <td>0.1622</td>\n",
       "      <td>0.6656</td>\n",
       "      <td>0.7119</td>\n",
       "      <td>0.2654</td>\n",
       "      <td>0.4601</td>\n",
       "      <td>0.11890</td>\n",
       "    </tr>\n",
       "    <tr>\n",
       "      <th>1</th>\n",
       "      <td>20.57</td>\n",
       "      <td>17.77</td>\n",
       "      <td>132.90</td>\n",
       "      <td>1326.0</td>\n",
       "      <td>0.08474</td>\n",
       "      <td>0.07864</td>\n",
       "      <td>0.0869</td>\n",
       "      <td>0.07017</td>\n",
       "      <td>0.1812</td>\n",
       "      <td>0.05667</td>\n",
       "      <td>...</td>\n",
       "      <td>24.99</td>\n",
       "      <td>23.41</td>\n",
       "      <td>158.80</td>\n",
       "      <td>1956.0</td>\n",
       "      <td>0.1238</td>\n",
       "      <td>0.1866</td>\n",
       "      <td>0.2416</td>\n",
       "      <td>0.1860</td>\n",
       "      <td>0.2750</td>\n",
       "      <td>0.08902</td>\n",
       "    </tr>\n",
       "    <tr>\n",
       "      <th>2</th>\n",
       "      <td>19.69</td>\n",
       "      <td>21.25</td>\n",
       "      <td>130.00</td>\n",
       "      <td>1203.0</td>\n",
       "      <td>0.10960</td>\n",
       "      <td>0.15990</td>\n",
       "      <td>0.1974</td>\n",
       "      <td>0.12790</td>\n",
       "      <td>0.2069</td>\n",
       "      <td>0.05999</td>\n",
       "      <td>...</td>\n",
       "      <td>23.57</td>\n",
       "      <td>25.53</td>\n",
       "      <td>152.50</td>\n",
       "      <td>1709.0</td>\n",
       "      <td>0.1444</td>\n",
       "      <td>0.4245</td>\n",
       "      <td>0.4504</td>\n",
       "      <td>0.2430</td>\n",
       "      <td>0.3613</td>\n",
       "      <td>0.08758</td>\n",
       "    </tr>\n",
       "    <tr>\n",
       "      <th>3</th>\n",
       "      <td>11.42</td>\n",
       "      <td>20.38</td>\n",
       "      <td>77.58</td>\n",
       "      <td>386.1</td>\n",
       "      <td>0.14250</td>\n",
       "      <td>0.28390</td>\n",
       "      <td>0.2414</td>\n",
       "      <td>0.10520</td>\n",
       "      <td>0.2597</td>\n",
       "      <td>0.09744</td>\n",
       "      <td>...</td>\n",
       "      <td>14.91</td>\n",
       "      <td>26.50</td>\n",
       "      <td>98.87</td>\n",
       "      <td>567.7</td>\n",
       "      <td>0.2098</td>\n",
       "      <td>0.8663</td>\n",
       "      <td>0.6869</td>\n",
       "      <td>0.2575</td>\n",
       "      <td>0.6638</td>\n",
       "      <td>0.17300</td>\n",
       "    </tr>\n",
       "    <tr>\n",
       "      <th>4</th>\n",
       "      <td>20.29</td>\n",
       "      <td>14.34</td>\n",
       "      <td>135.10</td>\n",
       "      <td>1297.0</td>\n",
       "      <td>0.10030</td>\n",
       "      <td>0.13280</td>\n",
       "      <td>0.1980</td>\n",
       "      <td>0.10430</td>\n",
       "      <td>0.1809</td>\n",
       "      <td>0.05883</td>\n",
       "      <td>...</td>\n",
       "      <td>22.54</td>\n",
       "      <td>16.67</td>\n",
       "      <td>152.20</td>\n",
       "      <td>1575.0</td>\n",
       "      <td>0.1374</td>\n",
       "      <td>0.2050</td>\n",
       "      <td>0.4000</td>\n",
       "      <td>0.1625</td>\n",
       "      <td>0.2364</td>\n",
       "      <td>0.07678</td>\n",
       "    </tr>\n",
       "  </tbody>\n",
       "</table>\n",
       "<p>5 rows × 30 columns</p>\n",
       "</div>"
      ],
      "text/plain": [
       "      0      1       2       3        4        5       6        7       8   \\\n",
       "0  17.99  10.38  122.80  1001.0  0.11840  0.27760  0.3001  0.14710  0.2419   \n",
       "1  20.57  17.77  132.90  1326.0  0.08474  0.07864  0.0869  0.07017  0.1812   \n",
       "2  19.69  21.25  130.00  1203.0  0.10960  0.15990  0.1974  0.12790  0.2069   \n",
       "3  11.42  20.38   77.58   386.1  0.14250  0.28390  0.2414  0.10520  0.2597   \n",
       "4  20.29  14.34  135.10  1297.0  0.10030  0.13280  0.1980  0.10430  0.1809   \n",
       "\n",
       "        9   ...     20     21      22      23      24      25      26      27  \\\n",
       "0  0.07871  ...  25.38  17.33  184.60  2019.0  0.1622  0.6656  0.7119  0.2654   \n",
       "1  0.05667  ...  24.99  23.41  158.80  1956.0  0.1238  0.1866  0.2416  0.1860   \n",
       "2  0.05999  ...  23.57  25.53  152.50  1709.0  0.1444  0.4245  0.4504  0.2430   \n",
       "3  0.09744  ...  14.91  26.50   98.87   567.7  0.2098  0.8663  0.6869  0.2575   \n",
       "4  0.05883  ...  22.54  16.67  152.20  1575.0  0.1374  0.2050  0.4000  0.1625   \n",
       "\n",
       "       28       29  \n",
       "0  0.4601  0.11890  \n",
       "1  0.2750  0.08902  \n",
       "2  0.3613  0.08758  \n",
       "3  0.6638  0.17300  \n",
       "4  0.2364  0.07678  \n",
       "\n",
       "[5 rows x 30 columns]"
      ]
     },
     "execution_count": 269,
     "metadata": {},
     "output_type": "execute_result"
    }
   ],
   "source": [
    "import numpy as np\n",
    "import matplotlib.pyplot as plt\n",
    "import pandas as pd\n",
    "from sklearn.model_selection import cross_val_score\n",
    "from sklearn.linear_model import LogisticRegression\n",
    "from sklearn.model_selection import train_test_split\n",
    "from sklearn import datasets\n",
    "from sklearn import metrics\n",
    "from sklearn.metrics import confusion_matrix\n",
    "from sklearn.metrics import classification_report\n",
    "\n",
    "#\n",
    "#\n",
    "# Problem 1a: Cancer SVM Classifier w/ \n",
    "#               Feature Extraction and Standardization\n",
    "#\n",
    "from sklearn.datasets import load_breast_cancer\n",
    "cancer = load_breast_cancer()\n",
    "cancerData = cancer.data\n",
    "cancerTable = pd.DataFrame(cancerData)\n",
    "cancerTable.head()"
   ]
  },
  {
   "cell_type": "code",
   "execution_count": 270,
   "id": "97879968-592d-49df-aa03-5822a88cbb51",
   "metadata": {},
   "outputs": [
    {
     "data": {
      "text/plain": [
       "array([0, 0, 0, 0, 0])"
      ]
     },
     "execution_count": 270,
     "metadata": {},
     "output_type": "execute_result"
    }
   ],
   "source": [
    "diag = cancer.target\n",
    "diag[:5]"
   ]
  },
  {
   "cell_type": "code",
   "execution_count": 271,
   "id": "bec8d7e1-d5a3-4ba4-bb22-d4958a4a27ac",
   "metadata": {},
   "outputs": [
    {
     "data": {
      "text/plain": [
       "(569, 31)"
      ]
     },
     "execution_count": 271,
     "metadata": {},
     "output_type": "execute_result"
    }
   ],
   "source": [
    "diag = np.reshape(diag,(569,1))\n",
    "finalCancerData = np.concatenate([cancerData,diag], axis=1)\n",
    "finalCancerData.shape"
   ]
  },
  {
   "cell_type": "code",
   "execution_count": 272,
   "id": "c8771392-62d7-41a9-b298-dfee44183ff0",
   "metadata": {},
   "outputs": [
    {
     "data": {
      "text/plain": [
       "array(['mean radius', 'mean texture', 'mean perimeter', 'mean area',\n",
       "       'mean smoothness', 'mean compactness', 'mean concavity',\n",
       "       'mean concave points', 'mean symmetry', 'mean fractal dimension',\n",
       "       'radius error', 'texture error', 'perimeter error', 'area error',\n",
       "       'smoothness error', 'compactness error', 'concavity error',\n",
       "       'concave points error', 'symmetry error',\n",
       "       'fractal dimension error', 'worst radius', 'worst texture',\n",
       "       'worst perimeter', 'worst area', 'worst smoothness',\n",
       "       'worst compactness', 'worst concavity', 'worst concave points',\n",
       "       'worst symmetry', 'worst fractal dimension'], dtype='<U23')"
      ]
     },
     "execution_count": 272,
     "metadata": {},
     "output_type": "execute_result"
    }
   ],
   "source": [
    "finalCancerTable = pd.DataFrame(finalCancerData)\n",
    "features = cancer.feature_names\n",
    "features"
   ]
  },
  {
   "cell_type": "code",
   "execution_count": 273,
   "id": "2f6aef3f-ac67-4a9c-9e96-2b01dcea5033",
   "metadata": {},
   "outputs": [
    {
     "data": {
      "text/html": [
       "<div>\n",
       "<style scoped>\n",
       "    .dataframe tbody tr th:only-of-type {\n",
       "        vertical-align: middle;\n",
       "    }\n",
       "\n",
       "    .dataframe tbody tr th {\n",
       "        vertical-align: top;\n",
       "    }\n",
       "\n",
       "    .dataframe thead th {\n",
       "        text-align: right;\n",
       "    }\n",
       "</style>\n",
       "<table border=\"1\" class=\"dataframe\">\n",
       "  <thead>\n",
       "    <tr style=\"text-align: right;\">\n",
       "      <th></th>\n",
       "      <th>mean radius</th>\n",
       "      <th>mean texture</th>\n",
       "      <th>mean perimeter</th>\n",
       "      <th>mean area</th>\n",
       "      <th>mean smoothness</th>\n",
       "      <th>mean compactness</th>\n",
       "      <th>mean concavity</th>\n",
       "      <th>mean concave points</th>\n",
       "      <th>mean symmetry</th>\n",
       "      <th>mean fractal dimension</th>\n",
       "      <th>...</th>\n",
       "      <th>worst texture</th>\n",
       "      <th>worst perimeter</th>\n",
       "      <th>worst area</th>\n",
       "      <th>worst smoothness</th>\n",
       "      <th>worst compactness</th>\n",
       "      <th>worst concavity</th>\n",
       "      <th>worst concave points</th>\n",
       "      <th>worst symmetry</th>\n",
       "      <th>worst fractal dimension</th>\n",
       "      <th>diagnosis</th>\n",
       "    </tr>\n",
       "  </thead>\n",
       "  <tbody>\n",
       "    <tr>\n",
       "      <th>0</th>\n",
       "      <td>17.99</td>\n",
       "      <td>10.38</td>\n",
       "      <td>122.80</td>\n",
       "      <td>1001.0</td>\n",
       "      <td>0.11840</td>\n",
       "      <td>0.27760</td>\n",
       "      <td>0.3001</td>\n",
       "      <td>0.14710</td>\n",
       "      <td>0.2419</td>\n",
       "      <td>0.07871</td>\n",
       "      <td>...</td>\n",
       "      <td>17.33</td>\n",
       "      <td>184.60</td>\n",
       "      <td>2019.0</td>\n",
       "      <td>0.1622</td>\n",
       "      <td>0.6656</td>\n",
       "      <td>0.7119</td>\n",
       "      <td>0.2654</td>\n",
       "      <td>0.4601</td>\n",
       "      <td>0.11890</td>\n",
       "      <td>0.0</td>\n",
       "    </tr>\n",
       "    <tr>\n",
       "      <th>1</th>\n",
       "      <td>20.57</td>\n",
       "      <td>17.77</td>\n",
       "      <td>132.90</td>\n",
       "      <td>1326.0</td>\n",
       "      <td>0.08474</td>\n",
       "      <td>0.07864</td>\n",
       "      <td>0.0869</td>\n",
       "      <td>0.07017</td>\n",
       "      <td>0.1812</td>\n",
       "      <td>0.05667</td>\n",
       "      <td>...</td>\n",
       "      <td>23.41</td>\n",
       "      <td>158.80</td>\n",
       "      <td>1956.0</td>\n",
       "      <td>0.1238</td>\n",
       "      <td>0.1866</td>\n",
       "      <td>0.2416</td>\n",
       "      <td>0.1860</td>\n",
       "      <td>0.2750</td>\n",
       "      <td>0.08902</td>\n",
       "      <td>0.0</td>\n",
       "    </tr>\n",
       "    <tr>\n",
       "      <th>2</th>\n",
       "      <td>19.69</td>\n",
       "      <td>21.25</td>\n",
       "      <td>130.00</td>\n",
       "      <td>1203.0</td>\n",
       "      <td>0.10960</td>\n",
       "      <td>0.15990</td>\n",
       "      <td>0.1974</td>\n",
       "      <td>0.12790</td>\n",
       "      <td>0.2069</td>\n",
       "      <td>0.05999</td>\n",
       "      <td>...</td>\n",
       "      <td>25.53</td>\n",
       "      <td>152.50</td>\n",
       "      <td>1709.0</td>\n",
       "      <td>0.1444</td>\n",
       "      <td>0.4245</td>\n",
       "      <td>0.4504</td>\n",
       "      <td>0.2430</td>\n",
       "      <td>0.3613</td>\n",
       "      <td>0.08758</td>\n",
       "      <td>0.0</td>\n",
       "    </tr>\n",
       "    <tr>\n",
       "      <th>3</th>\n",
       "      <td>11.42</td>\n",
       "      <td>20.38</td>\n",
       "      <td>77.58</td>\n",
       "      <td>386.1</td>\n",
       "      <td>0.14250</td>\n",
       "      <td>0.28390</td>\n",
       "      <td>0.2414</td>\n",
       "      <td>0.10520</td>\n",
       "      <td>0.2597</td>\n",
       "      <td>0.09744</td>\n",
       "      <td>...</td>\n",
       "      <td>26.50</td>\n",
       "      <td>98.87</td>\n",
       "      <td>567.7</td>\n",
       "      <td>0.2098</td>\n",
       "      <td>0.8663</td>\n",
       "      <td>0.6869</td>\n",
       "      <td>0.2575</td>\n",
       "      <td>0.6638</td>\n",
       "      <td>0.17300</td>\n",
       "      <td>0.0</td>\n",
       "    </tr>\n",
       "    <tr>\n",
       "      <th>4</th>\n",
       "      <td>20.29</td>\n",
       "      <td>14.34</td>\n",
       "      <td>135.10</td>\n",
       "      <td>1297.0</td>\n",
       "      <td>0.10030</td>\n",
       "      <td>0.13280</td>\n",
       "      <td>0.1980</td>\n",
       "      <td>0.10430</td>\n",
       "      <td>0.1809</td>\n",
       "      <td>0.05883</td>\n",
       "      <td>...</td>\n",
       "      <td>16.67</td>\n",
       "      <td>152.20</td>\n",
       "      <td>1575.0</td>\n",
       "      <td>0.1374</td>\n",
       "      <td>0.2050</td>\n",
       "      <td>0.4000</td>\n",
       "      <td>0.1625</td>\n",
       "      <td>0.2364</td>\n",
       "      <td>0.07678</td>\n",
       "      <td>0.0</td>\n",
       "    </tr>\n",
       "  </tbody>\n",
       "</table>\n",
       "<p>5 rows × 31 columns</p>\n",
       "</div>"
      ],
      "text/plain": [
       "   mean radius  mean texture  mean perimeter  mean area  mean smoothness  \\\n",
       "0        17.99         10.38          122.80     1001.0          0.11840   \n",
       "1        20.57         17.77          132.90     1326.0          0.08474   \n",
       "2        19.69         21.25          130.00     1203.0          0.10960   \n",
       "3        11.42         20.38           77.58      386.1          0.14250   \n",
       "4        20.29         14.34          135.10     1297.0          0.10030   \n",
       "\n",
       "   mean compactness  mean concavity  mean concave points  mean symmetry  \\\n",
       "0           0.27760          0.3001              0.14710         0.2419   \n",
       "1           0.07864          0.0869              0.07017         0.1812   \n",
       "2           0.15990          0.1974              0.12790         0.2069   \n",
       "3           0.28390          0.2414              0.10520         0.2597   \n",
       "4           0.13280          0.1980              0.10430         0.1809   \n",
       "\n",
       "   mean fractal dimension  ...  worst texture  worst perimeter  worst area  \\\n",
       "0                 0.07871  ...          17.33           184.60      2019.0   \n",
       "1                 0.05667  ...          23.41           158.80      1956.0   \n",
       "2                 0.05999  ...          25.53           152.50      1709.0   \n",
       "3                 0.09744  ...          26.50            98.87       567.7   \n",
       "4                 0.05883  ...          16.67           152.20      1575.0   \n",
       "\n",
       "   worst smoothness  worst compactness  worst concavity  worst concave points  \\\n",
       "0            0.1622             0.6656           0.7119                0.2654   \n",
       "1            0.1238             0.1866           0.2416                0.1860   \n",
       "2            0.1444             0.4245           0.4504                0.2430   \n",
       "3            0.2098             0.8663           0.6869                0.2575   \n",
       "4            0.1374             0.2050           0.4000                0.1625   \n",
       "\n",
       "   worst symmetry  worst fractal dimension  diagnosis  \n",
       "0          0.4601                  0.11890        0.0  \n",
       "1          0.2750                  0.08902        0.0  \n",
       "2          0.3613                  0.08758        0.0  \n",
       "3          0.6638                  0.17300        0.0  \n",
       "4          0.2364                  0.07678        0.0  \n",
       "\n",
       "[5 rows x 31 columns]"
      ]
     },
     "execution_count": 273,
     "metadata": {},
     "output_type": "execute_result"
    }
   ],
   "source": [
    "finalFeatures = np.append(features, 'diagnosis')\n",
    "finalCancerTable.columns = finalFeatures\n",
    "finalCancerTable.head()"
   ]
  },
  {
   "cell_type": "code",
   "execution_count": 274,
   "id": "22b8dc0f-affe-48f5-8362-a35d62a00667",
   "metadata": {},
   "outputs": [
    {
     "data": {
      "text/plain": [
       "array([[1.799e+01, 1.038e+01, 1.228e+02, 1.001e+03, 1.184e-01, 2.776e-01,\n",
       "        3.001e-01, 1.471e-01, 2.419e-01, 7.871e-02, 1.095e+00, 9.053e-01,\n",
       "        8.589e+00, 1.534e+02, 6.399e-03, 4.904e-02, 5.373e-02, 1.587e-02,\n",
       "        3.003e-02, 6.193e-03, 2.538e+01, 1.733e+01, 1.846e+02, 2.019e+03,\n",
       "        1.622e-01, 6.656e-01, 7.119e-01, 2.654e-01, 4.601e-01, 1.189e-01],\n",
       "       [2.057e+01, 1.777e+01, 1.329e+02, 1.326e+03, 8.474e-02, 7.864e-02,\n",
       "        8.690e-02, 7.017e-02, 1.812e-01, 5.667e-02, 5.435e-01, 7.339e-01,\n",
       "        3.398e+00, 7.408e+01, 5.225e-03, 1.308e-02, 1.860e-02, 1.340e-02,\n",
       "        1.389e-02, 3.532e-03, 2.499e+01, 2.341e+01, 1.588e+02, 1.956e+03,\n",
       "        1.238e-01, 1.866e-01, 2.416e-01, 1.860e-01, 2.750e-01, 8.902e-02],\n",
       "       [1.969e+01, 2.125e+01, 1.300e+02, 1.203e+03, 1.096e-01, 1.599e-01,\n",
       "        1.974e-01, 1.279e-01, 2.069e-01, 5.999e-02, 7.456e-01, 7.869e-01,\n",
       "        4.585e+00, 9.403e+01, 6.150e-03, 4.006e-02, 3.832e-02, 2.058e-02,\n",
       "        2.250e-02, 4.571e-03, 2.357e+01, 2.553e+01, 1.525e+02, 1.709e+03,\n",
       "        1.444e-01, 4.245e-01, 4.504e-01, 2.430e-01, 3.613e-01, 8.758e-02],\n",
       "       [1.142e+01, 2.038e+01, 7.758e+01, 3.861e+02, 1.425e-01, 2.839e-01,\n",
       "        2.414e-01, 1.052e-01, 2.597e-01, 9.744e-02, 4.956e-01, 1.156e+00,\n",
       "        3.445e+00, 2.723e+01, 9.110e-03, 7.458e-02, 5.661e-02, 1.867e-02,\n",
       "        5.963e-02, 9.208e-03, 1.491e+01, 2.650e+01, 9.887e+01, 5.677e+02,\n",
       "        2.098e-01, 8.663e-01, 6.869e-01, 2.575e-01, 6.638e-01, 1.730e-01],\n",
       "       [2.029e+01, 1.434e+01, 1.351e+02, 1.297e+03, 1.003e-01, 1.328e-01,\n",
       "        1.980e-01, 1.043e-01, 1.809e-01, 5.883e-02, 7.572e-01, 7.813e-01,\n",
       "        5.438e+00, 9.444e+01, 1.149e-02, 2.461e-02, 5.688e-02, 1.885e-02,\n",
       "        1.756e-02, 5.115e-03, 2.254e+01, 1.667e+01, 1.522e+02, 1.575e+03,\n",
       "        1.374e-01, 2.050e-01, 4.000e-01, 1.625e-01, 2.364e-01, 7.678e-02]])"
      ]
     },
     "execution_count": 274,
     "metadata": {},
     "output_type": "execute_result"
    }
   ],
   "source": [
    "X = finalCancerTable.iloc[:, [0,1,2,3,4,5,6,7,8,9,10,11,12,13,14,15,16,17,18,19,20,21,22,23,24,25,26,27,28,29]].values\n",
    "Y = finalCancerTable.iloc[:, 30].values #no need to standardize since they're just 0 or 1\n",
    "X[:5]"
   ]
  },
  {
   "cell_type": "code",
   "execution_count": 275,
   "id": "b673b2da-4264-424a-83ce-7fef85bcbe16",
   "metadata": {},
   "outputs": [
    {
     "name": "stdout",
     "output_type": "stream",
     "text": [
      "All standardized x data:\n"
     ]
    },
    {
     "data": {
      "text/plain": [
       "array([[ 1.09706398e+00, -2.07333501e+00,  1.26993369e+00,\n",
       "         9.84374905e-01,  1.56846633e+00,  3.28351467e+00,\n",
       "         2.65287398e+00,  2.53247522e+00,  2.21751501e+00,\n",
       "         2.25574689e+00,  2.48973393e+00, -5.65265059e-01,\n",
       "         2.83303087e+00,  2.48757756e+00, -2.14001647e-01,\n",
       "         1.31686157e+00,  7.24026158e-01,  6.60819941e-01,\n",
       "         1.14875667e+00,  9.07083081e-01,  1.88668963e+00,\n",
       "        -1.35929347e+00,  2.30360062e+00,  2.00123749e+00,\n",
       "         1.30768627e+00,  2.61666502e+00,  2.10952635e+00,\n",
       "         2.29607613e+00,  2.75062224e+00,  1.93701461e+00],\n",
       "       [ 1.82982061e+00, -3.53632408e-01,  1.68595471e+00,\n",
       "         1.90870825e+00, -8.26962447e-01, -4.87071673e-01,\n",
       "        -2.38458552e-02,  5.48144156e-01,  1.39236330e-03,\n",
       "        -8.68652457e-01,  4.99254601e-01, -8.76243603e-01,\n",
       "         2.63326966e-01,  7.42401948e-01, -6.05350847e-01,\n",
       "        -6.92926270e-01, -4.40780058e-01,  2.60162067e-01,\n",
       "        -8.05450380e-01, -9.94437403e-02,  1.80592744e+00,\n",
       "        -3.69203222e-01,  1.53512599e+00,  1.89048899e+00,\n",
       "        -3.75611957e-01, -4.30444219e-01, -1.46748968e-01,\n",
       "         1.08708430e+00, -2.43889668e-01,  2.81189987e-01],\n",
       "       [ 1.57988811e+00,  4.56186952e-01,  1.56650313e+00,\n",
       "         1.55888363e+00,  9.42210440e-01,  1.05292554e+00,\n",
       "         1.36347845e+00,  2.03723076e+00,  9.39684817e-01,\n",
       "        -3.98007910e-01,  1.22867595e+00, -7.80083377e-01,\n",
       "         8.50928301e-01,  1.18133606e+00, -2.97005012e-01,\n",
       "         8.14973504e-01,  2.13076435e-01,  1.42482747e+00,\n",
       "         2.37035535e-01,  2.93559404e-01,  1.51187025e+00,\n",
       "        -2.39743838e-02,  1.34747521e+00,  1.45628455e+00,\n",
       "         5.27407405e-01,  1.08293217e+00,  8.54973944e-01,\n",
       "         1.95500035e+00,  1.15225500e+00,  2.01391209e-01],\n",
       "       [-7.68909287e-01,  2.53732112e-01, -5.92687167e-01,\n",
       "        -7.64463792e-01,  3.28355348e+00,  3.40290899e+00,\n",
       "         1.91589718e+00,  1.45170736e+00,  2.86738293e+00,\n",
       "         4.91091929e+00,  3.26373441e-01, -1.10409044e-01,\n",
       "         2.86593405e-01, -2.88378148e-01,  6.89701660e-01,\n",
       "         2.74428041e+00,  8.19518384e-01,  1.11500701e+00,\n",
       "         4.73268037e+00,  2.04751088e+00, -2.81464464e-01,\n",
       "         1.33984094e-01, -2.49939304e-01, -5.50021228e-01,\n",
       "         3.39427470e+00,  3.89339743e+00,  1.98958826e+00,\n",
       "         2.17578601e+00,  6.04604135e+00,  4.93501034e+00],\n",
       "       [ 1.75029663e+00, -1.15181643e+00,  1.77657315e+00,\n",
       "         1.82622928e+00,  2.80371830e-01,  5.39340452e-01,\n",
       "         1.37101143e+00,  1.42849277e+00, -9.56046689e-03,\n",
       "        -5.62449981e-01,  1.27054278e+00, -7.90243702e-01,\n",
       "         1.27318941e+00,  1.19035676e+00,  1.48306716e+00,\n",
       "        -4.85198799e-02,  8.28470780e-01,  1.14420474e+00,\n",
       "        -3.61092272e-01,  4.99328134e-01,  1.29857524e+00,\n",
       "        -1.46677038e+00,  1.33853946e+00,  1.22072425e+00,\n",
       "         2.20556166e-01, -3.13394511e-01,  6.13178758e-01,\n",
       "         7.29259257e-01, -8.68352984e-01, -3.97099619e-01]])"
      ]
     },
     "execution_count": 275,
     "metadata": {},
     "output_type": "execute_result"
    }
   ],
   "source": [
    "# Standardize x data first\n",
    "from sklearn.preprocessing import StandardScaler\n",
    "import warnings\n",
    "warnings.filterwarnings('ignore')\n",
    "\n",
    "standard = StandardScaler()\n",
    "stdX = standard.fit_transform(X)  \n",
    "print('All standardized x data:')\n",
    "stdX[:5]"
   ]
  },
  {
   "cell_type": "code",
   "execution_count": 276,
   "id": "ee71d1d2-605d-42fd-a0fe-39e2ee376c62",
   "metadata": {},
   "outputs": [
    {
     "name": "stdout",
     "output_type": "stream",
     "text": [
      "K= 1 : 0.9035087719298246\n",
      "K= 2 : 0.9210526315789473\n",
      "K= 3 : 0.9210526315789473\n",
      "K= 4 : 0.9473684210526315\n",
      "K= 5 : 0.956140350877193\n",
      "K= 6 : 0.9649122807017544\n",
      "K= 7 : 0.9649122807017544\n",
      "K= 8 : 0.9736842105263158\n",
      "K= 9 : 0.956140350877193\n",
      "K= 10 : 0.9385964912280702\n",
      "K= 11 : 0.9385964912280702\n",
      "K= 12 : 0.9385964912280702\n",
      "K= 13 : 0.9473684210526315\n",
      "K= 14 : 0.956140350877193\n",
      "K= 15 : 0.956140350877193\n",
      "K= 16 : 0.956140350877193\n",
      "K= 17 : 0.956140350877193\n",
      "K= 18 : 0.956140350877193\n",
      "K= 19 : 0.9649122807017544\n",
      "K= 20 : 0.9649122807017544\n",
      "K= 21 : 0.9649122807017544\n",
      "K= 22 : 0.9473684210526315\n",
      "K= 23 : 0.9736842105263158\n",
      "K= 24 : 0.9736842105263158\n",
      "K= 25 : 0.9736842105263158\n",
      "K= 26 : 0.9649122807017544\n",
      "K= 27 : 0.9649122807017544\n",
      "K= 28 : 0.9649122807017544\n",
      "K= 29 : 0.9649122807017544\n",
      "K= 30 : 0.9649122807017544\n"
     ]
    }
   ],
   "source": [
    "from sklearn.decomposition import PCA\n",
    "\n",
    "accuracyHistory = np.zeros(31)\n",
    "precisionHistory = np.zeros(31)\n",
    "recallHistory = np.zeros(31)\n",
    "# Big for loop for finding best K component reduction\n",
    "for i in range(1,31):\n",
    "    pca = PCA(n_components=i)                   #reduce to i number of components/variables\n",
    "    principalComps = pca.fit_transform(stdX)    #feed stdized x data to get i principal components\n",
    "    \n",
    "    np.random.seed(0) #split new components and Y datas into training and validation sets\n",
    "    trainX, validX, trainY, validY = train_test_split(principalComps, Y, test_size = 0.2, random_state=0)\n",
    "    \n",
    "    classifier = SVC(kernel='linear', C=50) #create SVC\n",
    "    classifier.fit(trainX, trainY)\n",
    "    \n",
    "    predictedY = classifier.predict(validX) #predict result based on classifier\n",
    "    \n",
    "    accuracyHistory[i] = metrics.accuracy_score(validY, predictedY)\n",
    "    precisionHistory[i] = metrics.precision_score(validY, predictedY)\n",
    "    recallHistory[i] = metrics.recall_score(validY, predictedY)\n",
    "    \n",
    "    print('K=', i, ':', accuracyHistory[i])"
   ]
  },
  {
   "cell_type": "code",
   "execution_count": 277,
   "id": "4ef87429-da14-48fe-8da5-048a3b37ce87",
   "metadata": {},
   "outputs": [
    {
     "data": {
      "text/plain": [
       "<matplotlib.legend.Legend at 0x7fbf61b39b20>"
      ]
     },
     "execution_count": 277,
     "metadata": {},
     "output_type": "execute_result"
    },
    {
     "data": {
      "image/png": "[encoded data removed]",
      "text/plain": [
       "<Figure size 720x432 with 1 Axes>"
      ]
     },
     "metadata": {
      "needs_background": "light"
     },
     "output_type": "display_data"
    }
   ],
   "source": [
    "plt.plot(range(0, 31), accuracyHistory, color = 'blue', label = 'Accuracy')\n",
    "plt.plot(range(0, 31), precisionHistory, color = 'red', label = 'Precision')\n",
    "plt.plot(range(0, 31), recallHistory, color = 'green', label = 'Recall')\n",
    "plt.rcParams[\"figure.figsize\"] = (10,6) \n",
    "plt.grid() \n",
    "plt.xlabel('Number of Principal Components') \n",
    "plt.ylabel('Value') \n",
    "plt.title('1: Accuracy, Precision, and Recall vs. K Principal Components') \n",
    "plt.legend()"
   ]
  },
  {
   "cell_type": "code",
   "execution_count": 278,
   "id": "286e39da-b7ed-41a8-8479-1d8350e2e26d",
   "metadata": {},
   "outputs": [
    {
     "name": "stdout",
     "output_type": "stream",
     "text": [
      "Poly Trick Accuracy: 0.9736842105263158\n"
     ]
    }
   ],
   "source": [
    "#\n",
    "#\n",
    "# Problem 1b: SVC Kernel Tricks w/ Optimum K=8 PCA Extraction\n",
    "#\n",
    "#\n",
    "pca = PCA(n_components=8)                   \n",
    "principalComps = pca.fit_transform(stdX)  \n",
    "    \n",
    "np.random.seed(0) \n",
    "trainX, validX, trainY, validY = train_test_split(principalComps, Y, test_size = 0.2, random_state=0)\n",
    "    \n",
    "classifier = SVC(kernel='poly', C=50) #Kernel: poly\n",
    "classifier.fit(trainX, trainY)\n",
    "    \n",
    "predictedY = classifier.predict(validX)\n",
    "    \n",
    "accuracy = metrics.accuracy_score(validY, predictedY)\n",
    "print('Poly Trick Accuracy:', accuracy)"
   ]
  },
  {
   "cell_type": "code",
   "execution_count": 279,
   "id": "862dbeeb-3f0c-488e-9b6d-cea72448936c",
   "metadata": {},
   "outputs": [
    {
     "name": "stdout",
     "output_type": "stream",
     "text": [
      "RBF Trick Accuracy: 0.9649122807017544\n"
     ]
    }
   ],
   "source": [
    "#Kernel: RBF\n",
    "pca = PCA(n_components=8)                   \n",
    "principalComps = pca.fit_transform(stdX)  \n",
    "    \n",
    "np.random.seed(0) \n",
    "trainX, validX, trainY, validY = train_test_split(principalComps, Y, test_size = 0.2, random_state=0)\n",
    "    \n",
    "classifier = SVC(kernel='rbf', C=50) \n",
    "classifier.fit(trainX, trainY)\n",
    "    \n",
    "predictedY = classifier.predict(validX)\n",
    "    \n",
    "accuracy = metrics.accuracy_score(validY, predictedY)\n",
    "print('RBF Trick Accuracy:', accuracy)"
   ]
  },
  {
   "cell_type": "code",
   "execution_count": 280,
   "id": "73e8baa5-d9da-45bd-8ed1-912e59676378",
   "metadata": {},
   "outputs": [
    {
     "name": "stdout",
     "output_type": "stream",
     "text": [
      "Sigmoid Trick Accuracy: 0.8859649122807017\n"
     ]
    }
   ],
   "source": [
    "#Kernel: Sigmoid\n",
    "pca = PCA(n_components=8)                   \n",
    "principalComps = pca.fit_transform(stdX)  \n",
    "    \n",
    "np.random.seed(0) \n",
    "trainX, validX, trainY, validY = train_test_split(principalComps, Y, test_size = 0.2, random_state=0)\n",
    "    \n",
    "classifier = SVC(kernel='sigmoid', C=50) \n",
    "classifier.fit(trainX, trainY)\n",
    "    \n",
    "predictedY = classifier.predict(validX)\n",
    "    \n",
    "accuracy = metrics.accuracy_score(validY, predictedY)\n",
    "print('Sigmoid Trick Accuracy:', accuracy)"
   ]
  },
  {
   "cell_type": "code",
   "execution_count": 281,
   "id": "c4adc38e-dfd4-4cf2-869c-9f706d5ce192",
   "metadata": {},
   "outputs": [
    {
     "data": {
      "text/html": [
       "<div>\n",
       "<style scoped>\n",
       "    .dataframe tbody tr th:only-of-type {\n",
       "        vertical-align: middle;\n",
       "    }\n",
       "\n",
       "    .dataframe tbody tr th {\n",
       "        vertical-align: top;\n",
       "    }\n",
       "\n",
       "    .dataframe thead th {\n",
       "        text-align: right;\n",
       "    }\n",
       "</style>\n",
       "<table border=\"1\" class=\"dataframe\">\n",
       "  <thead>\n",
       "    <tr style=\"text-align: right;\">\n",
       "      <th></th>\n",
       "      <th>price</th>\n",
       "      <th>area</th>\n",
       "      <th>bedrooms</th>\n",
       "      <th>bathrooms</th>\n",
       "      <th>stories</th>\n",
       "      <th>mainroad</th>\n",
       "      <th>guestroom</th>\n",
       "      <th>basement</th>\n",
       "      <th>hotwaterheating</th>\n",
       "      <th>airconditioning</th>\n",
       "      <th>parking</th>\n",
       "      <th>prefarea</th>\n",
       "      <th>furnishingstatus</th>\n",
       "    </tr>\n",
       "  </thead>\n",
       "  <tbody>\n",
       "    <tr>\n",
       "      <th>0</th>\n",
       "      <td>13300000</td>\n",
       "      <td>7420</td>\n",
       "      <td>4</td>\n",
       "      <td>2</td>\n",
       "      <td>3</td>\n",
       "      <td>yes</td>\n",
       "      <td>no</td>\n",
       "      <td>no</td>\n",
       "      <td>no</td>\n",
       "      <td>yes</td>\n",
       "      <td>2</td>\n",
       "      <td>yes</td>\n",
       "      <td>furnished</td>\n",
       "    </tr>\n",
       "    <tr>\n",
       "      <th>1</th>\n",
       "      <td>12250000</td>\n",
       "      <td>8960</td>\n",
       "      <td>4</td>\n",
       "      <td>4</td>\n",
       "      <td>4</td>\n",
       "      <td>yes</td>\n",
       "      <td>no</td>\n",
       "      <td>no</td>\n",
       "      <td>no</td>\n",
       "      <td>yes</td>\n",
       "      <td>3</td>\n",
       "      <td>no</td>\n",
       "      <td>furnished</td>\n",
       "    </tr>\n",
       "    <tr>\n",
       "      <th>2</th>\n",
       "      <td>12250000</td>\n",
       "      <td>9960</td>\n",
       "      <td>3</td>\n",
       "      <td>2</td>\n",
       "      <td>2</td>\n",
       "      <td>yes</td>\n",
       "      <td>no</td>\n",
       "      <td>yes</td>\n",
       "      <td>no</td>\n",
       "      <td>no</td>\n",
       "      <td>2</td>\n",
       "      <td>yes</td>\n",
       "      <td>semi-furnished</td>\n",
       "    </tr>\n",
       "    <tr>\n",
       "      <th>3</th>\n",
       "      <td>12215000</td>\n",
       "      <td>7500</td>\n",
       "      <td>4</td>\n",
       "      <td>2</td>\n",
       "      <td>2</td>\n",
       "      <td>yes</td>\n",
       "      <td>no</td>\n",
       "      <td>yes</td>\n",
       "      <td>no</td>\n",
       "      <td>yes</td>\n",
       "      <td>3</td>\n",
       "      <td>yes</td>\n",
       "      <td>furnished</td>\n",
       "    </tr>\n",
       "    <tr>\n",
       "      <th>4</th>\n",
       "      <td>11410000</td>\n",
       "      <td>7420</td>\n",
       "      <td>4</td>\n",
       "      <td>1</td>\n",
       "      <td>2</td>\n",
       "      <td>yes</td>\n",
       "      <td>yes</td>\n",
       "      <td>yes</td>\n",
       "      <td>no</td>\n",
       "      <td>yes</td>\n",
       "      <td>2</td>\n",
       "      <td>no</td>\n",
       "      <td>furnished</td>\n",
       "    </tr>\n",
       "  </tbody>\n",
       "</table>\n",
       "</div>"
      ],
      "text/plain": [
       "      price  area  bedrooms  bathrooms  stories mainroad guestroom basement  \\\n",
       "0  13300000  7420         4          2        3      yes        no       no   \n",
       "1  12250000  8960         4          4        4      yes        no       no   \n",
       "2  12250000  9960         3          2        2      yes        no      yes   \n",
       "3  12215000  7500         4          2        2      yes        no      yes   \n",
       "4  11410000  7420         4          1        2      yes       yes      yes   \n",
       "\n",
       "  hotwaterheating airconditioning  parking prefarea furnishingstatus  \n",
       "0              no             yes        2      yes        furnished  \n",
       "1              no             yes        3       no        furnished  \n",
       "2              no              no        2      yes   semi-furnished  \n",
       "3              no             yes        3      yes        furnished  \n",
       "4              no             yes        2       no        furnished  "
      ]
     },
     "execution_count": 281,
     "metadata": {},
     "output_type": "execute_result"
    }
   ],
   "source": [
    "#\n",
    "#\n",
    "# Problem 2a: Housing SVR Model \n",
    "#\n",
    "#\n",
    "housing = pd.DataFrame(pd.read_csv(\"Housing.csv\"))\n",
    "housing.head()"
   ]
  },
  {
   "cell_type": "code",
   "execution_count": 282,
   "id": "0924166d-6aff-4e07-b284-ab0a0d9eacd0",
   "metadata": {},
   "outputs": [
    {
     "name": "stdout",
     "output_type": "stream",
     "text": [
      "(545, 13)\n"
     ]
    },
    {
     "data": {
      "text/html": [
       "<div>\n",
       "<style scoped>\n",
       "    .dataframe tbody tr th:only-of-type {\n",
       "        vertical-align: middle;\n",
       "    }\n",
       "\n",
       "    .dataframe tbody tr th {\n",
       "        vertical-align: top;\n",
       "    }\n",
       "\n",
       "    .dataframe thead th {\n",
       "        text-align: right;\n",
       "    }\n",
       "</style>\n",
       "<table border=\"1\" class=\"dataframe\">\n",
       "  <thead>\n",
       "    <tr style=\"text-align: right;\">\n",
       "      <th></th>\n",
       "      <th>price</th>\n",
       "      <th>area</th>\n",
       "      <th>bedrooms</th>\n",
       "      <th>bathrooms</th>\n",
       "      <th>stories</th>\n",
       "      <th>mainroad</th>\n",
       "      <th>guestroom</th>\n",
       "      <th>basement</th>\n",
       "      <th>hotwaterheating</th>\n",
       "      <th>airconditioning</th>\n",
       "      <th>parking</th>\n",
       "      <th>prefarea</th>\n",
       "      <th>furnishingstatus</th>\n",
       "    </tr>\n",
       "  </thead>\n",
       "  <tbody>\n",
       "    <tr>\n",
       "      <th>0</th>\n",
       "      <td>13300000</td>\n",
       "      <td>7420</td>\n",
       "      <td>4</td>\n",
       "      <td>2</td>\n",
       "      <td>3</td>\n",
       "      <td>1</td>\n",
       "      <td>0</td>\n",
       "      <td>0</td>\n",
       "      <td>0</td>\n",
       "      <td>1</td>\n",
       "      <td>2</td>\n",
       "      <td>1</td>\n",
       "      <td>furnished</td>\n",
       "    </tr>\n",
       "    <tr>\n",
       "      <th>1</th>\n",
       "      <td>12250000</td>\n",
       "      <td>8960</td>\n",
       "      <td>4</td>\n",
       "      <td>4</td>\n",
       "      <td>4</td>\n",
       "      <td>1</td>\n",
       "      <td>0</td>\n",
       "      <td>0</td>\n",
       "      <td>0</td>\n",
       "      <td>1</td>\n",
       "      <td>3</td>\n",
       "      <td>0</td>\n",
       "      <td>furnished</td>\n",
       "    </tr>\n",
       "    <tr>\n",
       "      <th>2</th>\n",
       "      <td>12250000</td>\n",
       "      <td>9960</td>\n",
       "      <td>3</td>\n",
       "      <td>2</td>\n",
       "      <td>2</td>\n",
       "      <td>1</td>\n",
       "      <td>0</td>\n",
       "      <td>1</td>\n",
       "      <td>0</td>\n",
       "      <td>0</td>\n",
       "      <td>2</td>\n",
       "      <td>1</td>\n",
       "      <td>semi-furnished</td>\n",
       "    </tr>\n",
       "    <tr>\n",
       "      <th>3</th>\n",
       "      <td>12215000</td>\n",
       "      <td>7500</td>\n",
       "      <td>4</td>\n",
       "      <td>2</td>\n",
       "      <td>2</td>\n",
       "      <td>1</td>\n",
       "      <td>0</td>\n",
       "      <td>1</td>\n",
       "      <td>0</td>\n",
       "      <td>1</td>\n",
       "      <td>3</td>\n",
       "      <td>1</td>\n",
       "      <td>furnished</td>\n",
       "    </tr>\n",
       "    <tr>\n",
       "      <th>4</th>\n",
       "      <td>11410000</td>\n",
       "      <td>7420</td>\n",
       "      <td>4</td>\n",
       "      <td>1</td>\n",
       "      <td>2</td>\n",
       "      <td>1</td>\n",
       "      <td>1</td>\n",
       "      <td>1</td>\n",
       "      <td>0</td>\n",
       "      <td>1</td>\n",
       "      <td>2</td>\n",
       "      <td>0</td>\n",
       "      <td>furnished</td>\n",
       "    </tr>\n",
       "  </tbody>\n",
       "</table>\n",
       "</div>"
      ],
      "text/plain": [
       "      price  area  bedrooms  bathrooms  stories  mainroad  guestroom  \\\n",
       "0  13300000  7420         4          2        3         1          0   \n",
       "1  12250000  8960         4          4        4         1          0   \n",
       "2  12250000  9960         3          2        2         1          0   \n",
       "3  12215000  7500         4          2        2         1          0   \n",
       "4  11410000  7420         4          1        2         1          1   \n",
       "\n",
       "   basement  hotwaterheating  airconditioning  parking  prefarea  \\\n",
       "0         0                0                1        2         1   \n",
       "1         0                0                1        3         0   \n",
       "2         1                0                0        2         1   \n",
       "3         1                0                1        3         1   \n",
       "4         1                0                1        2         0   \n",
       "\n",
       "  furnishingstatus  \n",
       "0        furnished  \n",
       "1        furnished  \n",
       "2   semi-furnished  \n",
       "3        furnished  \n",
       "4        furnished  "
      ]
     },
     "execution_count": 282,
     "metadata": {},
     "output_type": "execute_result"
    }
   ],
   "source": [
    "# Map yes and no variables to binary values\n",
    "varsList = ['mainroad', 'guestroom', 'basement', 'hotwaterheating', 'airconditioning', 'prefarea']\n",
    "\n",
    "def binary_map(x):\n",
    "    return x.map({'yes':1, 'no':0})\n",
    "\n",
    "housing[varsList] = housing[varsList].apply(binary_map)\n",
    "print(housing.shape)\n",
    "housing.head()"
   ]
  },
  {
   "cell_type": "code",
   "execution_count": 283,
   "id": "dc3e9e36-6e04-4ae8-b1a3-e617268922b6",
   "metadata": {},
   "outputs": [
    {
     "name": "stdout",
     "output_type": "stream",
     "text": [
      "X data: [[7420 4 2 3 1 0 0 0 1 2 1]\n",
      " [8960 4 4 4 1 0 0 0 1 3 0]\n",
      " [9960 3 2 2 1 0 1 0 0 2 1]\n",
      " [7500 4 2 2 1 0 1 0 1 3 1]\n",
      " [7420 4 1 2 1 1 1 0 1 2 0]]\n",
      "(545, 11)\n"
     ]
    }
   ],
   "source": [
    "# Get necessary features for problem\n",
    "area = housing.values[:,1]       \n",
    "areaT = area.reshape(len(housing), 1)\n",
    "\n",
    "bed = housing.values[:,2]\n",
    "bedT = bed.reshape(len(housing), 1)\n",
    "\n",
    "bath = housing.values[:,3]\n",
    "bathT = bath.reshape(len(housing) , 1)\n",
    "\n",
    "stories = housing.values[:,4]\n",
    "storiesT = stories.reshape(len(housing) , 1)\n",
    "\n",
    "mainroad = housing.values[:,5]\n",
    "mainroadT = mainroad.reshape(len(housing) , 1)\n",
    "\n",
    "guest = housing.values[:,6]\n",
    "guestT = guest.reshape(len(housing) , 1)\n",
    "\n",
    "base = housing.values[:,7]\n",
    "baseT = base.reshape(len(housing) , 1)\n",
    "\n",
    "hotwater = housing.values[:,8]\n",
    "hotwaterT = hotwater.reshape(len(housing) , 1)\n",
    "\n",
    "aircon = housing.values[:,9]\n",
    "airconT = aircon.reshape(len(housing) , 1)\n",
    "\n",
    "parking = housing.values[:,10]\n",
    "parkingT = parking.reshape(len(housing) , 1)\n",
    "\n",
    "prefarea = housing.values[:,11]\n",
    "prefareaT = prefarea.reshape(len(housing) , 1)\n",
    "\n",
    "X = np.hstack((areaT,bedT,bathT,storiesT,mainroadT,guestT,baseT,hotwaterT,airconT,parkingT,prefareaT))\n",
    "print('X data:', X[:5])\n",
    "print(X.shape)"
   ]
  },
  {
   "cell_type": "code",
   "execution_count": 284,
   "id": "7c627ee5-0b49-4eef-aae7-653034a3573c",
   "metadata": {},
   "outputs": [
    {
     "name": "stdout",
     "output_type": "stream",
     "text": [
      "Y data: [[13300000]\n",
      " [12250000]\n",
      " [12250000]\n",
      " [12215000]\n",
      " [11410000]]\n",
      "(545, 1)\n"
     ]
    }
   ],
   "source": [
    "# Get Y data\n",
    "price = housing.values[:,0]\n",
    "Y = price.reshape(len(housing), 1)\n",
    "print('Y data:', Y[:5])\n",
    "print(Y.shape)"
   ]
  },
  {
   "cell_type": "code",
   "execution_count": 285,
   "id": "779338df-d8b1-4f4b-b98e-e02973eb83d9",
   "metadata": {},
   "outputs": [
    {
     "name": "stdout",
     "output_type": "stream",
     "text": [
      "[[3620 2 1 1 1 0 0 0 0 0 0]\n",
      " [4000 2 1 1 1 0 0 0 0 0 0]\n",
      " [3040 2 1 1 0 0 0 0 0 0 0]\n",
      " [3600 2 1 1 1 0 0 0 0 0 0]\n",
      " [9860 3 1 1 1 0 0 0 0 0 0]]\n",
      "[[1750000]\n",
      " [2695000]\n",
      " [2870000]\n",
      " [2590000]\n",
      " [4515000]]\n"
     ]
    }
   ],
   "source": [
    "# Split standardized data\n",
    "np.random.seed(0) \n",
    "trainX, validX, trainY, validY = train_test_split(X, Y, test_size = 0.2, random_state=0)\n",
    "print(trainX[:5])\n",
    "print(trainY[:5])"
   ]
  },
  {
   "cell_type": "code",
   "execution_count": 286,
   "id": "7c1f1b57-4334-48aa-a4c0-cebe7291b22d",
   "metadata": {},
   "outputs": [
    {
     "name": "stdout",
     "output_type": "stream",
     "text": [
      "[[-0.71677205 -1.29437561 -0.57330726 -0.93314164  0.39559913 -0.46312491\n",
      "  -0.69860905 -0.20142689 -0.69135093 -0.81914879 -0.57028761]\n",
      " [-0.53893631 -1.29437561 -0.57330726 -0.93314164  0.39559913 -0.46312491\n",
      "  -0.69860905 -0.20142689 -0.69135093 -0.81914879 -0.57028761]\n",
      " [-0.98820554 -1.29437561 -0.57330726 -0.93314164 -2.52781141 -0.46312491\n",
      "  -0.69860905 -0.20142689 -0.69135093 -0.81914879 -0.57028761]\n",
      " [-0.72613182 -1.29437561 -0.57330726 -0.93314164  0.39559913 -0.46312491\n",
      "  -0.69860905 -0.20142689 -0.69135093 -0.81914879 -0.57028761]\n",
      " [ 2.20347795  0.05251643 -0.57330726 -0.93314164  0.39559913 -0.46312491\n",
      "  -0.69860905 -0.20142689 -0.69135093 -0.81914879 -0.57028761]]\n",
      "[[-1.5860012 ]\n",
      " [-1.09097091]\n",
      " [-0.99929863]\n",
      " [-1.14597428]\n",
      " [-0.13757923]]\n"
     ]
    }
   ],
   "source": [
    "# Standardize training data\n",
    "stdTrainX = standard.fit_transform(trainX)\n",
    "print(stdTrainX[:5])\n",
    "stdTrainY = standard.fit_transform(trainY)\n",
    "print(stdTrainY[:5])"
   ]
  },
  {
   "cell_type": "code",
   "execution_count": 287,
   "id": "5be020b7-ac0b-47fc-8d52-46b9ff77f561",
   "metadata": {},
   "outputs": [
    {
     "name": "stdout",
     "output_type": "stream",
     "text": [
      "[[-0.50073521  0.02560738 -0.56354451  0.27241586  0.44474959 -0.47404546\n",
      "  -0.88706553 -0.28143902 -0.63042517  0.49214421 -0.48850421]\n",
      " [ 1.95422869  0.02560738 -0.56354451 -0.91531729  0.44474959 -0.47404546\n",
      "   1.12731244 -0.28143902 -0.63042517  1.73967255  2.04706526]\n",
      " [-0.73662142  1.42120937 -0.56354451  0.27241586  0.44474959 -0.47404546\n",
      "  -0.88706553 -0.28143902  1.58623108 -0.75538413 -0.48850421]\n",
      " [ 3.5180669  -1.36999462 -0.56354451 -0.91531729  0.44474959 -0.47404546\n",
      "   1.12731244  3.5531676  -0.63042517  0.49214421 -0.48850421]\n",
      " [-0.64925616  1.42120937 -0.56354451  0.27241586 -2.24845626 -0.47404546\n",
      "  -0.88706553 -0.28143902 -0.63042517 -0.75538413 -0.48850421]]\n",
      "[[-0.08135801]\n",
      " [ 0.80111439]\n",
      " [-0.42156349]\n",
      " [ 1.30008243]\n",
      " [-1.05042817]]\n"
     ]
    }
   ],
   "source": [
    "# Standardize validation data\n",
    "stdValidX = standard.fit_transform(validX)\n",
    "print(stdValidX[:5])\n",
    "stdValidY = standard.fit_transform(validY)\n",
    "print(stdValidY[:5])"
   ]
  },
  {
   "cell_type": "code",
   "execution_count": 288,
   "id": "2322aae5-9fea-485a-a206-7e04d06fb466",
   "metadata": {},
   "outputs": [
    {
     "name": "stdout",
     "output_type": "stream",
     "text": [
      "MSE: 0.32973457591278266\n"
     ]
    }
   ],
   "source": [
    "# Build and test SVR\n",
    "from sklearn.svm import SVR\n",
    "\n",
    "svrRBF = SVR(kernel='linear', C=50)\n",
    "svrRBF.fit(stdTrainX, stdTrainY)\n",
    "\n",
    "predictedY = svrRBF.predict(stdValidX)\n",
    "\n",
    "MSE = metrics.mean_squared_error(stdValidY, predictedY)\n",
    "print('MSE:', MSE)"
   ]
  },
  {
   "cell_type": "code",
   "execution_count": 289,
   "id": "eeb2ff92-38ef-4cd3-afcd-9eb4b3c1ef44",
   "metadata": {},
   "outputs": [
    {
     "name": "stdout",
     "output_type": "stream",
     "text": [
      "(545, 11)\n"
     ]
    },
    {
     "data": {
      "text/plain": [
       "array([[ 1.04672629,  1.40341936,  1.42181174,  1.37821692,  0.40562287,\n",
       "        -0.46531479, -0.73453933, -0.2192645 ,  1.4726183 ,  1.51769249,\n",
       "         1.80494113],\n",
       "       [ 1.75700953,  1.40341936,  5.40580863,  2.53202371,  0.40562287,\n",
       "        -0.46531479, -0.73453933, -0.2192645 ,  1.4726183 ,  2.67940935,\n",
       "        -0.55403469],\n",
       "       [ 2.21823241,  0.04727831,  1.42181174,  0.22441013,  0.40562287,\n",
       "        -0.46531479,  1.3613975 , -0.2192645 , -0.67906259,  1.51769249,\n",
       "         1.80494113],\n",
       "       [ 1.08362412,  1.40341936,  1.42181174,  0.22441013,  0.40562287,\n",
       "        -0.46531479,  1.3613975 , -0.2192645 ,  1.4726183 ,  2.67940935,\n",
       "         1.80494113],\n",
       "       [ 1.04672629,  1.40341936, -0.57018671,  0.22441013,  0.40562287,\n",
       "         2.14908276,  1.3613975 , -0.2192645 ,  1.4726183 ,  1.51769249,\n",
       "        -0.55403469]])"
      ]
     },
     "execution_count": 289,
     "metadata": {},
     "output_type": "execute_result"
    }
   ],
   "source": [
    "#\n",
    "#\n",
    "# Problem 2b: Optimum K Calculation\n",
    "#\n",
    "#\n",
    "\n",
    "stdX = standard.fit_transform(X)\n",
    "print(stdX.shape)\n",
    "stdX[:5]"
   ]
  },
  {
   "cell_type": "code",
   "execution_count": 290,
   "id": "24537aa9-1d73-4687-8c82-bfff67abacc6",
   "metadata": {},
   "outputs": [
    {
     "name": "stdout",
     "output_type": "stream",
     "text": [
      "(545, 1)\n"
     ]
    },
    {
     "data": {
      "text/plain": [
       "array([[4.56636513],\n",
       "       [4.00448405],\n",
       "       [4.00448405],\n",
       "       [3.98575468],\n",
       "       [3.55497918]])"
      ]
     },
     "execution_count": 290,
     "metadata": {},
     "output_type": "execute_result"
    }
   ],
   "source": [
    "stdY = standard.fit_transform(Y)\n",
    "print(stdY.shape)\n",
    "stdY[:5]"
   ]
  },
  {
   "cell_type": "code",
   "execution_count": 295,
   "id": "02afdd79-8e39-457d-8be9-3a3ba2c4a149",
   "metadata": {},
   "outputs": [
    {
     "name": "stdout",
     "output_type": "stream",
     "text": [
      "K= 1 : 0.28587907354486886\n",
      "K= 2 : 0.280713148446097\n",
      "K= 3 : 0.2798957726451985\n",
      "K= 4 : 0.2793303496141157\n",
      "K= 5 : 0.28824468885940624\n",
      "K= 6 : 0.2874300333131442\n",
      "K= 7 : 0.3040672061485935\n",
      "K= 8 : 0.3012286810039125\n",
      "K= 9 : 0.2876644198834219\n",
      "K= 10 : 0.2874609988750934\n"
     ]
    }
   ],
   "source": [
    "MSE = np.zeros(11)\n",
    "for i in range(1,11):\n",
    "    pca = PCA(n_components=i)                   #reduce to i number of components/variables\n",
    "    principalComps = pca.fit_transform(stdX)    #feed stdized x data to get i principal components\n",
    "    \n",
    "    np.random.seed(0) #split new components and Y datas into training and validation sets\n",
    "    trainX, validX, trainY, validY = train_test_split(principalComps, stdY, test_size = 0.2, random_state=0)\n",
    "    \n",
    "    svrRBF = SVR(kernel='linear', C=50)\n",
    "    svrRBF.fit(trainX, trainY)\n",
    "    \n",
    "    predictedY = svrRBF.predict(validX) #predict result based on classifier\n",
    "    \n",
    "    MSE[i] = metrics.mean_squared_error(validY, predictedY)\n",
    "    \n",
    "    print('K=', i, ':', MSE[i])"
   ]
  },
  {
   "cell_type": "code",
   "execution_count": 299,
   "id": "e9031f4a-9d8e-4d3c-a999-598f3c476b2b",
   "metadata": {},
   "outputs": [
    {
     "data": {
      "text/plain": [
       "<matplotlib.legend.Legend at 0x7fbf64171f40>"
      ]
     },
     "execution_count": 299,
     "metadata": {},
     "output_type": "execute_result"
    },
    {
     "data": {
      "image/png": "[encoded data removed]",
      "text/plain": [
       "<Figure size 720x432 with 1 Axes>"
      ]
     },
     "metadata": {
      "needs_background": "light"
     },
     "output_type": "display_data"
    }
   ],
   "source": [
    "plt.plot(range(0, 11), MSE, color = 'blue', label='MSE')\n",
    "plt.rcParams[\"figure.figsize\"] = (10,6) \n",
    "plt.grid() \n",
    "plt.xlabel('Number of Principal Components') \n",
    "plt.ylabel('Mean Squared Error') \n",
    "plt.title('2: Mean Squared Error vs. K Principal Components') \n",
    "plt.legend()"
   ]
  },
  {
   "cell_type": "code",
   "execution_count": 300,
   "id": "367978ee-ab17-4de9-b145-fe24dbd48159",
   "metadata": {},
   "outputs": [
    {
     "name": "stdout",
     "output_type": "stream",
     "text": [
      "Poly Trick MSE: 0.5518735909436466\n"
     ]
    }
   ],
   "source": [
    "#\n",
    "#\n",
    "# Problem 2c: SVR Kernel Tricks w/ Optimum K=4 PCA Extraction\n",
    "#\n",
    "#\n",
    "pca = PCA(n_components=4)                   \n",
    "principalComps = pca.fit_transform(stdX)  \n",
    "    \n",
    "np.random.seed(0) \n",
    "trainX, validX, trainY, validY = train_test_split(principalComps, stdY, test_size = 0.2, random_state=0)\n",
    "    \n",
    "svrPoly = SVR(kernel='poly', C=50) # Kernel: poly\n",
    "svrPoly.fit(trainX, trainY)\n",
    "    \n",
    "predictedY = svrPoly.predict(validX)\n",
    "\n",
    "MSE = metrics.mean_squared_error(validY, predictedY)\n",
    "print('Poly Trick MSE:', MSE)"
   ]
  },
  {
   "cell_type": "code",
   "execution_count": 301,
   "id": "18637e9d-8cb2-4d7a-83ae-e95c33572266",
   "metadata": {},
   "outputs": [
    {
     "name": "stdout",
     "output_type": "stream",
     "text": [
      "RBF Trick MSE: 0.46499151364498814\n"
     ]
    }
   ],
   "source": [
    "# Kernel: RBF\n",
    "pca = PCA(n_components=4)                   \n",
    "principalComps = pca.fit_transform(stdX)  \n",
    "    \n",
    "np.random.seed(0) \n",
    "trainX, validX, trainY, validY = train_test_split(principalComps, stdY, test_size = 0.2, random_state=0)\n",
    "    \n",
    "svrRBF = SVR(kernel='rbf', C=50) \n",
    "svrRBF.fit(trainX, trainY)\n",
    "    \n",
    "predictedY = svrRBF.predict(validX)\n",
    "\n",
    "MSE = metrics.mean_squared_error(validY, predictedY)\n",
    "print('RBF Trick MSE:', MSE)"
   ]
  },
  {
   "cell_type": "code",
   "execution_count": 302,
   "id": "a7ce572f-8098-4e2b-bc35-facb25edfad6",
   "metadata": {},
   "outputs": [
    {
     "name": "stdout",
     "output_type": "stream",
     "text": [
      "Sigmoid Trick MSE: 87265.88370715863\n"
     ]
    }
   ],
   "source": [
    "# Kernel: Sigmoid\n",
    "pca = PCA(n_components=4)                   \n",
    "principalComps = pca.fit_transform(stdX)  \n",
    "    \n",
    "np.random.seed(0) \n",
    "trainX, validX, trainY, validY = train_test_split(principalComps, stdY, test_size = 0.2, random_state=0)\n",
    "    \n",
    "svrSig = SVR(kernel='sigmoid', C=50) \n",
    "svrSig.fit(trainX, trainY)\n",
    "    \n",
    "predictedY = svrSig.predict(validX)\n",
    "\n",
    "MSE = metrics.mean_squared_error(validY, predictedY)\n",
    "print('Sigmoid Trick MSE:', MSE)"
   ]
  },
  {
   "cell_type": "code",
   "execution_count": null,
   "id": "46cd20e6-9af4-4bd9-b08c-ecf1f602df01",
   "metadata": {},
   "outputs": [],
   "source": []
  }
 ],
 "metadata": {
  "kernelspec": {
   "display_name": "Python 3 (ipykernel)",
   "language": "python",
   "name": "python3"
  },
  "language_info": {
   "codemirror_mode": {
    "name": "ipython",
    "version": 3
   },
   "file_extension": ".py",
   "mimetype": "text/x-python",
   "name": "python",
   "nbconvert_exporter": "python",
   "pygments_lexer": "ipython3",
   "version": "3.9.12"
  }
 },
 "nbformat": 4,
 "nbformat_minor": 5
}
