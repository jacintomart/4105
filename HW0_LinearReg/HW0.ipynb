{
 "cells": [
  {
   "cell_type": "code",
   "execution_count": 630,
   "id": "9e2ec44f-f514-4e9f-8e89-fd80a7af21d7",
   "metadata": {},
   "outputs": [],
   "source": [
    "import numpy as np      #importing necessary libraries\n",
    "import pandas as pd\n",
    "import matplotlib.pyplot as plt\n",
    "import os"
   ]
  },
  {
   "cell_type": "code",
   "execution_count": 631,
   "id": "9083608c-2e97-4c60-8a19-5511ff6e9bc7",
   "metadata": {},
   "outputs": [
    {
     "data": {
      "text/plain": [
       "100"
      ]
     },
     "execution_count": 631,
     "metadata": {},
     "output_type": "execute_result"
    }
   ],
   "source": [
    "df = pd.read_csv(\"D3.csv\")\n",
    "df.head()    #get first column \n",
    "M = len(df)\n",
    "M"
   ]
  },
  {
   "cell_type": "code",
   "execution_count": 632,
   "id": "34845033-030e-4259-b264-9d2394129f7b",
   "metadata": {},
   "outputs": [
    {
     "name": "stdout",
     "output_type": "stream",
     "text": [
      "X1 =  [0.         0.04040404 0.08080808 0.12121212 0.16161616]\n",
      "Y =  [4.38754501 2.6796499  2.96848981 3.25406475 3.53637472]\n",
      "t =  100\n"
     ]
    }
   ],
   "source": [
    "#\n",
    "# Problem 1: Single variable \n",
    "#\n",
    "\n",
    "X1 = df.values[:,0]    #get values from first column (X1)\n",
    "Y = df.values[:,3]    #get values from last column (Y)\n",
    "m = len(Y)\n",
    "print('X1 = ', X1[: 5]) #show the first 5 rows of X1 and Y\n",
    "print('Y = ', Y[: 5])\n",
    "print('t = ', t)"
   ]
  },
  {
   "cell_type": "code",
   "execution_count": 633,
   "id": "42760e83-2cdd-4e93-831a-d2da035fba1b",
   "metadata": {},
   "outputs": [
    {
     "data": {
      "text/plain": [
       "Text(0.5, 1.0, 'Scatter plot of X1 vs. Y')"
      ]
     },
     "execution_count": 633,
     "metadata": {},
     "output_type": "execute_result"
    },
    {
     "data": {
      "image/png": "[encoded data removed]",
      "text/plain": [
       "<Figure size 720x432 with 1 Axes>"
      ]
     },
     "metadata": {
      "needs_background": "light"
     },
     "output_type": "display_data"
    }
   ],
   "source": [
    "plt.scatter(X1, Y, color = 'blue', marker = '+')\n",
    "plt.grid()\n",
    "plt.rcParams[\"figure.figsize\"] = (10,6)\n",
    "plt.xlabel('X1 Data')\n",
    "plt.ylabel('Y Data')\n",
    "plt.title('Scatter plot of X1 vs. Y')"
   ]
  },
  {
   "cell_type": "code",
   "execution_count": 634,
   "id": "acb3bcc8-35b4-4cbc-a31e-87c1b0429d60",
   "metadata": {},
   "outputs": [
    {
     "data": {
      "text/plain": [
       "array([[1.],\n",
       "       [1.],\n",
       "       [1.],\n",
       "       [1.],\n",
       "       [1.]])"
      ]
     },
     "execution_count": 634,
     "metadata": {},
     "output_type": "execute_result"
    }
   ],
   "source": [
    "X0 = np.ones((m,1))\n",
    "X0[:5]"
   ]
  },
  {
   "cell_type": "code",
   "execution_count": 635,
   "id": "90a67e80-af11-45ca-9fff-cc1aab60f794",
   "metadata": {},
   "outputs": [
    {
     "data": {
      "text/plain": [
       "array([[0.        ],\n",
       "       [0.04040404],\n",
       "       [0.08080808],\n",
       "       [0.12121212],\n",
       "       [0.16161616],\n",
       "       [0.2020202 ],\n",
       "       [0.24242424],\n",
       "       [0.28282828],\n",
       "       [0.32323232],\n",
       "       [0.36363636]])"
      ]
     },
     "execution_count": 635,
     "metadata": {},
     "output_type": "execute_result"
    }
   ],
   "source": [
    "X1trans = X1.reshape(m,1)    # turn X1 list into an m by 1 array\n",
    "X1trans[:10]"
   ]
  },
  {
   "cell_type": "code",
   "execution_count": 636,
   "id": "0552f10f-b40b-44ff-99b1-56be15345656",
   "metadata": {},
   "outputs": [
    {
     "data": {
      "text/plain": [
       "array([[1.        , 0.        ],\n",
       "       [1.        , 0.04040404],\n",
       "       [1.        , 0.08080808],\n",
       "       [1.        , 0.12121212],\n",
       "       [1.        , 0.16161616]])"
      ]
     },
     "execution_count": 636,
     "metadata": {},
     "output_type": "execute_result"
    }
   ],
   "source": [
    "# combine X0 and X1 arrays into one big X (aka variable/feature) array\n",
    "varsX1 = np.hstack((X0,X1trans))    \n",
    "varsX1[:5]"
   ]
  },
  {
   "cell_type": "code",
   "execution_count": 637,
   "id": "6c039cc2-1bd6-454a-92f1-6016da4bf528",
   "metadata": {},
   "outputs": [
    {
     "data": {
      "text/plain": [
       "array([0., 0.])"
      ]
     },
     "execution_count": 637,
     "metadata": {},
     "output_type": "execute_result"
    }
   ],
   "source": [
    "thetasX1 = np.zeros(2)    # thetas initialized to 0\n",
    "thetasX1"
   ]
  },
  {
   "cell_type": "code",
   "execution_count": 638,
   "id": "2ee413d4-1d39-4cd7-80c4-f67eaa49689e",
   "metadata": {},
   "outputs": [],
   "source": [
    "#loss function\n",
    "def loss(X, Y, theta):\n",
    "    \n",
    "    predictions = X.dot(theta)                # h(x) = theta * X\n",
    "    errors = np.subtract(predictions, Y)      # h(x) - Y\n",
    "    sqrErrors = np.square(errors)             # (h(x) - Y)^2\n",
    "    J = 1 / (2*m) * np.sum(sqrErrors)         # J = 1/2m * sigma( (h(x) - Y)^2 )\n",
    "    return J\n"
   ]
  },
  {
   "cell_type": "code",
   "execution_count": 639,
   "id": "6aa75ee6-6b06-439c-874a-3b8de9448002",
   "metadata": {},
   "outputs": [
    {
     "name": "stdout",
     "output_type": "stream",
     "text": [
      "The cost for the X1 trial thetas is: 5.524438459196242\n"
     ]
    }
   ],
   "source": [
    "cost = loss(varsX1, Y, thetasX1)\n",
    "print('The cost for the X1 trial thetas is:',cost)"
   ]
  },
  {
   "cell_type": "code",
   "execution_count": 640,
   "id": "3d7501f1-8140-46e5-9c8a-49d0ae5774a5",
   "metadata": {},
   "outputs": [],
   "source": [
    "# gradient descent function\n",
    "def gradient(X, Y, theta, alpha, iterations):\n",
    "    \n",
    "    lossHistory = np.zeros(iterations)\n",
    "    \n",
    "    for i in range(iterations):\n",
    "        predictions = X.dot(theta)\n",
    "        errors = np.subtract(predictions, Y)\n",
    "        derivative = alpha * (1/m) * X.transpose().dot(errors)\n",
    "        theta = theta - derivative\n",
    "        lossHistory[i] = loss(X, Y, theta)\n",
    "    \n",
    "    return theta, lossHistory\n"
   ]
  },
  {
   "cell_type": "code",
   "execution_count": 641,
   "id": "11631f11-9cfc-42ca-9547-b1e207cdc26e",
   "metadata": {},
   "outputs": [
    {
     "name": "stdout",
     "output_type": "stream",
     "text": [
      "Final thetas: [ 5.92794892 -2.03833663]\n",
      "X1 trial loss history [5.16999006 4.96338989 4.7855721  ... 0.98499308 0.98499308 0.98499308]\n"
     ]
    }
   ],
   "source": [
    "thetasX1 = [0.0, 0.0] \n",
    "iterations = 3000      # more iterations -> lower final loss\n",
    "alpha = 0.1           # higher alpha -> lower final loss\n",
    "thetasX1, lossHistoryX1 = gradient(varsX1, Y, thetasX1, alpha, iterations)\n",
    "print('Final thetas:', thetasX1)\n",
    "print('X1 trial loss history', lossHistoryX1)"
   ]
  },
  {
   "cell_type": "code",
   "execution_count": 642,
   "id": "8ec21359-e099-4fae-bd7f-8906fc8de9e1",
   "metadata": {},
   "outputs": [
    {
     "data": {
      "text/plain": [
       "<matplotlib.legend.Legend at 0x7fdcec060280>"
      ]
     },
     "execution_count": 642,
     "metadata": {},
     "output_type": "execute_result"
    },
    {
     "data": {
      "image/png": "[encoded data removed]",
      "text/plain": [
       "<Figure size 720x432 with 1 Axes>"
      ]
     },
     "metadata": {
      "needs_background": "light"
     },
     "output_type": "display_data"
    }
   ],
   "source": [
    "plt.scatter(varsX1[:,1], Y, color = 'red', marker = '+', label = 'Training Data') \n",
    "plt.plot(varsX1[:,1],varsX1.dot(thetasX1), color = 'green', label = 'Linear Regression') \n",
    " \n",
    "plt.rcParams[\"figure.figsize\"] = (10,6) \n",
    "plt.grid() \n",
    "plt.xlabel('X1 data') \n",
    "plt.ylabel('Y data') \n",
    "plt.title('Linear Regression Fit') \n",
    "plt.legend() "
   ]
  },
  {
   "cell_type": "code",
   "execution_count": 643,
   "id": "3537138f-7d36-4947-84d8-c2f5c2c7acc2",
   "metadata": {},
   "outputs": [
    {
     "data": {
      "text/plain": [
       "Text(0.5, 1.0, 'Convergence of Gradient Descent for X1')"
      ]
     },
     "execution_count": 643,
     "metadata": {},
     "output_type": "execute_result"
    },
    {
     "data": {
      "image/png": "[encoded data removed]",
      "text/plain": [
       "<Figure size 720x432 with 1 Axes>"
      ]
     },
     "metadata": {
      "needs_background": "light"
     },
     "output_type": "display_data"
    }
   ],
   "source": [
    "plt.plot(range(1, iterations + 1), lossHistoryX1, color = 'blue') \n",
    "plt.rcParams[\"figure.figsize\"] = (10,6) \n",
    "plt.grid() \n",
    "plt.xlabel('Number of iterations') \n",
    "plt.ylabel('Loss (J)') \n",
    "plt.title('Convergence of Gradient Descent for X1') "
   ]
  },
  {
   "cell_type": "code",
   "execution_count": 644,
   "id": "f3ff2ff3-5619-4153-b72a-c3f2b3f96149",
   "metadata": {},
   "outputs": [
    {
     "data": {
      "text/plain": [
       "array([[3.44      ],\n",
       "       [0.1349495 ],\n",
       "       [0.82989899],\n",
       "       [1.52484848],\n",
       "       [2.21979798],\n",
       "       [2.91474747],\n",
       "       [3.60969697],\n",
       "       [0.30464646],\n",
       "       [0.99959596],\n",
       "       [1.69454546]])"
      ]
     },
     "execution_count": 644,
     "metadata": {},
     "output_type": "execute_result"
    }
   ],
   "source": [
    "# Begin X2 trial \n",
    "\n",
    "X2 = df.values[:,1]    # get values from second column (X2)\n",
    "X2trans = X2.reshape(m,1)    # turn X2 list into an m by 1 array\n",
    "X2trans[:10]"
   ]
  },
  {
   "cell_type": "code",
   "execution_count": 645,
   "id": "ce38b3b5-89d9-4b7c-9f10-b8db1e75496b",
   "metadata": {},
   "outputs": [
    {
     "data": {
      "text/plain": [
       "array([[1.        , 3.44      ],\n",
       "       [1.        , 0.1349495 ],\n",
       "       [1.        , 0.82989899],\n",
       "       [1.        , 1.52484848],\n",
       "       [1.        , 2.21979798]])"
      ]
     },
     "execution_count": 645,
     "metadata": {},
     "output_type": "execute_result"
    }
   ],
   "source": [
    "# combine X0 and X2 arrays into one big X (aka variable/feature) array\n",
    "varsX2 = np.hstack((X0,X2trans))    \n",
    "varsX2[:5]"
   ]
  },
  {
   "cell_type": "code",
   "execution_count": 646,
   "id": "53f586ea-cfcb-4dfe-99ff-5ee6dc38e0e7",
   "metadata": {},
   "outputs": [
    {
     "name": "stdout",
     "output_type": "stream",
     "text": [
      "The cost for the X2 trial thetas is: 5.524438459196242\n"
     ]
    }
   ],
   "source": [
    "thetasX2 = [0.0, 0.0]\n",
    "cost2 = loss(varsX2, Y, thetasX2)\n",
    "print('The cost for the X2 trial thetas is:',cost2)"
   ]
  },
  {
   "cell_type": "code",
   "execution_count": 647,
   "id": "62b9651b-3965-4c55-864d-481710a7f1a2",
   "metadata": {},
   "outputs": [
    {
     "name": "stdout",
     "output_type": "stream",
     "text": [
      "Final thetas: [0.73606043 0.55760761]\n",
      "X2 trial loss history [3.90731819 3.66528504 3.62832072 ... 3.59936602 3.59936602 3.59936602]\n"
     ]
    }
   ],
   "source": [
    "iterations = 1500\n",
    "alpha = 0.1\n",
    "thetasX2, lossHistoryX2 = gradient(varsX2, Y, thetasX2, alpha, iterations)\n",
    "print('Final thetas:', thetasX2)\n",
    "print('X2 trial loss history', lossHistoryX2)"
   ]
  },
  {
   "cell_type": "code",
   "execution_count": 648,
   "id": "83045b6e-e963-4d7a-8e33-c4d249fd8e24",
   "metadata": {},
   "outputs": [
    {
     "data": {
      "text/plain": [
       "<matplotlib.legend.Legend at 0x7fdcec24ff10>"
      ]
     },
     "execution_count": 648,
     "metadata": {},
     "output_type": "execute_result"
    },
    {
     "data": {
      "image/png": "[encoded data removed]",
      "text/plain": [
       "<Figure size 720x432 with 1 Axes>"
      ]
     },
     "metadata": {
      "needs_background": "light"
     },
     "output_type": "display_data"
    }
   ],
   "source": [
    "plt.scatter(varsX2[:,1], Y, color = 'red', marker = '+', label = 'Training Data') \n",
    "plt.plot(varsX2[:,1],varsX2.dot(thetasX2), color = 'green', label = 'Linear Regression') \n",
    " \n",
    "plt.rcParams[\"figure.figsize\"] = (10,6) \n",
    "plt.grid() \n",
    "plt.xlabel('X2 data') \n",
    "plt.ylabel('Y data') \n",
    "plt.title('Linear Regression Fit for X2') \n",
    "plt.legend() "
   ]
  },
  {
   "cell_type": "code",
   "execution_count": 649,
   "id": "b64a2f25-7500-4e86-9eac-94acca767a25",
   "metadata": {},
   "outputs": [
    {
     "data": {
      "text/plain": [
       "Text(0.5, 1.0, 'Convergence of Gradient Descent for X2')"
      ]
     },
     "execution_count": 649,
     "metadata": {},
     "output_type": "execute_result"
    },
    {
     "data": {
      "image/png": "[encoded data removed]",
      "text/plain": [
       "<Figure size 720x432 with 1 Axes>"
      ]
     },
     "metadata": {
      "needs_background": "light"
     },
     "output_type": "display_data"
    }
   ],
   "source": [
    "plt.plot(range(1, iterations + 1), lossHistoryX2, color = 'blue') \n",
    "plt.rcParams[\"figure.figsize\"] = (10,6) \n",
    "plt.grid() \n",
    "plt.xlabel('Number of iterations') \n",
    "plt.ylabel('Loss (J)') \n",
    "plt.title('Convergence of Gradient Descent for X2') "
   ]
  },
  {
   "cell_type": "code",
   "execution_count": 650,
   "id": "a2d7c67e-e948-43ab-9c64-6fea97eda135",
   "metadata": {},
   "outputs": [
    {
     "data": {
      "text/plain": [
       "array([[0.44      ],\n",
       "       [0.88848485],\n",
       "       [1.3369697 ],\n",
       "       [1.78545454],\n",
       "       [2.23393939],\n",
       "       [2.68242424],\n",
       "       [3.13090909],\n",
       "       [3.57939394],\n",
       "       [0.02787879],\n",
       "       [0.47636364]])"
      ]
     },
     "execution_count": 650,
     "metadata": {},
     "output_type": "execute_result"
    }
   ],
   "source": [
    "# Begin X3 trial \n",
    "\n",
    "X3 = df.values[:,2]    # get values from second column (X3)\n",
    "X3trans = X3.reshape(m,1)    # turn X3 list into an m by 1 array\n",
    "X3trans[:10]"
   ]
  },
  {
   "cell_type": "code",
   "execution_count": 651,
   "id": "09147ddd-70c1-4a3f-ab0e-553ee239fe5f",
   "metadata": {},
   "outputs": [
    {
     "data": {
      "text/plain": [
       "array([[1.        , 0.44      ],\n",
       "       [1.        , 0.88848485],\n",
       "       [1.        , 1.3369697 ],\n",
       "       [1.        , 1.78545454],\n",
       "       [1.        , 2.23393939]])"
      ]
     },
     "execution_count": 651,
     "metadata": {},
     "output_type": "execute_result"
    }
   ],
   "source": [
    "# combine X0 and X3 arrays into one big X (aka variable/feature) array\n",
    "varsX3 = np.hstack((X0,X3trans))    \n",
    "varsX3[:5]"
   ]
  },
  {
   "cell_type": "code",
   "execution_count": 652,
   "id": "e30f3a37-af9f-49fc-b6b0-2f301a9afa29",
   "metadata": {},
   "outputs": [
    {
     "name": "stdout",
     "output_type": "stream",
     "text": [
      "The cost for the X3 trial thetas is: 5.524438459196242\n"
     ]
    }
   ],
   "source": [
    "thetasX3 = [0.0, 0.0]\n",
    "cost3 = loss(varsX3, Y, thetasX3)\n",
    "print('The cost for the X3 trial thetas is:', cost3)"
   ]
  },
  {
   "cell_type": "code",
   "execution_count": 653,
   "id": "4d433b2d-e603-47aa-987a-9cb4a21a0e49",
   "metadata": {},
   "outputs": [
    {
     "name": "stdout",
     "output_type": "stream",
     "text": [
      "Final thetas: [ 2.8714221  -0.52048288]\n",
      "X3 trial loss history [4.66843939 4.49602325 4.43685075 ... 3.62945112 3.62945112 3.62945112]\n"
     ]
    }
   ],
   "source": [
    "iterations = 1500\n",
    "alpha = 0.1\n",
    "thetasX3, lossHistoryX3 = gradient(varsX3, Y, thetasX3, alpha, iterations)\n",
    "print('Final thetas:', thetasX3)\n",
    "print('X3 trial loss history', lossHistoryX3)"
   ]
  },
  {
   "cell_type": "code",
   "execution_count": 654,
   "id": "2661293d-251e-47aa-9213-6f64805e5328",
   "metadata": {},
   "outputs": [
    {
     "data": {
      "text/plain": [
       "<matplotlib.legend.Legend at 0x7fdcec6f6130>"
      ]
     },
     "execution_count": 654,
     "metadata": {},
     "output_type": "execute_result"
    },
    {
     "data": {
      "image/png": "[encoded data removed]",
      "text/plain": [
       "<Figure size 720x432 with 1 Axes>"
      ]
     },
     "metadata": {
      "needs_background": "light"
     },
     "output_type": "display_data"
    }
   ],
   "source": [
    "plt.scatter(varsX3[:,1], Y, color = 'red', marker = '+', label = 'Training Data') \n",
    "plt.plot(varsX3[:,1],varsX3.dot(thetasX3), color = 'green', label = 'Linear Regression') \n",
    " \n",
    "plt.rcParams[\"figure.figsize\"] = (10,6) \n",
    "plt.grid() \n",
    "plt.xlabel('X3 data') \n",
    "plt.ylabel('Y data') \n",
    "plt.title('Linear Regression Fit for X3') \n",
    "plt.legend() "
   ]
  },
  {
   "cell_type": "code",
   "execution_count": 655,
   "id": "f381213b-1757-43b1-8639-1cce02c01d8a",
   "metadata": {},
   "outputs": [
    {
     "data": {
      "text/plain": [
       "Text(0.5, 1.0, 'Convergence of Gradient Descent for X3')"
      ]
     },
     "execution_count": 655,
     "metadata": {},
     "output_type": "execute_result"
    },
    {
     "data": {
      "image/png": "[encoded data removed]",
      "text/plain": [
       "<Figure size 720x432 with 1 Axes>"
      ]
     },
     "metadata": {
      "needs_background": "light"
     },
     "output_type": "display_data"
    }
   ],
   "source": [
    "plt.plot(range(1, iterations + 1), lossHistoryX3, color = 'blue') \n",
    "plt.rcParams[\"figure.figsize\"] = (10,6) \n",
    "plt.grid() \n",
    "plt.xlabel('Number of iterations') \n",
    "plt.ylabel('Loss (J)') \n",
    "plt.title('Convergence of Gradient Descent for X3') "
   ]
  },
  {
   "cell_type": "code",
   "execution_count": 656,
   "id": "4060c19d-9abf-4316-9699-a60cb3b2bcb4",
   "metadata": {},
   "outputs": [
    {
     "data": {
      "text/plain": [
       "array([[1.        , 0.        , 3.44      , 0.44      ],\n",
       "       [1.        , 0.04040404, 0.1349495 , 0.88848485],\n",
       "       [1.        , 0.08080808, 0.82989899, 1.3369697 ],\n",
       "       [1.        , 0.12121212, 1.52484848, 1.78545454],\n",
       "       [1.        , 0.16161616, 2.21979798, 2.23393939]])"
      ]
     },
     "execution_count": 656,
     "metadata": {},
     "output_type": "execute_result"
    }
   ],
   "source": [
    "#\n",
    "# Problem 2: All variables X1, X2, and X3 at once\n",
    "#\n",
    "\n",
    "varsTotal = np.hstack((X0, X1trans, X2trans, X3trans))\n",
    "varsTotal[:5]"
   ]
  },
  {
   "cell_type": "code",
   "execution_count": 657,
   "id": "84903dd9-9f0e-4c76-a329-db85391e4c16",
   "metadata": {},
   "outputs": [
    {
     "data": {
      "text/plain": [
       "[0.0, 0.0, 0.0, 0.0]"
      ]
     },
     "execution_count": 657,
     "metadata": {},
     "output_type": "execute_result"
    }
   ],
   "source": [
    "thetasTotal = [0.0, 0.0, 0.0, 0.0]\n",
    "thetasTotal"
   ]
  },
  {
   "cell_type": "code",
   "execution_count": 658,
   "id": "4162e950-543d-4bb3-8576-09e397f15991",
   "metadata": {},
   "outputs": [],
   "source": [
    "# loss function\n",
    "def loss(X, Y, theta):\n",
    "    \n",
    "    predictions = X.dot(theta)                # h(x) = theta * X\n",
    "    errors = np.subtract(predictions, Y)      # h(x) - Y\n",
    "    sqrErrors = np.square(errors)             # (h(x) - Y)^2\n",
    "    J = 1 / (2*m) * np.sum(sqrErrors)         # J = 1/2m * sigma( (h(x) - Y)^2 )\n",
    "    return J\n"
   ]
  },
  {
   "cell_type": "code",
   "execution_count": 659,
   "id": "698a0f29-e08d-4455-b674-17dec4c150f6",
   "metadata": {},
   "outputs": [
    {
     "name": "stdout",
     "output_type": "stream",
     "text": [
      "The cost for the combined X thetas is: 5.524438459196242\n"
     ]
    }
   ],
   "source": [
    "cost = loss(varsTotal, Y, thetasTotal)\n",
    "print('The cost for the combined X thetas is:',cost)"
   ]
  },
  {
   "cell_type": "code",
   "execution_count": 660,
   "id": "1e3128d8-687a-4d23-9dd6-3c3f8bde670c",
   "metadata": {},
   "outputs": [],
   "source": [
    "# gradient descent function\n",
    "def gradient(X, Y, theta, alpha, iterations):\n",
    "    \n",
    "    lossHistory = np.zeros(iterations)\n",
    "    \n",
    "    for i in range(iterations):\n",
    "        predictions = X.dot(theta)\n",
    "        errors = np.subtract(predictions, Y)\n",
    "        derivative = alpha * (1/m) * X.transpose().dot(errors)\n",
    "        theta = theta - derivative\n",
    "        lossHistory[i] = loss(X, Y, theta)\n",
    "    \n",
    "    return theta, lossHistory\n"
   ]
  },
  {
   "cell_type": "code",
   "execution_count": 661,
   "id": "649d24ae-c064-4365-9585-413ee1a27f8b",
   "metadata": {},
   "outputs": [
    {
     "name": "stdout",
     "output_type": "stream",
     "text": [
      "Final thetas: [ 5.31416563 -2.00371905  0.53256359 -0.26560164]\n",
      "Combined X loss history [4.13064348 3.51770697 3.12758306 ... 0.73846424 0.73846424 0.73846424]\n"
     ]
    }
   ],
   "source": [
    "iterations = 1500    # doesn't have a huge impact after 1500 but lower values give suboptimal loss\n",
    "alpha = 0.1         # lower value gives suboptimal loss history \n",
    "thetasTotal, lossHistoryTotal = gradient(varsTotal, Y, thetasTotal, alpha, iterations)\n",
    "print('Final thetas:', thetasTotal)\n",
    "print('Combined X loss history', lossHistoryTotal)"
   ]
  },
  {
   "cell_type": "code",
   "execution_count": 662,
   "id": "b1772e1a-02a8-4800-a901-f879868e544c",
   "metadata": {},
   "outputs": [
    {
     "data": {
      "text/plain": [
       "Text(0.5, 1.0, 'Convergence of Gradient Descent')"
      ]
     },
     "execution_count": 662,
     "metadata": {},
     "output_type": "execute_result"
    },
    {
     "data": {
      "image/png": "[encoded data removed]",
      "text/plain": [
       "<Figure size 720x432 with 1 Axes>"
      ]
     },
     "metadata": {
      "needs_background": "light"
     },
     "output_type": "display_data"
    }
   ],
   "source": [
    "plt.plot(range(1, iterations + 1), lossHistoryTotal, color = 'blue') \n",
    "plt.rcParams[\"figure.figsize\"] = (10,6) \n",
    "plt.grid() \n",
    "plt.xlabel('Number of iterations') \n",
    "plt.ylabel('Loss (J)') \n",
    "plt.title('Convergence of Gradient Descent') "
   ]
  },
  {
   "cell_type": "code",
   "execution_count": 663,
   "id": "76481034-f8c1-4326-878b-ef28684a65be",
   "metadata": {},
   "outputs": [
    {
     "data": {
      "text/plain": [
       "array([ 5.31416563, -2.00371905,  0.53256359, -0.26560164])"
      ]
     },
     "execution_count": 663,
     "metadata": {},
     "output_type": "execute_result"
    }
   ],
   "source": [
    "thetasTotal"
   ]
  },
  {
   "cell_type": "code",
   "execution_count": 664,
   "id": "8355532c-11ce-4ebc-a564-42b6c82f1892",
   "metadata": {},
   "outputs": [
    {
     "name": "stdout",
     "output_type": "stream",
     "text": [
      "y1 = 3.577408529345461\n",
      "y2 = 12.49298398163733\n",
      "y3 = 12.202020733827325\n"
     ]
    }
   ],
   "source": [
    "# Problem 2 part 4\n",
    "x1 = [1,1,1] \n",
    "y1 = thetasTotal[0]*x1[0] + thetasTotal[1]*x1[1] + thetasTotal[2]*x1[2] + thetasTotal[3]\n",
    "\n",
    "x2 = [2,0,4] \n",
    "y2 = thetasTotal[0]*x2[0] + thetasTotal[1]*x2[1] + thetasTotal[2]*x2[2] + thetasTotal[3]\n",
    "\n",
    "x3 = [3,2,1] \n",
    "y3 = thetasTotal[0]*x3[0] + thetasTotal[1]*x3[1] + thetasTotal[2]*x3[2] + thetasTotal[3]\n",
    "\n",
    "print('y1 =',y1)\n",
    "print('y2 =',y2)\n",
    "print('y3 =',y3)"
   ]
  }
 ],
 "metadata": {
  "kernelspec": {
   "display_name": "Python 3 (ipykernel)",
   "language": "python",
   "name": "python3"
  },
  "language_info": {
   "codemirror_mode": {
    "name": "ipython",
    "version": 3
   },
   "file_extension": ".py",
   "mimetype": "text/x-python",
   "name": "python",
   "nbconvert_exporter": "python",
   "pygments_lexer": "ipython3",
   "version": "3.9.12"
  }
 },
 "nbformat": 4,
 "nbformat_minor": 5
}
